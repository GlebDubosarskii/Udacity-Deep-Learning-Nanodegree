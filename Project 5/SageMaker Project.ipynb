{
 "cells": [
  {
   "cell_type": "markdown",
   "metadata": {},
   "source": [
    "# Creating a Sentiment Analysis Web App\n",
    "## Using PyTorch and SageMaker\n",
    "\n",
    "_Deep Learning Nanodegree Program | Deployment_\n",
    "\n",
    "---\n",
    "\n",
    "Now that we have a basic understanding of how SageMaker works we will try to use it to construct a complete project from end to end. Our goal will be to have a simple web page which a user can use to enter a movie review. The web page will then send the review off to our deployed model which will predict the sentiment of the entered review.\n",
    "\n",
    "## Instructions\n",
    "\n",
    "Some template code has already been provided for you, and you will need to implement additional functionality to successfully complete this notebook. You will not need to modify the included code beyond what is requested. Sections that begin with '**TODO**' in the header indicate that you need to complete or implement some portion within them. Instructions will be provided for each section and the specifics of the implementation are marked in the code block with a `# TODO: ...` comment. Please be sure to read the instructions carefully!\n",
    "\n",
    "In addition to implementing code, there will be questions for you to answer which relate to the task and your implementation. Each section where you will answer a question is preceded by a '**Question:**' header. Carefully read each question and provide your answer below the '**Answer:**' header by editing the Markdown cell.\n",
    "\n",
    "> **Note**: Code and Markdown cells can be executed using the **Shift+Enter** keyboard shortcut. In addition, a cell can be edited by typically clicking it (double-click for Markdown cells) or by pressing **Enter** while it is highlighted.\n",
    "\n",
    "## General Outline\n",
    "\n",
    "Recall the general outline for SageMaker projects using a notebook instance.\n",
    "\n",
    "1. Download or otherwise retrieve the data.\n",
    "2. Process / Prepare the data.\n",
    "3. Upload the processed data to S3.\n",
    "4. Train a chosen model.\n",
    "5. Test the trained model (typically using a batch transform job).\n",
    "6. Deploy the trained model.\n",
    "7. Use the deployed model.\n",
    "\n",
    "For this project, you will be following the steps in the general outline with some modifications. \n",
    "\n",
    "First, you will not be testing the model in its own step. You will still be testing the model, however, you will do it by deploying your model and then using the deployed model by sending the test data to it. One of the reasons for doing this is so that you can make sure that your deployed model is working correctly before moving forward.\n",
    "\n",
    "In addition, you will deploy and use your trained model a second time. In the second iteration you will customize the way that your trained model is deployed by including some of your own code. In addition, your newly deployed model will be used in the sentiment analysis web app."
   ]
  },
  {
   "cell_type": "code",
   "execution_count": 1,
   "metadata": {},
   "outputs": [
    {
     "name": "stdout",
     "output_type": "stream",
     "text": [
      "Requirement already satisfied: sagemaker==1.72.0 in /home/ec2-user/anaconda3/envs/pytorch_p36/lib/python3.6/site-packages (1.72.0)\n",
      "Requirement already satisfied: numpy>=1.9.0 in /home/ec2-user/anaconda3/envs/pytorch_p36/lib/python3.6/site-packages (from sagemaker==1.72.0) (1.18.1)\n",
      "Requirement already satisfied: boto3>=1.14.12 in /home/ec2-user/anaconda3/envs/pytorch_p36/lib/python3.6/site-packages (from sagemaker==1.72.0) (1.17.16)\n",
      "Requirement already satisfied: importlib-metadata>=1.4.0 in /home/ec2-user/anaconda3/envs/pytorch_p36/lib/python3.6/site-packages (from sagemaker==1.72.0) (3.4.0)\n",
      "Requirement already satisfied: scipy>=0.19.0 in /home/ec2-user/anaconda3/envs/pytorch_p36/lib/python3.6/site-packages (from sagemaker==1.72.0) (1.4.1)\n",
      "Requirement already satisfied: smdebug-rulesconfig==0.1.4 in /home/ec2-user/anaconda3/envs/pytorch_p36/lib/python3.6/site-packages (from sagemaker==1.72.0) (0.1.4)\n",
      "Requirement already satisfied: protobuf3-to-dict>=0.1.5 in /home/ec2-user/anaconda3/envs/pytorch_p36/lib/python3.6/site-packages (from sagemaker==1.72.0) (0.1.5)\n",
      "Requirement already satisfied: protobuf>=3.1 in /home/ec2-user/anaconda3/envs/pytorch_p36/lib/python3.6/site-packages (from sagemaker==1.72.0) (3.11.4)\n",
      "Requirement already satisfied: packaging>=20.0 in /home/ec2-user/anaconda3/envs/pytorch_p36/lib/python3.6/site-packages (from sagemaker==1.72.0) (20.1)\n",
      "Requirement already satisfied: s3transfer<0.4.0,>=0.3.0 in /home/ec2-user/anaconda3/envs/pytorch_p36/lib/python3.6/site-packages (from boto3>=1.14.12->sagemaker==1.72.0) (0.3.4)\n",
      "Requirement already satisfied: jmespath<1.0.0,>=0.7.1 in /home/ec2-user/anaconda3/envs/pytorch_p36/lib/python3.6/site-packages (from boto3>=1.14.12->sagemaker==1.72.0) (0.10.0)\n",
      "Requirement already satisfied: botocore<1.21.0,>=1.20.16 in /home/ec2-user/anaconda3/envs/pytorch_p36/lib/python3.6/site-packages (from boto3>=1.14.12->sagemaker==1.72.0) (1.20.16)\n",
      "Requirement already satisfied: urllib3<1.27,>=1.25.4 in /home/ec2-user/anaconda3/envs/pytorch_p36/lib/python3.6/site-packages (from botocore<1.21.0,>=1.20.16->boto3>=1.14.12->sagemaker==1.72.0) (1.25.10)\n",
      "Requirement already satisfied: python-dateutil<3.0.0,>=2.1 in /home/ec2-user/anaconda3/envs/pytorch_p36/lib/python3.6/site-packages (from botocore<1.21.0,>=1.20.16->boto3>=1.14.12->sagemaker==1.72.0) (2.8.1)\n",
      "Requirement already satisfied: zipp>=0.5 in /home/ec2-user/anaconda3/envs/pytorch_p36/lib/python3.6/site-packages (from importlib-metadata>=1.4.0->sagemaker==1.72.0) (2.2.0)\n",
      "Requirement already satisfied: typing-extensions>=3.6.4 in /home/ec2-user/anaconda3/envs/pytorch_p36/lib/python3.6/site-packages (from importlib-metadata>=1.4.0->sagemaker==1.72.0) (3.7.4.3)\n",
      "Requirement already satisfied: six in /home/ec2-user/anaconda3/envs/pytorch_p36/lib/python3.6/site-packages (from packaging>=20.0->sagemaker==1.72.0) (1.14.0)\n",
      "Requirement already satisfied: pyparsing>=2.0.2 in /home/ec2-user/anaconda3/envs/pytorch_p36/lib/python3.6/site-packages (from packaging>=20.0->sagemaker==1.72.0) (2.4.6)\n",
      "Requirement already satisfied: setuptools in /home/ec2-user/anaconda3/envs/pytorch_p36/lib/python3.6/site-packages (from protobuf>=3.1->sagemaker==1.72.0) (45.2.0.post20200210)\n"
     ]
    }
   ],
   "source": [
    "# Make sure that we use SageMaker 1.x\n",
    "!pip install sagemaker==1.72.0"
   ]
  },
  {
   "cell_type": "markdown",
   "metadata": {},
   "source": [
    "## Step 1: Downloading the data\n",
    "\n",
    "As in the XGBoost in SageMaker notebook, we will be using the [IMDb dataset](http://ai.stanford.edu/~amaas/data/sentiment/)\n",
    "\n",
    "> Maas, Andrew L., et al. [Learning Word Vectors for Sentiment Analysis](http://ai.stanford.edu/~amaas/data/sentiment/). In _Proceedings of the 49th Annual Meeting of the Association for Computational Linguistics: Human Language Technologies_. Association for Computational Linguistics, 2011."
   ]
  },
  {
   "cell_type": "code",
   "execution_count": 2,
   "metadata": {},
   "outputs": [
    {
     "name": "stdout",
     "output_type": "stream",
     "text": [
      "mkdir: cannot create directory ‘../data’: File exists\n",
      "--2021-03-04 17:49:13--  http://ai.stanford.edu/~amaas/data/sentiment/aclImdb_v1.tar.gz\n",
      "Resolving ai.stanford.edu (ai.stanford.edu)... 171.64.68.10\n",
      "Connecting to ai.stanford.edu (ai.stanford.edu)|171.64.68.10|:80... connected.\n",
      "HTTP request sent, awaiting response... 200 OK\n",
      "Length: 84125825 (80M) [application/x-gzip]\n",
      "Saving to: ‘../data/aclImdb_v1.tar.gz’\n",
      "\n",
      "../data/aclImdb_v1. 100%[===================>]  80.23M  31.9MB/s    in 2.5s    \n",
      "\n",
      "2021-03-04 17:49:16 (31.9 MB/s) - ‘../data/aclImdb_v1.tar.gz’ saved [84125825/84125825]\n",
      "\n"
     ]
    }
   ],
   "source": [
    "%mkdir ../data\n",
    "!wget -O ../data/aclImdb_v1.tar.gz http://ai.stanford.edu/~amaas/data/sentiment/aclImdb_v1.tar.gz\n",
    "!tar -zxf ../data/aclImdb_v1.tar.gz -C ../data"
   ]
  },
  {
   "cell_type": "markdown",
   "metadata": {},
   "source": [
    "## Step 2: Preparing and Processing the data\n",
    "\n",
    "Also, as in the XGBoost notebook, we will be doing some initial data processing. The first few steps are the same as in the XGBoost example. To begin with, we will read in each of the reviews and combine them into a single input structure. Then, we will split the dataset into a training set and a testing set."
   ]
  },
  {
   "cell_type": "code",
   "execution_count": 3,
   "metadata": {},
   "outputs": [],
   "source": [
    "import os\n",
    "import glob\n",
    "\n",
    "def read_imdb_data(data_dir='../data/aclImdb'):\n",
    "    data = {}\n",
    "    labels = {}\n",
    "    \n",
    "    for data_type in ['train', 'test']:\n",
    "        data[data_type] = {}\n",
    "        labels[data_type] = {}\n",
    "        \n",
    "        for sentiment in ['pos', 'neg']:\n",
    "            data[data_type][sentiment] = []\n",
    "            labels[data_type][sentiment] = []\n",
    "            \n",
    "            path = os.path.join(data_dir, data_type, sentiment, '*.txt')\n",
    "            files = glob.glob(path)\n",
    "            \n",
    "            for f in files:\n",
    "                with open(f) as review:\n",
    "                    data[data_type][sentiment].append(review.read())\n",
    "                    # Here we represent a positive review by '1' and a negative review by '0'\n",
    "                    labels[data_type][sentiment].append(1 if sentiment == 'pos' else 0)\n",
    "                    \n",
    "            assert len(data[data_type][sentiment]) == len(labels[data_type][sentiment]), \\\n",
    "                    \"{}/{} data size does not match labels size\".format(data_type, sentiment)\n",
    "                \n",
    "    return data, labels"
   ]
  },
  {
   "cell_type": "code",
   "execution_count": 4,
   "metadata": {},
   "outputs": [
    {
     "name": "stdout",
     "output_type": "stream",
     "text": [
      "IMDB reviews: train = 12500 pos / 12500 neg, test = 12500 pos / 12500 neg\n"
     ]
    }
   ],
   "source": [
    "data, labels = read_imdb_data()\n",
    "print(\"IMDB reviews: train = {} pos / {} neg, test = {} pos / {} neg\".format(\n",
    "            len(data['train']['pos']), len(data['train']['neg']),\n",
    "            len(data['test']['pos']), len(data['test']['neg'])))"
   ]
  },
  {
   "cell_type": "markdown",
   "metadata": {},
   "source": [
    "Now that we've read the raw training and testing data from the downloaded dataset, we will combine the positive and negative reviews and shuffle the resulting records."
   ]
  },
  {
   "cell_type": "code",
   "execution_count": 5,
   "metadata": {},
   "outputs": [],
   "source": [
    "from sklearn.utils import shuffle\n",
    "\n",
    "def prepare_imdb_data(data, labels):\n",
    "    \"\"\"Prepare training and test sets from IMDb movie reviews.\"\"\"\n",
    "    \n",
    "    #Combine positive and negative reviews and labels\n",
    "    data_train = data['train']['pos'] + data['train']['neg']\n",
    "    data_test = data['test']['pos'] + data['test']['neg']\n",
    "    labels_train = labels['train']['pos'] + labels['train']['neg']\n",
    "    labels_test = labels['test']['pos'] + labels['test']['neg']\n",
    "    \n",
    "    #Shuffle reviews and corresponding labels within training and test sets\n",
    "    data_train, labels_train = shuffle(data_train, labels_train)\n",
    "    data_test, labels_test = shuffle(data_test, labels_test)\n",
    "    \n",
    "    # Return a unified training data, test data, training labels, test labets\n",
    "    return data_train, data_test, labels_train, labels_test"
   ]
  },
  {
   "cell_type": "code",
   "execution_count": 6,
   "metadata": {},
   "outputs": [
    {
     "name": "stdout",
     "output_type": "stream",
     "text": [
      "IMDb reviews (combined): train = 25000, test = 25000\n"
     ]
    }
   ],
   "source": [
    "train_X, test_X, train_y, test_y = prepare_imdb_data(data, labels)\n",
    "print(\"IMDb reviews (combined): train = {}, test = {}\".format(len(train_X), len(test_X)))"
   ]
  },
  {
   "cell_type": "markdown",
   "metadata": {},
   "source": [
    "Now that we have our training and testing sets unified and prepared, we should do a quick check and see an example of the data our model will be trained on. This is generally a good idea as it allows you to see how each of the further processing steps affects the reviews and it also ensures that the data has been loaded correctly."
   ]
  },
  {
   "cell_type": "code",
   "execution_count": 7,
   "metadata": {},
   "outputs": [
    {
     "name": "stdout",
     "output_type": "stream",
     "text": [
      "I always felt that a good film should have a plot. This particular film was missing one, and I feel that it would have been more effective with a plot. This was made even worse by the fact that it seemed to go on forever; I was anxious for it to finally end. However, I just noticed that it was only 123 minutes long; it felt like four hours. Not only was there no plot but the film also lacked a notable conflict. It's not the worst movie I've seen, but I used to say that it was until I saw \"The Fast And The Furious\". So, don't think this review of mine is from someone who needs nothing but action. I actually hate most action films out today; it's just that this film is all the way on the other side of the spectrum. Not much really happens in this movie. However, the scenery and costumes were nice.\n",
      "0\n"
     ]
    }
   ],
   "source": [
    "print(train_X[100])\n",
    "print(train_y[100])"
   ]
  },
  {
   "cell_type": "markdown",
   "metadata": {},
   "source": [
    "The first step in processing the reviews is to make sure that any html tags that appear should be removed. In addition we wish to tokenize our input, that way words such as *entertained* and *entertaining* are considered the same with regard to sentiment analysis."
   ]
  },
  {
   "cell_type": "code",
   "execution_count": 8,
   "metadata": {},
   "outputs": [],
   "source": [
    "import nltk\n",
    "from nltk.corpus import stopwords\n",
    "from nltk.stem.porter import *\n",
    "\n",
    "import re\n",
    "from bs4 import BeautifulSoup\n",
    "\n",
    "def review_to_words(review):\n",
    "    nltk.download(\"stopwords\", quiet=True)\n",
    "    stemmer = PorterStemmer()\n",
    "    \n",
    "    text = BeautifulSoup(review, \"html.parser\").get_text() # Remove HTML tags\n",
    "    text = re.sub(r\"[^a-zA-Z0-9]\", \" \", text.lower()) # Convert to lower case\n",
    "    words = text.split() # Split string into words\n",
    "    words = [w for w in words if w not in stopwords.words(\"english\")] # Remove stopwords\n",
    "    words = [PorterStemmer().stem(w) for w in words] # stem\n",
    "    \n",
    "    return words"
   ]
  },
  {
   "cell_type": "markdown",
   "metadata": {},
   "source": [
    "The `review_to_words` method defined above uses `BeautifulSoup` to remove any html tags that appear and uses the `nltk` package to tokenize the reviews. As a check to ensure we know how everything is working, try applying `review_to_words` to one of the reviews in the training set."
   ]
  },
  {
   "cell_type": "code",
   "execution_count": 9,
   "metadata": {},
   "outputs": [
    {
     "data": {
      "text/plain": [
       "'I always felt that a good film should have a plot. This particular film was missing one, and I feel that it would have been more effective with a plot. This was made even worse by the fact that it seemed to go on forever; I was anxious for it to finally end. However, I just noticed that it was only 123 minutes long; it felt like four hours. Not only was there no plot but the film also lacked a notable conflict. It\\'s not the worst movie I\\'ve seen, but I used to say that it was until I saw \"The Fast And The Furious\". So, don\\'t think this review of mine is from someone who needs nothing but action. I actually hate most action films out today; it\\'s just that this film is all the way on the other side of the spectrum. Not much really happens in this movie. However, the scenery and costumes were nice.'"
      ]
     },
     "execution_count": 9,
     "metadata": {},
     "output_type": "execute_result"
    }
   ],
   "source": [
    "train_X[100]"
   ]
  },
  {
   "cell_type": "code",
   "execution_count": 10,
   "metadata": {},
   "outputs": [
    {
     "name": "stdout",
     "output_type": "stream",
     "text": [
      "['alway', 'felt', 'good', 'film', 'plot', 'particular', 'film', 'miss', 'one', 'feel', 'would', 'effect', 'plot', 'made', 'even', 'wors', 'fact', 'seem', 'go', 'forev', 'anxiou', 'final', 'end', 'howev', 'notic', '123', 'minut', 'long', 'felt', 'like', 'four', 'hour', 'plot', 'film', 'also', 'lack', 'notabl', 'conflict', 'worst', 'movi', 'seen', 'use', 'say', 'saw', 'fast', 'furiou', 'think', 'review', 'mine', 'someon', 'need', 'noth', 'action', 'actual', 'hate', 'action', 'film', 'today', 'film', 'way', 'side', 'spectrum', 'much', 'realli', 'happen', 'movi', 'howev', 'sceneri', 'costum', 'nice']\n"
     ]
    }
   ],
   "source": [
    "# TODO: Apply review_to_words to a review (train_X[100] or any other review)\n",
    "print(review_to_words(train_X[100]))"
   ]
  },
  {
   "cell_type": "markdown",
   "metadata": {},
   "source": [
    "**Question:** Above we mentioned that `review_to_words` method removes html formatting and allows us to tokenize the words found in a review, for example, converting *entertained* and *entertaining* into *entertain* so that they are treated as though they are the same word. What else, if anything, does this method do to the input?"
   ]
  },
  {
   "cell_type": "markdown",
   "metadata": {},
   "source": [
    "**Answer:**"
   ]
  },
  {
   "cell_type": "markdown",
   "metadata": {},
   "source": [
    "The method below applies the `review_to_words` method to each of the reviews in the training and testing datasets. In addition it caches the results. This is because performing this processing step can take a long time. This way if you are unable to complete the notebook in the current session, you can come back without needing to process the data a second time."
   ]
  },
  {
   "cell_type": "code",
   "execution_count": 11,
   "metadata": {},
   "outputs": [],
   "source": [
    "import pickle\n",
    "\n",
    "cache_dir = os.path.join(\"../cache\", \"sentiment_analysis\")  # where to store cache files\n",
    "os.makedirs(cache_dir, exist_ok=True)  # ensure cache directory exists\n",
    "\n",
    "def preprocess_data(data_train, data_test, labels_train, labels_test,\n",
    "                    cache_dir=cache_dir, cache_file=\"preprocessed_data.pkl\"):\n",
    "    \"\"\"Convert each review to words; read from cache if available.\"\"\"\n",
    "\n",
    "    # If cache_file is not None, try to read from it first\n",
    "    cache_data = None\n",
    "    if cache_file is not None:\n",
    "        try:\n",
    "            with open(os.path.join(cache_dir, cache_file), \"rb\") as f:\n",
    "                cache_data = pickle.load(f)\n",
    "            print(\"Read preprocessed data from cache file:\", cache_file)\n",
    "        except:\n",
    "            pass  # unable to read from cache, but that's okay\n",
    "    \n",
    "    # If cache is missing, then do the heavy lifting\n",
    "    if cache_data is None:\n",
    "        # Preprocess training and test data to obtain words for each review\n",
    "        #words_train = list(map(review_to_words, data_train))\n",
    "        #words_test = list(map(review_to_words, data_test))\n",
    "        words_train = [review_to_words(review) for review in data_train]\n",
    "        words_test = [review_to_words(review) for review in data_test]\n",
    "        \n",
    "        # Write to cache file for future runs\n",
    "        if cache_file is not None:\n",
    "            cache_data = dict(words_train=words_train, words_test=words_test,\n",
    "                              labels_train=labels_train, labels_test=labels_test)\n",
    "            with open(os.path.join(cache_dir, cache_file), \"wb\") as f:\n",
    "                pickle.dump(cache_data, f)\n",
    "            print(\"Wrote preprocessed data to cache file:\", cache_file)\n",
    "    else:\n",
    "        # Unpack data loaded from cache file\n",
    "        words_train, words_test, labels_train, labels_test = (cache_data['words_train'],\n",
    "                cache_data['words_test'], cache_data['labels_train'], cache_data['labels_test'])\n",
    "    \n",
    "    return words_train, words_test, labels_train, labels_test"
   ]
  },
  {
   "cell_type": "code",
   "execution_count": 12,
   "metadata": {},
   "outputs": [
    {
     "name": "stdout",
     "output_type": "stream",
     "text": [
      "Read preprocessed data from cache file: preprocessed_data.pkl\n"
     ]
    }
   ],
   "source": [
    "# Preprocess data\n",
    "train_X, test_X, train_y, test_y = preprocess_data(train_X, test_X, train_y, test_y)"
   ]
  },
  {
   "cell_type": "markdown",
   "metadata": {},
   "source": [
    "## Transform the data\n",
    "\n",
    "In the XGBoost notebook we transformed the data from its word representation to a bag-of-words feature representation. For the model we are going to construct in this notebook we will construct a feature representation which is very similar. To start, we will represent each word as an integer. Of course, some of the words that appear in the reviews occur very infrequently and so likely don't contain much information for the purposes of sentiment analysis. The way we will deal with this problem is that we will fix the size of our working vocabulary and we will only include the words that appear most frequently. We will then combine all of the infrequent words into a single category and, in our case, we will label it as `1`.\n",
    "\n",
    "Since we will be using a recurrent neural network, it will be convenient if the length of each review is the same. To do this, we will fix a size for our reviews and then pad short reviews with the category 'no word' (which we will label `0`) and truncate long reviews."
   ]
  },
  {
   "cell_type": "markdown",
   "metadata": {},
   "source": [
    "### (TODO) Create a word dictionary\n",
    "\n",
    "To begin with, we need to construct a way to map words that appear in the reviews to integers. Here we fix the size of our vocabulary (including the 'no word' and 'infrequent' categories) to be `5000` but you may wish to change this to see how it affects the model.\n",
    "\n",
    "> **TODO:** Complete the implementation for the `build_dict()` method below. Note that even though the vocab_size is set to `5000`, we only want to construct a mapping for the most frequently appearing `4998` words. This is because we want to reserve the special labels `0` for 'no word' and `1` for 'infrequent word'."
   ]
  },
  {
   "cell_type": "code",
   "execution_count": 13,
   "metadata": {},
   "outputs": [
    {
     "data": {
      "text/plain": [
       "['watch',\n",
       " 'kid',\n",
       " 'film',\n",
       " 'year',\n",
       " 'miss',\n",
       " 'come',\n",
       " 'tiger',\n",
       " 'first',\n",
       " 'came',\n",
       " 'never',\n",
       " 'even',\n",
       " 'saw',\n",
       " 'bad',\n",
       " 'news',\n",
       " 'bear',\n",
       " 'even',\n",
       " 'though',\n",
       " '70',\n",
       " 'work',\n",
       " 'guy',\n",
       " 'arrang',\n",
       " 'financ',\n",
       " 'movi',\n",
       " 'warrior',\n",
       " 'man',\n",
       " 'would',\n",
       " 'king',\n",
       " 'rocki',\n",
       " 'horror',\n",
       " 'pictur',\n",
       " 'show',\n",
       " 'among',\n",
       " 'other',\n",
       " 'like',\n",
       " 'check',\n",
       " 'old',\n",
       " 'small',\n",
       " 'movi',\n",
       " 'find',\n",
       " 'peopl',\n",
       " 'gone',\n",
       " 'great',\n",
       " 'career',\n",
       " 'despit',\n",
       " 'less',\n",
       " 'great',\n",
       " 'movi',\n",
       " 'earli',\n",
       " 'minut',\n",
       " 'movi',\n",
       " 'could',\n",
       " 'take',\n",
       " 'jump',\n",
       " 'end',\n",
       " 'credit',\n",
       " 'see',\n",
       " 'young',\n",
       " 'actor',\n",
       " 'movi',\n",
       " 'gone',\n",
       " 'bigger',\n",
       " 'better',\n",
       " 'thing',\n",
       " 'least',\n",
       " 'watch',\n",
       " 'appear',\n",
       " 'would',\n",
       " 'creat',\n",
       " 'interest',\n",
       " 'plot',\n",
       " 'act',\n",
       " 'job',\n",
       " 'lo',\n",
       " 'behold',\n",
       " 'spi',\n",
       " 'we',\n",
       " 'craven',\n",
       " 'name',\n",
       " 'credit',\n",
       " 'electr',\n",
       " 'gaffer',\n",
       " 'alreadi',\n",
       " 'made',\n",
       " 'two',\n",
       " 'three',\n",
       " 'earli',\n",
       " 'shocker',\n",
       " 'yet',\n",
       " 'creat',\n",
       " 'freddi',\n",
       " 'krueger',\n",
       " 'made',\n",
       " 'scream',\n",
       " 'movi',\n",
       " 'mayb',\n",
       " 'owe',\n",
       " 'favor',\n",
       " 'help',\n",
       " 'pic',\n",
       " 'surpris',\n",
       " 'fred',\n",
       " 'j',\n",
       " 'lincoln',\n",
       " 'cast',\n",
       " 'credit',\n",
       " 'aesop',\n",
       " 'wacki',\n",
       " 'charact',\n",
       " 'movi',\n",
       " 'f',\n",
       " 'j',\n",
       " 'lincoln',\n",
       " '70',\n",
       " 'year',\n",
       " 'ago',\n",
       " 'appear',\n",
       " 'produc',\n",
       " 'adult',\n",
       " 'film',\n",
       " 'associ',\n",
       " 'adult',\n",
       " 'spoof',\n",
       " 'ozporn',\n",
       " 'titl',\n",
       " 'funnier',\n",
       " 'tiger',\n",
       " 'attempt',\n",
       " 'humor',\n",
       " 'combin',\n",
       " 'let',\n",
       " 'fact',\n",
       " 'adult',\n",
       " 'actor',\n",
       " 'place',\n",
       " 'kid',\n",
       " 'movi',\n",
       " 'indic',\n",
       " 'peopl',\n",
       " 'make',\n",
       " 'movi',\n",
       " 'must',\n",
       " 'asleep',\n",
       " 'wheel']"
      ]
     },
     "execution_count": 13,
     "metadata": {},
     "output_type": "execute_result"
    }
   ],
   "source": [
    "train_X[1]"
   ]
  },
  {
   "cell_type": "code",
   "execution_count": 14,
   "metadata": {},
   "outputs": [],
   "source": [
    "import numpy as np\n",
    "\n",
    "def build_dict(data, vocab_size = 5000):\n",
    "    \"\"\"Construct and return a dictionary mapping each of the most frequently appearing words to a unique integer.\"\"\"\n",
    "    \n",
    "    # TODO: Determine how often each word appears in `data`. Note that `data` is a list of sentences and that a\n",
    "    #       sentence is a list of words.\n",
    "    \n",
    "    word_count = {} # A dict storing the words that appear in the reviews along with how often they occur\n",
    "    \n",
    "    for review in data:\n",
    "        #print('review',review)\n",
    "        for w in review:\n",
    "            word_count[w]=1 if not w in word_count else word_count[w]+1\n",
    "    \n",
    "    # TODO: Sort the words found in `data` so that sorted_words[0] is the most frequently appearing word and\n",
    "    #       sorted_words[-1] is the least frequently appearing word.\n",
    "    \n",
    "    word_count = sorted(word_count.items(), key=lambda a: a[1], reverse=True)\n",
    "    \n",
    "    #print('word_count',word_count)\n",
    "    \n",
    "    sorted_words = [w[0] for w in word_count]\n",
    "    \n",
    "    #print('sorted_words',sorted_words)\n",
    "    \n",
    "    word_dict = {} # This is what we are building, a dictionary that translates words into integers\n",
    "    for idx, word in enumerate(sorted_words[:vocab_size - 2]): # The -2 is so that we save room for the 'no word'\n",
    "        word_dict[word] = idx + 2                              # 'infrequent' labels\n",
    "        \n",
    "    return word_dict"
   ]
  },
  {
   "cell_type": "code",
   "execution_count": 15,
   "metadata": {},
   "outputs": [],
   "source": [
    "word_dict = build_dict(train_X)"
   ]
  },
  {
   "cell_type": "markdown",
   "metadata": {},
   "source": [
    "**Question:** What are the five most frequently appearing (tokenized) words in the training set? Does it makes sense that these words appear frequently in the training set?"
   ]
  },
  {
   "cell_type": "markdown",
   "metadata": {},
   "source": [
    "**Answer:** 'movi', 'film', 'one', 'like', 'time'"
   ]
  },
  {
   "cell_type": "code",
   "execution_count": 16,
   "metadata": {},
   "outputs": [
    {
     "data": {
      "text/plain": [
       "dict_items([('movi', 2), ('film', 3), ('one', 4), ('like', 5), ('time', 6), ('good', 7), ('make', 8), ('charact', 9), ('get', 10), ('see', 11), ('watch', 12), ('stori', 13), ('even', 14), ('would', 15), ('realli', 16), ('well', 17), ('scene', 18), ('look', 19), ('show', 20), ('much', 21), ('end', 22), ('peopl', 23), ('bad', 24), ('go', 25), ('great', 26), ('also', 27), ('first', 28), ('love', 29), ('think', 30), ('way', 31), ('act', 32), ('play', 33), ('made', 34), ('thing', 35), ('could', 36), ('know', 37), ('say', 38), ('seem', 39), ('work', 40), ('plot', 41), ('two', 42), ('actor', 43), ('year', 44), ('come', 45), ('mani', 46), ('seen', 47), ('take', 48), ('life', 49), ('want', 50), ('never', 51), ('littl', 52), ('best', 53), ('tri', 54), ('man', 55), ('ever', 56), ('give', 57), ('better', 58), ('still', 59), ('perform', 60), ('find', 61), ('feel', 62), ('part', 63), ('back', 64), ('use', 65), ('someth', 66), ('director', 67), ('actual', 68), ('interest', 69), ('lot', 70), ('real', 71), ('old', 72), ('cast', 73), ('though', 74), ('live', 75), ('star', 76), ('enjoy', 77), ('guy', 78), ('anoth', 79), ('new', 80), ('role', 81), ('noth', 82), ('10', 83), ('funni', 84), ('music', 85), ('point', 86), ('start', 87), ('set', 88), ('girl', 89), ('origin', 90), ('day', 91), ('world', 92), ('everi', 93), ('believ', 94), ('turn', 95), ('quit', 96), ('us', 97), ('direct', 98), ('thought', 99), ('fact', 100), ('minut', 101), ('horror', 102), ('kill', 103), ('action', 104), ('comedi', 105), ('pretti', 106), ('young', 107), ('wonder', 108), ('happen', 109), ('around', 110), ('got', 111), ('effect', 112), ('right', 113), ('long', 114), ('howev', 115), ('big', 116), ('line', 117), ('famili', 118), ('enough', 119), ('seri', 120), ('may', 121), ('need', 122), ('fan', 123), ('bit', 124), ('script', 125), ('beauti', 126), ('person', 127), ('becom', 128), ('without', 129), ('must', 130), ('alway', 131), ('friend', 132), ('tell', 133), ('reason', 134), ('saw', 135), ('last', 136), ('final', 137), ('kid', 138), ('almost', 139), ('put', 140), ('least', 141), ('sure', 142), ('done', 143), ('whole', 144), ('place', 145), ('complet', 146), ('kind', 147), ('expect', 148), ('differ', 149), ('shot', 150), ('far', 151), ('mean', 152), ('anyth', 153), ('book', 154), ('laugh', 155), ('might', 156), ('name', 157), ('sinc', 158), ('begin', 159), ('2', 160), ('probabl', 161), ('woman', 162), ('help', 163), ('entertain', 164), ('let', 165), ('screen', 166), ('call', 167), ('tv', 168), ('moment', 169), ('away', 170), ('read', 171), ('yet', 172), ('rather', 173), ('worst', 174), ('run', 175), ('fun', 176), ('lead', 177), ('hard', 178), ('audienc', 179), ('idea', 180), ('anyon', 181), ('episod', 182), ('american', 183), ('found', 184), ('appear', 185), ('bore', 186), ('especi', 187), ('although', 188), ('hope', 189), ('cours', 190), ('keep', 191), ('anim', 192), ('job', 193), ('goe', 194), ('move', 195), ('sens', 196), ('dvd', 197), ('version', 198), ('war', 199), ('money', 200), ('someon', 201), ('mind', 202), ('mayb', 203), ('problem', 204), ('true', 205), ('hous', 206), ('everyth', 207), ('nice', 208), ('second', 209), ('rate', 210), ('three', 211), ('night', 212), ('follow', 213), ('face', 214), ('recommend', 215), ('main', 216), ('product', 217), ('worth', 218), ('leav', 219), ('human', 220), ('special', 221), ('excel', 222), ('togeth', 223), ('wast', 224), ('everyon', 225), ('sound', 226), ('john', 227), ('hand', 228), ('1', 229), ('father', 230), ('later', 231), ('eye', 232), ('said', 233), ('view', 234), ('instead', 235), ('review', 236), ('boy', 237), ('high', 238), ('hour', 239), ('miss', 240), ('talk', 241), ('classic', 242), ('wife', 243), ('understand', 244), ('left', 245), ('care', 246), ('black', 247), ('death', 248), ('open', 249), ('murder', 250), ('write', 251), ('half', 252), ('head', 253), ('rememb', 254), ('chang', 255), ('viewer', 256), ('fight', 257), ('gener', 258), ('surpris', 259), ('short', 260), ('includ', 261), ('die', 262), ('fall', 263), ('less', 264), ('els', 265), ('entir', 266), ('piec', 267), ('involv', 268), ('pictur', 269), ('simpli', 270), ('home', 271), ('power', 272), ('top', 273), ('total', 274), ('usual', 275), ('budget', 276), ('attempt', 277), ('suppos', 278), ('releas', 279), ('hollywood', 280), ('terribl', 281), ('song', 282), ('men', 283), ('possibl', 284), ('featur', 285), ('portray', 286), ('disappoint', 287), ('poor', 288), ('3', 289), ('coupl', 290), ('stupid', 291), ('camera', 292), ('dead', 293), ('wrong', 294), ('produc', 295), ('low', 296), ('video', 297), ('either', 298), ('aw', 299), ('definit', 300), ('except', 301), ('rest', 302), ('given', 303), ('absolut', 304), ('women', 305), ('lack', 306), ('word', 307), ('writer', 308), ('titl', 309), ('talent', 310), ('decid', 311), ('full', 312), ('perfect', 313), ('along', 314), ('style', 315), ('close', 316), ('truli', 317), ('school', 318), ('emot', 319), ('save', 320), ('sex', 321), ('age', 322), ('next', 323), ('bring', 324), ('mr', 325), ('case', 326), ('killer', 327), ('heart', 328), ('comment', 329), ('sort', 330), ('creat', 331), ('perhap', 332), ('came', 333), ('brother', 334), ('sever', 335), ('joke', 336), ('art', 337), ('dialogu', 338), ('game', 339), ('small', 340), ('base', 341), ('flick', 342), ('written', 343), ('sequenc', 344), ('meet', 345), ('earli', 346), ('often', 347), ('other', 348), ('mother', 349), ('develop', 350), ('humor', 351), ('actress', 352), ('consid', 353), ('dark', 354), ('guess', 355), ('amaz', 356), ('unfortun', 357), ('light', 358), ('lost', 359), ('exampl', 360), ('cinema', 361), ('drama', 362), ('white', 363), ('ye', 364), ('experi', 365), ('imagin', 366), ('mention', 367), ('stop', 368), ('natur', 369), ('forc', 370), ('manag', 371), ('felt', 372), ('present', 373), ('cut', 374), ('children', 375), ('fail', 376), ('son', 377), ('qualiti', 378), ('car', 379), ('support', 380), ('ask', 381), ('hit', 382), ('side', 383), ('voic', 384), ('extrem', 385), ('impress', 386), ('wors', 387), ('evil', 388), ('stand', 389), ('went', 390), ('certainli', 391), ('basic', 392), ('oh', 393), ('overal', 394), ('favorit', 395), ('horribl', 396), ('mysteri', 397), ('number', 398), ('type', 399), ('danc', 400), ('wait', 401), ('hero', 402), ('alreadi', 403), ('5', 404), ('learn', 405), ('matter', 406), ('4', 407), ('michael', 408), ('genr', 409), ('fine', 410), ('despit', 411), ('throughout', 412), ('walk', 413), ('success', 414), ('histori', 415), ('question', 416), ('zombi', 417), ('town', 418), ('relationship', 419), ('realiz', 420), ('past', 421), ('child', 422), ('daughter', 423), ('late', 424), ('b', 425), ('wish', 426), ('credit', 427), ('hate', 428), ('event', 429), ('theme', 430), ('touch', 431), ('citi', 432), ('today', 433), ('sometim', 434), ('behind', 435), ('god', 436), ('twist', 437), ('sit', 438), ('deal', 439), ('stay', 440), ('annoy', 441), ('abl', 442), ('rent', 443), ('pleas', 444), ('edit', 445), ('blood', 446), ('deserv', 447), ('comic', 448), ('anyway', 449), ('appar', 450), ('soon', 451), ('gave', 452), ('etc', 453), ('level', 454), ('slow', 455), ('chanc', 456), ('score', 457), ('bodi', 458), ('brilliant', 459), ('incred', 460), ('figur', 461), ('situat', 462), ('major', 463), ('self', 464), ('stuff', 465), ('decent', 466), ('element', 467), ('return', 468), ('dream', 469), ('obvious', 470), ('order', 471), ('continu', 472), ('pace', 473), ('ridicul', 474), ('happi', 475), ('highli', 476), ('add', 477), ('group', 478), ('thank', 479), ('ladi', 480), ('novel', 481), ('speak', 482), ('pain', 483), ('career', 484), ('shoot', 485), ('strang', 486), ('heard', 487), ('sad', 488), ('husband', 489), ('polic', 490), ('import', 491), ('break', 492), ('took', 493), ('cannot', 494), ('strong', 495), ('robert', 496), ('predict', 497), ('violenc', 498), ('hilari', 499), ('recent', 500), ('countri', 501), ('known', 502), ('particularli', 503), ('pick', 504), ('documentari', 505), ('season', 506), ('critic', 507), ('jame', 508), ('compar', 509), ('obviou', 510), ('alon', 511), ('told', 512), ('state', 513), ('rock', 514), ('visual', 515), ('offer', 516), ('exist', 517), ('theater', 518), ('opinion', 519), ('gore', 520), ('hold', 521), ('crap', 522), ('result', 523), ('realiti', 524), ('hear', 525), ('room', 526), ('clich', 527), ('effort', 528), ('thriller', 529), ('caus', 530), ('explain', 531), ('sequel', 532), ('serious', 533), ('king', 534), ('local', 535), ('ago', 536), ('hell', 537), ('none', 538), ('note', 539), ('allow', 540), ('sister', 541), ('david', 542), ('simpl', 543), ('femal', 544), ('deliv', 545), ('ok', 546), ('convinc', 547), ('class', 548), ('check', 549), ('suspens', 550), ('win', 551), ('buy', 552), ('oscar', 553), ('huge', 554), ('valu', 555), ('sexual', 556), ('scari', 557), ('cool', 558), ('excit', 559), ('similar', 560), ('provid', 561), ('exactli', 562), ('apart', 563), ('shown', 564), ('avoid', 565), ('seriou', 566), ('english', 567), ('taken', 568), ('whose', 569), ('cinematographi', 570), ('shock', 571), ('polit', 572), ('spoiler', 573), ('offic', 574), ('across', 575), ('middl', 576), ('street', 577), ('pass', 578), ('messag', 579), ('charm', 580), ('silli', 581), ('somewhat', 582), ('modern', 583), ('confus', 584), ('filmmak', 585), ('form', 586), ('tale', 587), ('singl', 588), ('jack', 589), ('mostli', 590), ('carri', 591), ('attent', 592), ('william', 593), ('sing', 594), ('five', 595), ('subject', 596), ('prove', 597), ('richard', 598), ('team', 599), ('stage', 600), ('cop', 601), ('unlik', 602), ('georg', 603), ('televis', 604), ('monster', 605), ('earth', 606), ('cover', 607), ('villain', 608), ('pay', 609), ('marri', 610), ('toward', 611), ('build', 612), ('parent', 613), ('pull', 614), ('due', 615), ('respect', 616), ('fill', 617), ('four', 618), ('dialog', 619), ('remind', 620), ('futur', 621), ('typic', 622), ('weak', 623), ('7', 624), ('cheap', 625), ('intellig', 626), ('atmospher', 627), ('british', 628), ('clearli', 629), ('80', 630), ('non', 631), ('paul', 632), ('dog', 633), ('artist', 634), ('knew', 635), ('fast', 636), ('8', 637), ('crime', 638), ('easili', 639), ('escap', 640), ('adult', 641), ('doubt', 642), ('detail', 643), ('date', 644), ('fire', 645), ('romant', 646), ('member', 647), ('gun', 648), ('drive', 649), ('straight', 650), ('fit', 651), ('beyond', 652), ('attack', 653), ('imag', 654), ('upon', 655), ('posit', 656), ('whether', 657), ('peter', 658), ('fantast', 659), ('appreci', 660), ('aspect', 661), ('captur', 662), ('ten', 663), ('plan', 664), ('discov', 665), ('remain', 666), ('near', 667), ('period', 668), ('air', 669), ('realist', 670), ('mark', 671), ('red', 672), ('dull', 673), ('adapt', 674), ('within', 675), ('spend', 676), ('lose', 677), ('materi', 678), ('color', 679), ('chase', 680), ('mari', 681), ('storylin', 682), ('forget', 683), ('bunch', 684), ('clear', 685), ('lee', 686), ('victim', 687), ('nearli', 688), ('box', 689), ('york', 690), ('inspir', 691), ('match', 692), ('finish', 693), ('mess', 694), ('standard', 695), ('easi', 696), ('truth', 697), ('busi', 698), ('suffer', 699), ('dramat', 700), ('bill', 701), ('space', 702), ('western', 703), ('e', 704), ('list', 705), ('battl', 706), ('notic', 707), ('de', 708), ('french', 709), ('ad', 710), ('9', 711), ('tom', 712), ('larg', 713), ('among', 714), ('eventu', 715), ('accept', 716), ('train', 717), ('agre', 718), ('spirit', 719), ('soundtrack', 720), ('third', 721), ('teenag', 722), ('adventur', 723), ('soldier', 724), ('drug', 725), ('sorri', 726), ('famou', 727), ('suggest', 728), ('babi', 729), ('cri', 730), ('normal', 731), ('ultim', 732), ('troubl', 733), ('contain', 734), ('certain', 735), ('cultur', 736), ('romanc', 737), ('rare', 738), ('lame', 739), ('somehow', 740), ('disney', 741), ('mix', 742), ('gone', 743), ('cartoon', 744), ('student', 745), ('reveal', 746), ('fear', 747), ('suck', 748), ('kept', 749), ('attract', 750), ('appeal', 751), ('premis', 752), ('design', 753), ('secret', 754), ('greatest', 755), ('shame', 756), ('throw', 757), ('copi', 758), ('scare', 759), ('wit', 760), ('admit', 761), ('america', 762), ('relat', 763), ('brought', 764), ('particular', 765), ('screenplay', 766), ('whatev', 767), ('pure', 768), ('70', 769), ('averag', 770), ('harri', 771), ('master', 772), ('describ', 773), ('treat', 774), ('male', 775), ('20', 776), ('issu', 777), ('fantasi', 778), ('warn', 779), ('inde', 780), ('background', 781), ('forward', 782), ('project', 783), ('free', 784), ('memor', 785), ('japanes', 786), ('poorli', 787), ('award', 788), ('locat', 789), ('potenti', 790), ('amus', 791), ('struggl', 792), ('weird', 793), ('magic', 794), ('societi', 795), ('okay', 796), ('accent', 797), ('doctor', 798), ('imdb', 799), ('hot', 800), ('water', 801), ('express', 802), ('30', 803), ('alien', 804), ('dr', 805), ('odd', 806), ('choic', 807), ('crazi', 808), ('fiction', 809), ('studio', 810), ('control', 811), ('becam', 812), ('masterpiec', 813), ('fli', 814), ('difficult', 815), ('joe', 816), ('scream', 817), ('costum', 818), ('lover', 819), ('refer', 820), ('uniqu', 821), ('remak', 822), ('vampir', 823), ('girlfriend', 824), ('prison', 825), ('execut', 826), ('wear', 827), ('jump', 828), ('unless', 829), ('wood', 830), ('creepi', 831), ('cheesi', 832), ('superb', 833), ('otherwis', 834), ('parti', 835), ('roll', 836), ('ghost', 837), ('public', 838), ('mad', 839), ('depict', 840), ('moral', 841), ('badli', 842), ('week', 843), ('earlier', 844), ('jane', 845), ('dumb', 846), ('fi', 847), ('flaw', 848), ('grow', 849), ('deep', 850), ('sci', 851), ('cat', 852), ('maker', 853), ('footag', 854), ('connect', 855), ('older', 856), ('bother', 857), ('plenti', 858), ('outsid', 859), ('stick', 860), ('gay', 861), ('catch', 862), ('co', 863), ('plu', 864), ('popular', 865), ('equal', 866), ('social', 867), ('quickli', 868), ('disturb', 869), ('perfectli', 870), ('dress', 871), ('era', 872), ('90', 873), ('mistak', 874), ('lie', 875), ('ride', 876), ('previou', 877), ('combin', 878), ('concept', 879), ('band', 880), ('rich', 881), ('answer', 882), ('surviv', 883), ('front', 884), ('sweet', 885), ('christma', 886), ('insid', 887), ('eat', 888), ('concern', 889), ('bare', 890), ('beat', 891), ('ben', 892), ('listen', 893), ('c', 894), ('term', 895), ('serv', 896), ('meant', 897), ('la', 898), ('german', 899), ('hardli', 900), ('stereotyp', 901), ('law', 902), ('innoc', 903), ('desper', 904), ('promis', 905), ('memori', 906), ('cute', 907), ('intent', 908), ('inform', 909), ('steal', 910), ('variou', 911), ('brain', 912), ('post', 913), ('tone', 914), ('island', 915), ('amount', 916), ('track', 917), ('compani', 918), ('nuditi', 919), ('claim', 920), ('store', 921), ('50', 922), ('flat', 923), ('hair', 924), ('univers', 925), ('land', 926), ('danger', 927), ('kick', 928), ('scott', 929), ('fairli', 930), ('player', 931), ('step', 932), ('plain', 933), ('crew', 934), ('toni', 935), ('share', 936), ('centuri', 937), ('tast', 938), ('achiev', 939), ('engag', 940), ('cold', 941), ('travel', 942), ('rip', 943), ('suit', 944), ('record', 945), ('sadli', 946), ('manner', 947), ('spot', 948), ('wrote', 949), ('tension', 950), ('fascin', 951), ('intens', 952), ('familiar', 953), ('depth', 954), ('burn', 955), ('remark', 956), ('destroy', 957), ('histor', 958), ('sleep', 959), ('purpos', 960), ('languag', 961), ('ignor', 962), ('ruin', 963), ('delight', 964), ('italian', 965), ('unbeliev', 966), ('soul', 967), ('collect', 968), ('abil', 969), ('clever', 970), ('detect', 971), ('violent', 972), ('rape', 973), ('reach', 974), ('door', 975), ('trash', 976), ('liter', 977), ('scienc', 978), ('reveng', 979), ('caught', 980), ('commun', 981), ('creatur', 982), ('trip', 983), ('approach', 984), ('intrigu', 985), ('fashion', 986), ('paint', 987), ('introduc', 988), ('skill', 989), ('channel', 990), ('complex', 991), ('camp', 992), ('christian', 993), ('hole', 994), ('extra', 995), ('immedi', 996), ('mental', 997), ('limit', 998), ('ann', 999), ('mere', 1000), ('slightli', 1001), ('comput', 1002), ('6', 1003), ('million', 1004), ('slasher', 1005), ('conclus', 1006), ('suddenli', 1007), ('imposs', 1008), ('crimin', 1009), ('teen', 1010), ('neither', 1011), ('physic', 1012), ('spent', 1013), ('nation', 1014), ('respons', 1015), ('planet', 1016), ('receiv', 1017), ('fake', 1018), ('sick', 1019), ('blue', 1020), ('bizarr', 1021), ('embarrass', 1022), ('indian', 1023), ('15', 1024), ('ring', 1025), ('drop', 1026), ('pop', 1027), ('drag', 1028), ('haunt', 1029), ('pointless', 1030), ('suspect', 1031), ('search', 1032), ('edg', 1033), ('handl', 1034), ('biggest', 1035), ('common', 1036), ('hurt', 1037), ('arriv', 1038), ('faith', 1039), ('technic', 1040), ('angel', 1041), ('genuin', 1042), ('dad', 1043), ('f', 1044), ('awesom', 1045), ('solid', 1046), ('former', 1047), ('colleg', 1048), ('focu', 1049), ('van', 1050), ('count', 1051), ('heavi', 1052), ('tear', 1053), ('wall', 1054), ('rais', 1055), ('visit', 1056), ('younger', 1057), ('laughabl', 1058), ('fair', 1059), ('excus', 1060), ('sign', 1061), ('cult', 1062), ('key', 1063), ('tough', 1064), ('motion', 1065), ('desir', 1066), ('super', 1067), ('stun', 1068), ('addit', 1069), ('exploit', 1070), ('cloth', 1071), ('tortur', 1072), ('smith', 1073), ('davi', 1074), ('race', 1075), ('cross', 1076), ('author', 1077), ('jim', 1078), ('compel', 1079), ('minor', 1080), ('consist', 1081), ('focus', 1082), ('commit', 1083), ('chemistri', 1084), ('pathet', 1085), ('park', 1086), ('obsess', 1087), ('frank', 1088), ('tradit', 1089), ('grade', 1090), ('asid', 1091), ('60', 1092), ('brutal', 1093), ('steve', 1094), ('somewher', 1095), ('opportun', 1096), ('rule', 1097), ('depress', 1098), ('explor', 1099), ('grant', 1100), ('u', 1101), ('honest', 1102), ('besid', 1103), ('dub', 1104), ('anti', 1105), ('trailer', 1106), ('intend', 1107), ('bar', 1108), ('regard', 1109), ('west', 1110), ('scientist', 1111), ('longer', 1112), ('judg', 1113), ('decad', 1114), ('silent', 1115), ('creativ', 1116), ('armi', 1117), ('wild', 1118), ('g', 1119), ('stewart', 1120), ('south', 1121), ('draw', 1122), ('road', 1123), ('govern', 1124), ('boss', 1125), ('ex', 1126), ('practic', 1127), ('club', 1128), ('festiv', 1129), ('surprisingli', 1130), ('gang', 1131), ('motiv', 1132), ('green', 1133), ('redeem', 1134), ('london', 1135), ('page', 1136), ('display', 1137), ('aliv', 1138), ('idiot', 1139), ('militari', 1140), ('machin', 1141), ('thrill', 1142), ('repeat', 1143), ('folk', 1144), ('100', 1145), ('nobodi', 1146), ('yeah', 1147), ('40', 1148), ('garbag', 1149), ('journey', 1150), ('ground', 1151), ('smile', 1152), ('tire', 1153), ('bought', 1154), ('mood', 1155), ('stone', 1156), ('cost', 1157), ('sam', 1158), ('noir', 1159), ('mouth', 1160), ('agent', 1161), ('terrif', 1162), ('requir', 1163), ('utterli', 1164), ('honestli', 1165), ('sexi', 1166), ('area', 1167), ('report', 1168), ('geniu', 1169), ('humour', 1170), ('glad', 1171), ('investig', 1172), ('enter', 1173), ('serial', 1174), ('narr', 1175), ('occasion', 1176), ('passion', 1177), ('climax', 1178), ('marriag', 1179), ('industri', 1180), ('studi', 1181), ('nowher', 1182), ('charli', 1183), ('center', 1184), ('ship', 1185), ('demon', 1186), ('bear', 1187), ('loos', 1188), ('hors', 1189), ('wow', 1190), ('hang', 1191), ('graphic', 1192), ('admir', 1193), ('giant', 1194), ('send', 1195), ('damn', 1196), ('loud', 1197), ('rel', 1198), ('subtl', 1199), ('profession', 1200), ('nake', 1201), ('blow', 1202), ('bottom', 1203), ('insult', 1204), ('batman', 1205), ('doubl', 1206), ('boyfriend', 1207), ('r', 1208), ('kelli', 1209), ('initi', 1210), ('frame', 1211), ('opera', 1212), ('gem', 1213), ('church', 1214), ('cinemat', 1215), ('challeng', 1216), ('drawn', 1217), ('affect', 1218), ('j', 1219), ('seek', 1220), ('fulli', 1221), ('evid', 1222), ('nightmar', 1223), ('l', 1224), ('essenti', 1225), ('arm', 1226), ('conflict', 1227), ('christoph', 1228), ('grace', 1229), ('henri', 1230), ('wind', 1231), ('assum', 1232), ('narrat', 1233), ('witch', 1234), ('push', 1235), ('hunt', 1236), ('chri', 1237), ('wise', 1238), ('month', 1239), ('nomin', 1240), ('repres', 1241), ('affair', 1242), ('sceneri', 1243), ('avail', 1244), ('hide', 1245), ('thu', 1246), ('bond', 1247), ('justic', 1248), ('smart', 1249), ('flashback', 1250), ('interview', 1251), ('outstand', 1252), ('presenc', 1253), ('satisfi', 1254), ('constantli', 1255), ('central', 1256), ('bed', 1257), ('sell', 1258), ('content', 1259), ('iron', 1260), ('gag', 1261), ('everybodi', 1262), ('hotel', 1263), ('slowli', 1264), ('hire', 1265), ('system', 1266), ('hey', 1267), ('charl', 1268), ('adam', 1269), ('individu', 1270), ('thrown', 1271), ('jone', 1272), ('allen', 1273), ('mediocr', 1274), ('billi', 1275), ('lesson', 1276), ('ray', 1277), ('cameo', 1278), ('photographi', 1279), ('pari', 1280), ('fellow', 1281), ('strike', 1282), ('absurd', 1283), ('brief', 1284), ('rise', 1285), ('independ', 1286), ('neg', 1287), ('impact', 1288), ('phone', 1289), ('model', 1290), ('born', 1291), ('ill', 1292), ('spoil', 1293), ('fresh', 1294), ('angl', 1295), ('abus', 1296), ('likabl', 1297), ('discuss', 1298), ('hill', 1299), ('ahead', 1300), ('sight', 1301), ('sent', 1302), ('photograph', 1303), ('occur', 1304), ('logic', 1305), ('shine', 1306), ('blame', 1307), ('bruce', 1308), ('mainli', 1309), ('skip', 1310), ('commerci', 1311), ('forev', 1312), ('surround', 1313), ('held', 1314), ('segment', 1315), ('teacher', 1316), ('blond', 1317), ('zero', 1318), ('satir', 1319), ('summer', 1320), ('resembl', 1321), ('trap', 1322), ('six', 1323), ('fool', 1324), ('queen', 1325), ('ball', 1326), ('twice', 1327), ('tragedi', 1328), ('sub', 1329), ('pack', 1330), ('reaction', 1331), ('bomb', 1332), ('will', 1333), ('protagonist', 1334), ('hospit', 1335), ('sport', 1336), ('mile', 1337), ('vote', 1338), ('trust', 1339), ('mom', 1340), ('jerri', 1341), ('drink', 1342), ('encount', 1343), ('plane', 1344), ('current', 1345), ('program', 1346), ('station', 1347), ('al', 1348), ('choos', 1349), ('martin', 1350), ('celebr', 1351), ('join', 1352), ('lord', 1353), ('tragic', 1354), ('round', 1355), ('field', 1356), ('favourit', 1357), ('vision', 1358), ('robot', 1359), ('jean', 1360), ('tie', 1361), ('arthur', 1362), ('fortun', 1363), ('roger', 1364), ('random', 1365), ('dread', 1366), ('intern', 1367), ('psycholog', 1368), ('epic', 1369), ('prefer', 1370), ('nonsens', 1371), ('improv', 1372), ('formula', 1373), ('highlight', 1374), ('legend', 1375), ('pleasur', 1376), ('tape', 1377), ('11', 1378), ('dollar', 1379), ('object', 1380), ('thin', 1381), ('wide', 1382), ('gorgeou', 1383), ('porn', 1384), ('fox', 1385), ('buddi', 1386), ('ugli', 1387), ('influenc', 1388), ('prepar', 1389), ('nasti', 1390), ('ii', 1391), ('supposedli', 1392), ('reflect', 1393), ('warm', 1394), ('progress', 1395), ('youth', 1396), ('worthi', 1397), ('unusu', 1398), ('latter', 1399), ('length', 1400), ('crash', 1401), ('superior', 1402), ('childhood', 1403), ('shop', 1404), ('seven', 1405), ('remot', 1406), ('theatr', 1407), ('funniest', 1408), ('disgust', 1409), ('pilot', 1410), ('paid', 1411), ('trick', 1412), ('fell', 1413), ('castl', 1414), ('convers', 1415), ('rob', 1416), ('gangster', 1417), ('establish', 1418), ('disast', 1419), ('suicid', 1420), ('heaven', 1421), ('ident', 1422), ('disappear', 1423), ('mine', 1424), ('heroin', 1425), ('tend', 1426), ('decis', 1427), ('mask', 1428), ('forgotten', 1429), ('singer', 1430), ('brian', 1431), ('partner', 1432), ('alan', 1433), ('desert', 1434), ('recogn', 1435), ('thoroughli', 1436), ('sky', 1437), ('stuck', 1438), ('ms', 1439), ('p', 1440), ('replac', 1441), ('accur', 1442), ('market', 1443), ('clue', 1444), ('eddi', 1445), ('commentari', 1446), ('seemingli', 1447), ('andi', 1448), ('uncl', 1449), ('danni', 1450), ('devil', 1451), ('jackson', 1452), ('refus', 1453), ('pair', 1454), ('therefor', 1455), ('that', 1456), ('ed', 1457), ('fault', 1458), ('unit', 1459), ('accid', 1460), ('river', 1461), ('fate', 1462), ('afraid', 1463), ('tune', 1464), ('clean', 1465), ('hidden', 1466), ('stephen', 1467), ('russian', 1468), ('irrit', 1469), ('captain', 1470), ('instanc', 1471), ('test', 1472), ('convey', 1473), ('quick', 1474), ('readi', 1475), ('european', 1476), ('insan', 1477), ('frustrat', 1478), ('daniel', 1479), ('rescu', 1480), ('wed', 1481), ('food', 1482), ('chines', 1483), ('1950', 1484), ('dirti', 1485), ('lock', 1486), ('angri', 1487), ('joy', 1488), ('steven', 1489), ('price', 1490), ('cage', 1491), ('bland', 1492), ('rang', 1493), ('anymor', 1494), ('wooden', 1495), ('news', 1496), ('jason', 1497), ('n', 1498), ('rush', 1499), ('worri', 1500), ('board', 1501), ('led', 1502), ('martial', 1503), ('twenti', 1504), ('12', 1505), ('hunter', 1506), ('transform', 1507), ('symbol', 1508), ('cgi', 1509), ('onto', 1510), ('johnni', 1511), ('x', 1512), ('invent', 1513), ('sentiment', 1514), ('piti', 1515), ('process', 1516), ('attitud', 1517), ('explan', 1518), ('owner', 1519), ('awar', 1520), ('aim', 1521), ('favor', 1522), ('target', 1523), ('floor', 1524), ('necessari', 1525), ('energi', 1526), ('religi', 1527), ('opposit', 1528), ('insight', 1529), ('blind', 1530), ('chick', 1531), ('window', 1532), ('movement', 1533), ('deepli', 1534), ('research', 1535), ('comparison', 1536), ('possess', 1537), ('mountain', 1538), ('whatsoev', 1539), ('rain', 1540), ('comed', 1541), ('grand', 1542), ('shadow', 1543), ('mid', 1544), ('began', 1545), ('bank', 1546), ('parodi', 1547), ('princ', 1548), ('friendship', 1549), ('taylor', 1550), ('pre', 1551), ('weapon', 1552), ('credibl', 1553), ('flesh', 1554), ('dougla', 1555), ('teach', 1556), ('protect', 1557), ('terror', 1558), ('hint', 1559), ('bloodi', 1560), ('marvel', 1561), ('accord', 1562), ('drunk', 1563), ('watchabl', 1564), ('leader', 1565), ('superman', 1566), ('load', 1567), ('anybodi', 1568), ('freddi', 1569), ('brown', 1570), ('jeff', 1571), ('appropri', 1572), ('seat', 1573), ('tim', 1574), ('hitler', 1575), ('charg', 1576), ('unknown', 1577), ('knock', 1578), ('villag', 1579), ('keaton', 1580), ('unnecessari', 1581), ('england', 1582), ('media', 1583), ('empti', 1584), ('enemi', 1585), ('perspect', 1586), ('wave', 1587), ('dare', 1588), ('utter', 1589), ('buck', 1590), ('strength', 1591), ('craft', 1592), ('ford', 1593), ('kiss', 1594), ('nativ', 1595), ('correct', 1596), ('contrast', 1597), ('soap', 1598), ('anywher', 1599), ('speed', 1600), ('chill', 1601), ('magnific', 1602), ('knowledg', 1603), ('nazi', 1604), ('distract', 1605), ('fred', 1606), ('breath', 1607), ('mission', 1608), ('ice', 1609), ('1980', 1610), ('joan', 1611), ('crowd', 1612), ('jr', 1613), ('moon', 1614), ('frighten', 1615), ('soft', 1616), ('kate', 1617), ('000', 1618), ('hundr', 1619), ('dick', 1620), ('nick', 1621), ('dan', 1622), ('simon', 1623), ('radio', 1624), ('dozen', 1625), ('somebodi', 1626), ('academi', 1627), ('loss', 1628), ('thousand', 1629), ('shakespear', 1630), ('andrew', 1631), ('quot', 1632), ('sum', 1633), ('root', 1634), ('vehicl', 1635), ('account', 1636), ('convent', 1637), ('behavior', 1638), ('1970', 1639), ('leg', 1640), ('gold', 1641), ('regular', 1642), ('worker', 1643), ('compet', 1644), ('demand', 1645), ('pretenti', 1646), ('japan', 1647), ('lynch', 1648), ('stretch', 1649), ('privat', 1650), ('interpret', 1651), ('candi', 1652), ('notabl', 1653), ('explos', 1654), ('constant', 1655), ('debut', 1656), ('tarzan', 1657), ('spi', 1658), ('prais', 1659), ('revolv', 1660), ('translat', 1661), ('sea', 1662), ('ass', 1663), ('technolog', 1664), ('franc', 1665), ('quiet', 1666), ('failur', 1667), ('jesu', 1668), ('threaten', 1669), ('sat', 1670), ('higher', 1671), ('aid', 1672), ('met', 1673), ('toy', 1674), ('kevin', 1675), ('punch', 1676), ('abandon', 1677), ('mike', 1678), ('interact', 1679), ('vh', 1680), ('confront', 1681), ('bet', 1682), ('command', 1683), ('separ', 1684), ('gotten', 1685), ('site', 1686), ('recal', 1687), ('techniqu', 1688), ('belong', 1689), ('stunt', 1690), ('servic', 1691), ('freak', 1692), ('cabl', 1693), ('foot', 1694), ('bug', 1695), ('african', 1696), ('capabl', 1697), ('fu', 1698), ('bright', 1699), ('jimmi', 1700), ('succeed', 1701), ('fat', 1702), ('clark', 1703), ('stock', 1704), ('presid', 1705), ('boat', 1706), ('gene', 1707), ('spanish', 1708), ('structur', 1709), ('paper', 1710), ('kidnap', 1711), ('factor', 1712), ('whilst', 1713), ('belief', 1714), ('attend', 1715), ('witti', 1716), ('realis', 1717), ('tree', 1718), ('complic', 1719), ('realism', 1720), ('educ', 1721), ('bob', 1722), ('broken', 1723), ('assist', 1724), ('finest', 1725), ('santa', 1726), ('determin', 1727), ('depart', 1728), ('observ', 1729), ('smoke', 1730), ('up', 1731), ('v', 1732), ('oper', 1733), ('fame', 1734), ('rubbish', 1735), ('domin', 1736), ('hat', 1737), ('lewi', 1738), ('routin', 1739), ('safe', 1740), ('morgan', 1741), ('kinda', 1742), ('advanc', 1743), ('foreign', 1744), ('hook', 1745), ('lone', 1746), ('numer', 1747), ('rank', 1748), ('civil', 1749), ('shape', 1750), ('vs', 1751), ('washington', 1752), ('werewolf', 1753), ('rose', 1754), ('shallow', 1755), ('gari', 1756), ('morn', 1757), ('winner', 1758), ('kong', 1759), ('accomplish', 1760), ('ordinari', 1761), ('grab', 1762), ('virtual', 1763), ('peac', 1764), ('whenev', 1765), ('luck', 1766), ('offens', 1767), ('h', 1768), ('bigger', 1769), ('welcom', 1770), ('activ', 1771), ('unfunni', 1772), ('complain', 1773), ('patient', 1774), ('contriv', 1775), ('dimension', 1776), ('con', 1777), ('trek', 1778), ('pretend', 1779), ('lesbian', 1780), ('wake', 1781), ('flash', 1782), ('cain', 1783), ('code', 1784), ('dri', 1785), ('eric', 1786), ('corrupt', 1787), ('guard', 1788), ('statu', 1789), ('albert', 1790), ('manipul', 1791), ('dancer', 1792), ('sourc', 1793), ('signific', 1794), ('awkward', 1795), ('gain', 1796), ('speech', 1797), ('context', 1798), ('anthoni', 1799), ('psycho', 1800), ('corni', 1801), ('clip', 1802), ('13', 1803), ('sean', 1804), ('advic', 1805), ('curiou', 1806), ('priest', 1807), ('w', 1808), ('theatric', 1809), ('religion', 1810), ('reli', 1811), ('flow', 1812), ('addict', 1813), ('howard', 1814), ('specif', 1815), ('secur', 1816), ('asian', 1817), ('jennif', 1818), ('skin', 1819), ('comfort', 1820), ('promot', 1821), ('core', 1822), ('organ', 1823), ('luke', 1824), ('golden', 1825), ('cheat', 1826), ('cash', 1827), ('lucki', 1828), ('associ', 1829), ('dislik', 1830), ('lower', 1831), ('regret', 1832), ('frequent', 1833), ('devic', 1834), ('degre', 1835), ('wing', 1836), ('balanc', 1837), ('frankli', 1838), ('spell', 1839), ('contribut', 1840), ('lake', 1841), ('sake', 1842), ('forgiv', 1843), ('print', 1844), ('mass', 1845), ('betti', 1846), ('thoma', 1847), ('unexpect', 1848), ('gordon', 1849), ('crack', 1850), ('construct', 1851), ('unfold', 1852), ('amateur', 1853), ('categori', 1854), ('grown', 1855), ('invit', 1856), ('depend', 1857), ('honor', 1858), ('matur', 1859), ('condit', 1860), ('anna', 1861), ('grew', 1862), ('walter', 1863), ('intellectu', 1864), ('sudden', 1865), ('mirror', 1866), ('sole', 1867), ('spectacular', 1868), ('veteran', 1869), ('overli', 1870), ('gift', 1871), ('meanwhil', 1872), ('demonstr', 1873), ('freedom', 1874), ('experienc', 1875), ('card', 1876), ('liner', 1877), ('robin', 1878), ('grip', 1879), ('colour', 1880), ('unabl', 1881), ('brilliantli', 1882), ('circumst', 1883), ('sheriff', 1884), ('oliv', 1885), ('section', 1886), ('subtitl', 1887), ('crappi', 1888), ('drew', 1889), ('theori', 1890), ('path', 1891), ('parker', 1892), ('pile', 1893), ('laughter', 1894), ('altern', 1895), ('sheer', 1896), ('cook', 1897), ('matt', 1898), ('sinatra', 1899), ('relief', 1900), ('wander', 1901), ('treatment', 1902), ('accident', 1903), ('defin', 1904), ('lawyer', 1905), ('hall', 1906), ('hank', 1907), ('captiv', 1908), ('dragon', 1909), ('gratuit', 1910), ('halloween', 1911), ('moor', 1912), ('unintent', 1913), ('wayn', 1914), ('barbara', 1915), ('jacki', 1916), ('k', 1917), ('wound', 1918), ('cowboy', 1919), ('broadway', 1920), ('kung', 1921), ('spoof', 1922), ('surreal', 1923), ('canadian', 1924), ('winter', 1925), ('statement', 1926), ('gonna', 1927), ('fish', 1928), ('cheer', 1929), ('compos', 1930), ('treasur', 1931), ('fare', 1932), ('sensit', 1933), ('emerg', 1934), ('victor', 1935), ('unrealist', 1936), ('woodi', 1937), ('sympathet', 1938), ('neighbor', 1939), ('ran', 1940), ('driven', 1941), ('expos', 1942), ('overlook', 1943), ('topic', 1944), ('menac', 1945), ('glass', 1946), ('authent', 1947), ('gross', 1948), ('michel', 1949), ('handsom', 1950), ('ancient', 1951), ('chief', 1952), ('comedian', 1953), ('contemporari', 1954), ('pleasant', 1955), ('network', 1956), ('feet', 1957), ('russel', 1958), ('stranger', 1959), ('nevertheless', 1960), ('built', 1961), ('cinderella', 1962), ('endless', 1963), ('blockbust', 1964), ('underr', 1965), ('miser', 1966), ('letter', 1967), ('earn', 1968), ('gori', 1969), ('consider', 1970), ('switch', 1971), ('brook', 1972), ('solv', 1973), ('joseph', 1974), ('convict', 1975), ('bullet', 1976), ('edward', 1977), ('virgin', 1978), ('victoria', 1979), ('chosen', 1980), ('scale', 1981), ('cynic', 1982), ('scenario', 1983), ('alex', 1984), ('0', 1985), ('curs', 1986), ('gut', 1987), ('com', 1988), ('outrag', 1989), ('sword', 1990), ('uk', 1991), ('proper', 1992), ('monkey', 1993), ('juli', 1994), ('substanc', 1995), ('driver', 1996), ('wrap', 1997), ('screenwrit', 1998), ('indic', 1999), ('par', 2000), ('remov', 2001), ('court', 2002), ('bird', 2003), ('roy', 2004), ('naiv', 2005), ('nanci', 2006), ('loser', 2007), ('grave', 2008), ('rental', 2009), ('inevit', 2010), ('advertis', 2011), ('consequ', 2012), ('invis', 2013), ('brave', 2014), ('slap', 2015), ('fatal', 2016), ('bridg', 2017), ('le', 2018), ('germani', 2019), ('ador', 2020), ('provok', 2021), ('loui', 2022), ('footbal', 2023), ('anger', 2024), ('alcohol', 2025), ('anderson', 2026), ('chan', 2027), ('willi', 2028), ('professor', 2029), ('stumbl', 2030), ('ryan', 2031), ('bat', 2032), ('australian', 2033), ('sharp', 2034), ('assassin', 2035), ('1930', 2036), ('patrick', 2037), ('refresh', 2038), ('liber', 2039), ('lousi', 2040), ('strongli', 2041), ('ape', 2042), ('saturday', 2043), ('amateurish', 2044), ('deni', 2045), ('trilog', 2046), ('cell', 2047), ('heck', 2048), ('eight', 2049), ('sin', 2050), ('vagu', 2051), ('resid', 2052), ('justifi', 2053), ('san', 2054), ('sympathi', 2055), ('mini', 2056), ('defeat', 2057), ('reput', 2058), ('indi', 2059), ('creator', 2060), ('terrifi', 2061), ('prevent', 2062), ('tediou', 2063), ('expert', 2064), ('tabl', 2065), ('task', 2066), ('endur', 2067), ('offend', 2068), ('imit', 2069), ('trial', 2070), ('basebal', 2071), ('employ', 2072), ('rival', 2073), ('che', 2074), ('beach', 2075), ('complaint', 2076), ('weekend', 2077), ('dig', 2078), ('max', 2079), ('fairi', 2080), ('pitch', 2081), ('europ', 2082), ('purchas', 2083), ('risk', 2084), ('format', 2085), ('murphi', 2086), ('bite', 2087), ('powel', 2088), ('nois', 2089), ('harsh', 2090), ('reminisc', 2091), ('titan', 2092), ('hype', 2093), ('glimps', 2094), ('tini', 2095), ('asleep', 2096), ('north', 2097), ('prime', 2098), ('fals', 2099), ('till', 2100), ('14', 2101), ('strip', 2102), ('revel', 2103), ('descript', 2104), ('africa', 2105), ('destruct', 2106), ('texa', 2107), ('excess', 2108), ('spin', 2109), ('surfac', 2110), ('arrest', 2111), ('inner', 2112), ('uninterest', 2113), ('semi', 2114), ('sitcom', 2115), ('makeup', 2116), ('controversi', 2117), ('maintain', 2118), ('massiv', 2119), ('twin', 2120), ('argu', 2121), ('hitchcock', 2122), ('dinosaur', 2123), ('stare', 2124), ('expens', 2125), ('ludicr', 2126), ('melodrama', 2127), ('insist', 2128), ('reject', 2129), ('ideal', 2130), ('kim', 2131), ('host', 2132), ('press', 2133), ('ala', 2134), ('supernatur', 2135), ('nail', 2136), ('erot', 2137), ('atroci', 2138), ('columbo', 2139), ('forest', 2140), ('ga', 2141), ('subplot', 2142), ('identifi', 2143), ('dude', 2144), ('notch', 2145), ('cant', 2146), ('presum', 2147), ('guest', 2148), ('closer', 2149), ('plagu', 2150), ('method', 2151), ('character', 2152), ('crude', 2153), ('forgett', 2154), ('foster', 2155), ('beast', 2156), ('princess', 2157), ('landscap', 2158), ('ear', 2159), ('lion', 2160), ('border', 2161), ('bound', 2162), ('pacino', 2163), ('urban', 2164), ('birth', 2165), ('storytel', 2166), ('damag', 2167), ('previous', 2168), ('accus', 2169), ('aunt', 2170), ('jungl', 2171), ('jess', 2172), ('thirti', 2173), ('chose', 2174), ('guid', 2175), ('propaganda', 2176), ('nude', 2177), ('doll', 2178), ('emma', 2179), ('warrior', 2180), ('25', 2181), ('whoever', 2182), ('mainstream', 2183), ('mate', 2184), ('pet', 2185), ('merit', 2186), ('exact', 2187), ('poster', 2188), ('cooper', 2189), ('friday', 2190), ('upset', 2191), ('gritti', 2192), ('latest', 2193), ('deadli', 2194), ('size', 2195), ('citizen', 2196), ('popul', 2197), ('corps', 2198), ('blend', 2199), ('sun', 2200), ('contact', 2201), ('settl', 2202), ('buff', 2203), ('ton', 2204), ('wilson', 2205), ('rough', 2206), ('1990', 2207), ('warner', 2208), ('contest', 2209), ('overcom', 2210), ('metal', 2211), ('rat', 2212), ('bu', 2213), ('alic', 2214), ('select', 2215), ('environ', 2216), ('widow', 2217), ('pitt', 2218), ('mgm', 2219), ('particip', 2220), ('guilti', 2221), ('link', 2222), ('ted', 2223), ('lift', 2224), ('revolut', 2225), ('moron', 2226), ('prostitut', 2227), ('exagger', 2228), ('accompani', 2229), ('afternoon', 2230), ('johnson', 2231), ('matrix', 2232), ('1960', 2233), ('corner', 2234), ('corpor', 2235), ('sincer', 2236), ('multipl', 2237), ('friendli', 2238), ('hood', 2239), ('clair', 2240), ('holm', 2241), ('doom', 2242), ('leagu', 2243), ('instal', 2244), ('grim', 2245), ('advis', 2246), ('aka', 2247), ('junk', 2248), ('blah', 2249), ('campi', 2250), ('sunday', 2251), ('irish', 2252), ('hip', 2253), ('examin', 2254), ('defend', 2255), ('string', 2256), ('lugosi', 2257), ('rachel', 2258), ('varieti', 2259), ('tight', 2260), ('icon', 2261), ('shake', 2262), ('shut', 2263), ('pro', 2264), ('confid', 2265), ('medic', 2266), ('mexican', 2267), ('denni', 2268), ('directli', 2269), ('attach', 2270), ('goal', 2271), ('sullivan', 2272), ('jaw', 2273), ('duke', 2274), ('prior', 2275), ('truck', 2276), ('dean', 2277), ('legendari', 2278), ('courag', 2279), ('terrorist', 2280), ('sarah', 2281), ('breast', 2282), ('vietnam', 2283), ('bourn', 2284), ('sentenc', 2285), ('entri', 2286), ('un', 2287), ('proceed', 2288), ('hong', 2289), ('yell', 2290), ('behav', 2291), ('split', 2292), ('donald', 2293), ('nose', 2294), ('stolen', 2295), ('borrow', 2296), ('gather', 2297), ('crush', 2298), ('confess', 2299), ('lifetim', 2300), ('forth', 2301), ('everywher', 2302), ('unconvinc', 2303), ('concentr', 2304), ('swim', 2305), ('buri', 2306), ('jerk', 2307), ('deliveri', 2308), ('pan', 2309), ('california', 2310), ('lip', 2311), ('spite', 2312), ('julia', 2313), ('turkey', 2314), ('offici', 2315), ('freeman', 2316), ('downright', 2317), ('flight', 2318), ('proud', 2319), ('quest', 2320), ('reward', 2321), ('hoffman', 2322), ('china', 2323), ('encourag', 2324), ('jon', 2325), ('fabul', 2326), ('lazi', 2327), ('inept', 2328), ('worthwhil', 2329), ('betray', 2330), ('sir', 2331), ('sink', 2332), ('fade', 2333), ('jail', 2334), ('notori', 2335), ('teeth', 2336), ('imageri', 2337), ('retard', 2338), ('bell', 2339), ('bag', 2340), ('shower', 2341), ('lisa', 2342), ('cousin', 2343), ('susan', 2344), ('survivor', 2345), ('storm', 2346), ('relev', 2347), ('branagh', 2348), ('summari', 2349), ('trade', 2350), ('stab', 2351), ('finger', 2352), ('alright', 2353), ('mexico', 2354), ('tremend', 2355), ('quirki', 2356), ('bride', 2357), ('facial', 2358), ('shark', 2359), ('hugh', 2360), ('toler', 2361), ('hyster', 2362), ('pose', 2363), ('bitter', 2364), ('von', 2365), ('blown', 2366), ('ha', 2367), ('afterward', 2368), ('scheme', 2369), ('larri', 2370), ('ned', 2371), ('address', 2372), ('christ', 2373), ('cruel', 2374), ('bone', 2375), ('ron', 2376), ('pursu', 2377), ('thumb', 2378), ('distinct', 2379), ('beg', 2380), ('traci', 2381), ('snake', 2382), ('swear', 2383), ('tour', 2384), ('screw', 2385), ('feed', 2386), ('obscur', 2387), ('occas', 2388), ('photo', 2389), ('chair', 2390), ('mechan', 2391), ('raw', 2392), ('stomach', 2393), ('resist', 2394), ('render', 2395), ('heavili', 2396), ('holiday', 2397), ('argument', 2398), ('southern', 2399), ('gruesom', 2400), ('necessarili', 2401), ('chain', 2402), ('sidney', 2403), ('cabin', 2404), ('hardi', 2405), ('understood', 2406), ('philip', 2407), ('racist', 2408), ('india', 2409), ('indulg', 2410), ('satan', 2411), ('midnight', 2412), ('forgot', 2413), ('lay', 2414), ('outfit', 2415), ('integr', 2416), ('tongu', 2417), ('obnoxi', 2418), ('fourth', 2419), ('pregnant', 2420), ('belov', 2421), ('stalk', 2422), ('ticket', 2423), ('magazin', 2424), ('slapstick', 2425), ('garden', 2426), ('deeper', 2427), ('inhabit', 2428), ('carol', 2429), ('restor', 2430), ('17', 2431), ('lincoln', 2432), ('devot', 2433), ('incid', 2434), ('shoe', 2435), ('brad', 2436), ('maria', 2437), ('divorc', 2438), ('benefit', 2439), ('guarante', 2440), ('elizabeth', 2441), ('disbelief', 2442), ('anticip', 2443), ('lili', 2444), ('underground', 2445), ('sandler', 2446), ('capit', 2447), ('mildli', 2448), ('slave', 2449), ('princip', 2450), ('amazingli', 2451), ('greater', 2452), ('explod', 2453), ('bbc', 2454), ('cring', 2455), ('creation', 2456), ('funnier', 2457), ('lesli', 2458), ('halfway', 2459), ('extraordinari', 2460), ('introduct', 2461), ('punish', 2462), ('overwhelm', 2463), ('advantag', 2464), ('wreck', 2465), ('enhanc', 2466), ('text', 2467), ('tap', 2468), ('extent', 2469), ('transfer', 2470), ('lo', 2471), ('horrif', 2472), ('preview', 2473), ('deliber', 2474), ('plant', 2475), ('jessica', 2476), ('east', 2477), ('dynam', 2478), ('lane', 2479), ('error', 2480), ('miscast', 2481), ('miller', 2482), ('vacat', 2483), ('homosexu', 2484), ('appli', 2485), ('basi', 2486), ('sophist', 2487), ('vincent', 2488), ('ensu', 2489), ('2000', 2490), ('extend', 2491), ('elev', 2492), ('mansion', 2493), ('spoken', 2494), ('measur', 2495), ('uncomfort', 2496), ('reed', 2497), ('via', 2498), ('steel', 2499), ('bollywood', 2500), ('sleazi', 2501), ('fix', 2502), ('daili', 2503), ('alter', 2504), ('assign', 2505), ('cathol', 2506), ('breathtak', 2507), ('savag', 2508), ('overact', 2509), ('goofi', 2510), ('conceiv', 2511), ('mous', 2512), ('melt', 2513), ('blair', 2514), ('stanley', 2515), ('beer', 2516), ('dentist', 2517), ('hippi', 2518), ('oppos', 2519), ('nowaday', 2520), ('inspector', 2521), ('carpent', 2522), ('sacrific', 2523), ('subsequ', 2524), ('everyday', 2525), ('burt', 2526), ('succe', 2527), ('properli', 2528), ('circl', 2529), ('massacr', 2530), ('neck', 2531), ('block', 2532), ('laura', 2533), ('portrait', 2534), ('fay', 2535), ('mob', 2536), ('access', 2537), ('grey', 2538), ('lesser', 2539), ('seagal', 2540), ('pool', 2541), ('christi', 2542), ('fallen', 2543), ('concert', 2544), ('jewish', 2545), ('usa', 2546), ('chees', 2547), ('competit', 2548), ('relax', 2549), ('jake', 2550), ('sinist', 2551), ('react', 2552), ('isol', 2553), ('chop', 2554), ('immens', 2555), ('ironi', 2556), ('stink', 2557), ('nine', 2558), ('nonetheless', 2559), ('lyric', 2560), ('suitabl', 2561), ('2006', 2562), ('appal', 2563), ('spiritu', 2564), ('creep', 2565), ('sold', 2566), ('showcas', 2567), ('shirt', 2568), ('rage', 2569), ('user', 2570), ('nut', 2571), ('reduc', 2572), ('retir', 2573), ('adopt', 2574), ('franchis', 2575), ('navi', 2576), ('luci', 2577), ('needless', 2578), ('spring', 2579), ('jay', 2580), ('digit', 2581), ('asham', 2582), ('uninspir', 2583), ('zone', 2584), ('nurs', 2585), ('per', 2586), ('stanwyck', 2587), ('bulli', 2588), ('bath', 2589), ('amongst', 2590), ('2001', 2591), ('laid', 2592), ('1940', 2593), ('oddli', 2594), ('upper', 2595), ('illustr', 2596), ('sutherland', 2597), ('broadcast', 2598), ('aspir', 2599), ('baker', 2600), ('fulfil', 2601), ('disguis', 2602), ('stylish', 2603), ('throat', 2604), ('brando', 2605), ('endear', 2606), ('pride', 2607), ('impli', 2608), ('em', 2609), ('thief', 2610), ('nobl', 2611), ('wwii', 2612), ('wanna', 2613), ('neighborhood', 2614), ('18', 2615), ('pound', 2616), ('16', 2617), ('dawn', 2618), ('albeit', 2619), ('bett', 2620), ('cinematograph', 2621), ('distribut', 2622), ('shoulder', 2623), ('tens', 2624), ('diseas', 2625), ('prop', 2626), ('rochest', 2627), ('dinner', 2628), ('coher', 2629), ('shift', 2630), ('bo', 2631), ('rebel', 2632), ('knife', 2633), ('function', 2634), ('shout', 2635), ('surf', 2636), ('contract', 2637), ('matthau', 2638), ('forti', 2639), ('wash', 2640), ('poignant', 2641), ('snow', 2642), ('silenc', 2643), ('chuck', 2644), ('heat', 2645), ('duti', 2646), ('eeri', 2647), ('cancel', 2648), ('henc', 2649), ('horrend', 2650), ('widmark', 2651), ('mindless', 2652), ('proof', 2653), ('internet', 2654), ('silver', 2655), ('elvira', 2656), ('cannib', 2657), ('derek', 2658), ('reunion', 2659), ('instinct', 2660), ('height', 2661), ('alik', 2662), ('elvi', 2663), ('glori', 2664), ('incoher', 2665), ('greatli', 2666), ('mill', 2667), ('innov', 2668), ('spielberg', 2669), ('etern', 2670), ('pie', 2671), ('absorb', 2672), ('musician', 2673), ('repetit', 2674), ('torn', 2675), ('premier', 2676), ('neat', 2677), ('itali', 2678), ('precis', 2679), ('crisi', 2680), ('burton', 2681), ('bang', 2682), ('wealthi', 2683), ('homag', 2684), ('trite', 2685), ('lovabl', 2686), ('nelson', 2687), ('racism', 2688), ('blank', 2689), ('redempt', 2690), ('infam', 2691), ('britain', 2692), ('diamond', 2693), ('announc', 2694), ('horrifi', 2695), ('fbi', 2696), ('ensembl', 2697), ('happili', 2698), ('chaplin', 2699), ('flop', 2700), ('wilder', 2701), ('helen', 2702), ('pat', 2703), ('resolut', 2704), ('dedic', 2705), ('hammer', 2706), ('parallel', 2707), ('streisand', 2708), ('st', 2709), ('disagre', 2710), ('broke', 2711), ('plastic', 2712), ('carter', 2713), ('factori', 2714), ('cube', 2715), ('mar', 2716), ('triumph', 2717), ('conclud', 2718), ('oil', 2719), ('vega', 2720), ('fighter', 2721), ('weight', 2722), ('climb', 2723), ('row', 2724), ('own', 2725), ('march', 2726), ('bush', 2727), ('chuckl', 2728), ('rocket', 2729), ('thug', 2730), ('unforgett', 2731), ('meaning', 2732), ('enorm', 2733), ('dane', 2734), ('sensibl', 2735), ('kurt', 2736), ('boot', 2737), ('lust', 2738), ('dump', 2739), ('mst3k', 2740), ('luca', 2741), ('spare', 2742), ('wherea', 2743), ('brand', 2744), ('fifti', 2745), ('caricatur', 2746), ('rap', 2747), ('threat', 2748), ('butt', 2749), ('arnold', 2750), ('karloff', 2751), ('stress', 2752), ('engin', 2753), ('adequ', 2754), ('difficulti', 2755), ('bobbi', 2756), ('dear', 2757), ('journalist', 2758), ('swing', 2759), ('polish', 2760), ('arrog', 2761), ('elabor', 2762), ('fest', 2763), ('ego', 2764), ('flynn', 2765), ('secretari', 2766), ('hamlet', 2767), ('barri', 2768), ('homeless', 2769), ('ralph', 2770), ('spike', 2771), ('arrang', 2772), ('conspiraci', 2773), ('fanci', 2774), ('induc', 2775), ('resort', 2776), ('unbear', 2777), ('simpson', 2778), ('float', 2779), ('grate', 2780), ('puppet', 2781), ('tool', 2782), ('guilt', 2783), ('pig', 2784), ('choreograph', 2785), ('cruis', 2786), ('tribut', 2787), ('boll', 2788), ('exercis', 2789), ('phillip', 2790), ('basement', 2791), ('muppet', 2792), ('toilet', 2793), ('fianc', 2794), ('editor', 2795), ('korean', 2796), ('24', 2797), ('puzzl', 2798), ('slip', 2799), ('layer', 2800), ('scarecrow', 2801), ('babe', 2802), ('tower', 2803), ('document', 2804), ('medium', 2805), ('item', 2806), ('ward', 2807), ('stan', 2808), ('file', 2809), ('ham', 2810), ('denzel', 2811), ('transit', 2812), ('philosoph', 2813), ('assur', 2814), ('persona', 2815), ('librari', 2816), ('inexplic', 2817), ('larger', 2818), ('superfici', 2819), ('spark', 2820), ('territori', 2821), ('slaughter', 2822), ('glover', 2823), ('minim', 2824), ('portion', 2825), ('doc', 2826), ('orient', 2827), ('catherin', 2828), ('owe', 2829), ('shi', 2830), ('ban', 2831), ('walken', 2832), ('wolf', 2833), ('financi', 2834), ('sneak', 2835), ('jet', 2836), ('boredom', 2837), ('curti', 2838), ('jeremi', 2839), ('pg', 2840), ('dorothi', 2841), ('profound', 2842), ('ambigu', 2843), ('backdrop', 2844), ('multi', 2845), ('cusack', 2846), ('hudson', 2847), ('metaphor', 2848), ('eleph', 2849), ('whale', 2850), ('birthday', 2851), ('implaus', 2852), ('hack', 2853), ('2005', 2854), ('rave', 2855), ('elsewher', 2856), ('union', 2857), ('stiff', 2858), ('notion', 2859), ('ultra', 2860), ('viru', 2861), ('gadget', 2862), ('deriv', 2863), ('canada', 2864), ('lloyd', 2865), ('urg', 2866), ('newspap', 2867), ('squar', 2868), ('reader', 2869), ('eastwood', 2870), ('pad', 2871), ('bibl', 2872), ('distanc', 2873), ('afford', 2874), ('1st', 2875), ('eva', 2876), ('poison', 2877), ('superhero', 2878), ('disc', 2879), ('slight', 2880), ('hawk', 2881), ('charisma', 2882), ('huh', 2883), ('spread', 2884), ('montag', 2885), ('essenc', 2886), ('heston', 2887), ('cure', 2888), ('restaur', 2889), ('drown', 2890), ('health', 2891), ('button', 2892), ('sadist', 2893), ('skit', 2894), ('muslim', 2895), ('invest', 2896), ('lab', 2897), ('fetch', 2898), ('estat', 2899), ('companion', 2900), ('maniac', 2901), ('godfath', 2902), ('scoobi', 2903), ('dealt', 2904), ('peak', 2905), ('gradual', 2906), ('alli', 2907), ('gothic', 2908), ('subtleti', 2909), ('servant', 2910), ('ritter', 2911), ('kane', 2912), ('miik', 2913), ('cup', 2914), ('tea', 2915), ('countless', 2916), ('electr', 2917), ('briefli', 2918), ('salli', 2919), ('elect', 2920), ('heroic', 2921), ('charismat', 2922), ('iii', 2923), ('cole', 2924), ('admittedli', 2925), ('wannab', 2926), ('nuanc', 2927), ('toss', 2928), ('neil', 2929), ('grandmoth', 2930), ('tender', 2931), ('ingredi', 2932), ('bud', 2933), ('reel', 2934), ('resourc', 2935), ('carrey', 2936), ('punk', 2937), ('stood', 2938), ('poverti', 2939), ('mafia', 2940), ('reev', 2941), ('shall', 2942), ('gate', 2943), ('pit', 2944), ('dawson', 2945), ('kubrick', 2946), ('mild', 2947), ('stronger', 2948), ('label', 2949), ('pauli', 2950), ('burst', 2951), ('tag', 2952), ('easier', 2953), ('cardboard', 2954), ('useless', 2955), ('updat', 2956), ('outcom', 2957), ('astair', 2958), ('smooth', 2959), ('ian', 2960), ('fond', 2961), ('smash', 2962), ('assault', 2963), ('terri', 2964), ('cox', 2965), ('bakshi', 2966), ('rex', 2967), ('sketch', 2968), ('divers', 2969), ('increasingli', 2970), ('2002', 2971), ('exchang', 2972), ('resolv', 2973), ('vari', 2974), ('qualifi', 2975), ('melodramat', 2976), ('samurai', 2977), ('vulner', 2978), ('coincid', 2979), ('fist', 2980), ('scratch', 2981), ('insert', 2982), ('reynold', 2983), ('templ', 2984), ('luckili', 2985), ('be', 2986), ('suspend', 2987), ('tame', 2988), ('brillianc', 2989), ('blast', 2990), ('conveni', 2991), ('nuclear', 2992), ('strictli', 2993), ('gotta', 2994), ('jami', 2995), ('ambiti', 2996), ('hamilton', 2997), ('coach', 2998), ('walker', 2999), ('seventi', 3000), ('pin', 3001), ('meat', 3002), ('matthew', 3003), ('soprano', 3004), ('fisher', 3005), ('farm', 3006), ('clock', 3007), ('eccentr', 3008), ('discoveri', 3009), ('closet', 3010), ('empir', 3011), ('joey', 3012), ('spooki', 3013), ('struck', 3014), ('cave', 3015), ('instantli', 3016), ('grasp', 3017), ('timeless', 3018), ('recreat', 3019), ('monk', 3020), ('kudo', 3021), ('convolut', 3022), ('revers', 3023), ('worthless', 3024), ('ninja', 3025), ('butcher', 3026), ('brosnan', 3027), ('bleak', 3028), ('selfish', 3029), ('miracl', 3030), ('sloppi', 3031), ('declar', 3032), ('mitchel', 3033), ('inconsist', 3034), ('wipe', 3035), ('fifteen', 3036), ('communist', 3037), ('eighti', 3038), ('clown', 3039), ('cliff', 3040), ('sidekick', 3041), ('gray', 3042), ('evok', 3043), ('partli', 3044), ('importantli', 3045), ('norman', 3046), ('pal', 3047), ('seller', 3048), ('farc', 3049), ('websit', 3050), ('australia', 3051), ('chew', 3052), ('piano', 3053), ('superbl', 3054), ('lifestyl', 3055), ('flawless', 3056), ('cheek', 3057), ('enthusiast', 3058), ('psychiatrist', 3059), ('45', 3060), ('destin', 3061), ('debat', 3062), ('stoog', 3063), ('aforement', 3064), ('ho', 3065), ('seed', 3066), ('splatter', 3067), ('dire', 3068), ('dash', 3069), ('bash', 3070), ('regardless', 3071), ('anni', 3072), ('directori', 3073), ('soviet', 3074), ('kitchen', 3075), ('pressur', 3076), ('akshay', 3077), ('wick', 3078), ('wrestl', 3079), ('incompet', 3080), ('emili', 3081), ('drivel', 3082), ('slice', 3083), ('abc', 3084), ('glow', 3085), ('beaten', 3086), ('seduc', 3087), ('distant', 3088), ('artifici', 3089), ('suppli', 3090), ('cameron', 3091), ('prize', 3092), ('dave', 3093), ('flower', 3094), ('boil', 3095), ('curios', 3096), ('ken', 3097), ('recov', 3098), ('increas', 3099), ('doo', 3100), ('jar', 3101), ('helicopt', 3102), ('mann', 3103), ('duo', 3104), ('judi', 3105), ('pleasantli', 3106), ('cagney', 3107), ('chapter', 3108), ('lou', 3109), ('cia', 3110), ('blob', 3111), ('craven', 3112), ('turner', 3113), ('glenn', 3114), ('web', 3115), ('perri', 3116), ('psychot', 3117), ('hop', 3118), ('favour', 3119), ('panic', 3120), ('combat', 3121), ('ellen', 3122), ('eleg', 3123), ('francisco', 3124), ('craig', 3125), ('drunken', 3126), ('ranger', 3127), ('goldberg', 3128), ('splendid', 3129), ('laurel', 3130), ('flip', 3131), ('shortli', 3132), ('gentl', 3133), ('slightest', 3134), ('ruth', 3135), ('rid', 3136), ('greek', 3137), ('hatr', 3138), ('graduat', 3139), ('20th', 3140), ('plausibl', 3141), ('falk', 3142), ('wizard', 3143), ('philosophi', 3144), ('min', 3145), ('modesti', 3146), ('gandhi', 3147), ('alexand', 3148), ('fx', 3149), ('we', 3150), ('futurist', 3151), ('tall', 3152), ('fund', 3153), ('lend', 3154), ('unpleas', 3155), ('preciou', 3156), ('ocean', 3157), ('knight', 3158), ('jealou', 3159), ('dracula', 3160), ('harm', 3161), ('manhattan', 3162), ('felix', 3163), ('legal', 3164), ('holi', 3165), ('digniti', 3166), ('forbidden', 3167), ('mock', 3168), ('bless', 3169), ('reviv', 3170), ('explicit', 3171), ('ami', 3172), ('tank', 3173), ('nod', 3174), ('overdon', 3175), ('giallo', 3176), ('scientif', 3177), ('thread', 3178), ('childish', 3179), ('verhoeven', 3180), ('elderli', 3181), ('awaken', 3182), ('nerv', 3183), ('99', 3184), ('broad', 3185), ('eve', 3186), ('awe', 3187), ('mel', 3188), ('repeatedli', 3189), ('margaret', 3190), ('torment', 3191), ('thick', 3192), ('unwatch', 3193), ('2004', 3194), ('fever', 3195), ('pirat', 3196), ('yesterday', 3197), ('launch', 3198), ('absenc', 3199), ('griffith', 3200), ('acclaim', 3201), ('publish', 3202), ('custom', 3203), ('stiller', 3204), ('royal', 3205), ('lean', 3206), ('automat', 3207), ('eas', 3208), ('roman', 3209), ('ambit', 3210), ('ah', 3211), ('timothi', 3212), ('kay', 3213), ('uniform', 3214), ('rivet', 3215), ('politician', 3216), ('bin', 3217), ('romero', 3218), ('stinker', 3219), ('warren', 3220), ('homicid', 3221), ('crook', 3222), ('phrase', 3223), ('termin', 3224), ('pierc', 3225), ('gabriel', 3226), ('sunshin', 3227), ('tomato', 3228), ('pulp', 3229), ('transport', 3230), ('bathroom', 3231), ('darker', 3232), ('wallac', 3233), ('foul', 3234), ('purpl', 3235), ('antic', 3236), ('q', 3237), ('ought', 3238), ('hollow', 3239), ('juvenil', 3240), ('viciou', 3241), ('evolv', 3242), ('awak', 3243), ('pray', 3244), ('contrari', 3245), ('2003', 3246), ('horrid', 3247), ('kenneth', 3248), ('album', 3249), ('packag', 3250), ('li', 3251), ('revolutionari', 3252), ('brazil', 3253), ('coloni', 3254), ('karen', 3255), ('sixti', 3256), ('donna', 3257), ('eyr', 3258), ('choreographi', 3259), ('prom', 3260), ('marin', 3261), ('saint', 3262), ('rambo', 3263), ('blade', 3264), ('mildr', 3265), ('kapoor', 3266), ('conserv', 3267), ('defi', 3268), ('ireland', 3269), ('beatti', 3270), ('candid', 3271), ('boast', 3272), ('overr', 3273), ('option', 3274), ('twelv', 3275), ('nerd', 3276), ('stole', 3277), ('mummi', 3278), ('dose', 3279), ('ramon', 3280), ('flame', 3281), ('astonish', 3282), ('trio', 3283), ('protest', 3284), ('collabor', 3285), ('jazz', 3286), ('confirm', 3287), ('detract', 3288), ('natali', 3289), ('funer', 3290), ('kirk', 3291), ('fulci', 3292), ('global', 3293), ('altman', 3294), ('bull', 3295), ('bottl', 3296), ('blake', 3297), ('tommi', 3298), ('delici', 3299), ('nicholson', 3300), ('leap', 3301), ('racial', 3302), ('whip', 3303), ('mystic', 3304), ('destini', 3305), ('shade', 3306), ('spit', 3307), ('audio', 3308), ('yellow', 3309), ('enterpris', 3310), ('todd', 3311), ('meaningless', 3312), ('threw', 3313), ('visibl', 3314), ('inherit', 3315), ('fonda', 3316), ('neo', 3317), ('pseudo', 3318), ('bedroom', 3319), ('reunit', 3320), ('staff', 3321), ('popcorn', 3322), ('merci', 3323), ('enchant', 3324), ('adolesc', 3325), ('harder', 3326), ('vivid', 3327), ('swedish', 3328), ('altogeth', 3329), ('synopsi', 3330), ('fanat', 3331), ('exhibit', 3332), ('roommat', 3333), ('kennedi', 3334), ('wire', 3335), ('befriend', 3336), ('edi', 3337), ('uneven', 3338), ('bust', 3339), ('voight', 3340), ('jew', 3341), ('respond', 3342), ('atlanti', 3343), ('leonard', 3344), ('tip', 3345), ('await', 3346), ('madonna', 3347), ('decor', 3348), ('suspici', 3349), ('reserv', 3350), ('ruthless', 3351), ('lemmon', 3352), ('crocodil', 3353), ('lawrenc', 3354), ('moodi', 3355), ('carl', 3356), ('palma', 3357), ('audit', 3358), ('2007', 3359), ('incident', 3360), ('ventur', 3361), ('unsettl', 3362), ('centr', 3363), ('clumsi', 3364), ('garner', 3365), ('clint', 3366), ('chao', 3367), ('bold', 3368), ('rural', 3369), ('abysm', 3370), ('voyag', 3371), ('bradi', 3372), ('bargain', 3373), ('dimens', 3374), ('holli', 3375), ('tiger', 3376), ('acknowledg', 3377), ('characterist', 3378), ('humili', 3379), ('nearbi', 3380), ('2nd', 3381), ('immigr', 3382), ('cuba', 3383), ('versu', 3384), ('imperson', 3385), ('lit', 3386), ('cari', 3387), ('daddi', 3388), ('ant', 3389), ('wealth', 3390), ('elimin', 3391), ('neglect', 3392), ('cd', 3393), ('hart', 3394), ('echo', 3395), ('troop', 3396), ('mall', 3397), ('poetic', 3398), ('timon', 3399), ('trail', 3400), ('jeffrey', 3401), ('mickey', 3402), ('pun', 3403), ('solo', 3404), ('infect', 3405), ('collaps', 3406), ('paus', 3407), ('mistaken', 3408), ('domest', 3409), ('repuls', 3410), ('celluloid', 3411), ('marshal', 3412), ('prejudic', 3413), ('saga', 3414), ('homer', 3415), ('hbo', 3416), ('promin', 3417), ('equip', 3418), ('sore', 3419), ('coffe', 3420), ('1996', 3421), ('pant', 3422), ('interrupt', 3423), ('chest', 3424), ('inan', 3425), ('undoubtedli', 3426), ('coat', 3427), ('harvey', 3428), ('ginger', 3429), ('inappropri', 3430), ('gear', 3431), ('tribe', 3432), ('apolog', 3433), ('cake', 3434), ('olivi', 3435), ('leon', 3436), ('milk', 3437), ('assembl', 3438), ('furthermor', 3439), ('pen', 3440), ('brooklyn', 3441), ('humbl', 3442), ('highest', 3443), ('exot', 3444), ('vulgar', 3445), ('airplan', 3446), ('trace', 3447), ('solut', 3448), ('primari', 3449), ('retain', 3450), ('colleagu', 3451), ('instant', 3452), ('florida', 3453), ('institut', 3454), ('jenni', 3455), ('consum', 3456), ('colonel', 3457), ('polanski', 3458), ('devast', 3459), ('aveng', 3460), ('maggi', 3461), ('embrac', 3462), ('pot', 3463), ('poke', 3464), ('principl', 3465), ('wive', 3466), ('illog', 3467), ('descend', 3468), ('smaller', 3469), ('strain', 3470), ('linda', 3471), ('dutch', 3472), ('sale', 3473), ('bowl', 3474), ('gender', 3475), ('outer', 3476), ('ya', 3477), ('3rd', 3478), ('disabl', 3479), ('dian', 3480), ('rick', 3481), ('cope', 3482), ('1999', 3483), ('seduct', 3484), ('godzilla', 3485), ('predecessor', 3486), ('dud', 3487), ('mixtur', 3488), ('cue', 3489), ('secondli', 3490), ('primarili', 3491), ('bubbl', 3492), ('devoid', 3493), ('gloriou', 3494), ('vast', 3495), ('beneath', 3496), ('lol', 3497), ('hal', 3498), ('dive', 3499), ('glamor', 3500), ('blatant', 3501), ('inferior', 3502), ('rabbit', 3503), ('scope', 3504), ('yard', 3505), ('gundam', 3506), ('casual', 3507), ('alert', 3508), ('hideou', 3509), ('trademark', 3510), ('z', 3511), ('senseless', 3512), ('shirley', 3513), ('simplist', 3514), ('myer', 3515), ('shelf', 3516), ('grinch', 3517), ('pearl', 3518), ('invas', 3519), ('countrysid', 3520), ('talki', 3521), ('museum', 3522), ('breed', 3523), ('aggress', 3524), ('garbo', 3525), ('streep', 3526), ('disjoint', 3527), ('alfr', 3528), ('april', 3529), ('arab', 3530), ('domino', 3531), ('et', 3532), ('mayor', 3533), ('illeg', 3534), ('unhappi', 3535), ('vanish', 3536), ('experiment', 3537), ('hardcor', 3538), ('uwe', 3539), ('disgrac', 3540), ('sh', 3541), ('slide', 3542), ('robinson', 3543), ('khan', 3544), ('defens', 3545), ('rendit', 3546), ('hopeless', 3547), ('applaud', 3548), ('maci', 3549), ('boom', 3550), ('stack', 3551), ('oz', 3552), ('stellar', 3553), ('stir', 3554), ('mail', 3555), ('loyal', 3556), ('acid', 3557), ('robberi', 3558), ('obtain', 3559), ('declin', 3560), ('soccer', 3561), ('tenant', 3562), ('wont', 3563), ('hartley', 3564), ('emphasi', 3565), ('craze', 3566), ('berlin', 3567), ('fri', 3568), ('span', 3569), ('tempt', 3570), ('dicken', 3571), ('scroog', 3572), ('spider', 3573), ('grandfath', 3574), ('dismiss', 3575), ('recruit', 3576), ('incomprehens', 3577), ('psychic', 3578), ('blew', 3579), ('counter', 3580), ('rifl', 3581), ('topless', 3582), ('amanda', 3583), ('diana', 3584), ('intim', 3585), ('parad', 3586), ('wet', 3587), ('goer', 3588), ('trashi', 3589), ('porno', 3590), ('shed', 3591), ('revolt', 3592), ('niro', 3593), ('ethnic', 3594), ('shaw', 3595), ('sympath', 3596), ('woo', 3597), ('sibl', 3598), ('resurrect', 3599), ('faster', 3600), ('justin', 3601), ('riot', 3602), ('lumet', 3603), ('bitch', 3604), ('ration', 3605), ('wheel', 3606), ('partial', 3607), ('ensur', 3608), ('worm', 3609), ('immort', 3610), ('rider', 3611), ('dealer', 3612), ('gap', 3613), ('lena', 3614), ('honesti', 3615), ('nephew', 3616), ('enlighten', 3617), ('hopper', 3618), ('slick', 3619), ('unreal', 3620), ('commend', 3621), ('region', 3622), ('steam', 3623), ('hesit', 3624), ('andr', 3625), ('eager', 3626), ('wendi', 3627), ('jonathan', 3628), ('feminist', 3629), ('choru', 3630), ('mario', 3631), ('patriot', 3632), ('weakest', 3633), ('ballet', 3634), ('farmer', 3635), ('00', 3636), ('biographi', 3637), ('owen', 3638), ('franco', 3639), ('leo', 3640), ('psychopath', 3641), ('similarli', 3642), ('blunt', 3643), ('victori', 3644), ('snap', 3645), ('kingdom', 3646), ('vice', 3647), ('util', 3648), ('prequel', 3649), ('properti', 3650), ('wore', 3651), ('composit', 3652), ('skull', 3653), ('repress', 3654), ('safeti', 3655), ('charlott', 3656), ('mutant', 3657), ('sappi', 3658), ('hung', 3659), ('macarthur', 3660), ('confin', 3661), ('morri', 3662), ('nostalg', 3663), ('sandra', 3664), ('rocki', 3665), ('compass', 3666), ('miseri', 3667), ('rope', 3668), ('acquir', 3669), ('cg', 3670), ('nervou', 3671), ('deed', 3672), ('bonu', 3673), ('valuabl', 3674), ('speci', 3675), ('bow', 3676), ('montana', 3677), ('campbel', 3678), ('emperor', 3679), ('1972', 3680), ('despair', 3681), ('drain', 3682), ('latin', 3683), ('exit', 3684), ('compens', 3685), ('drum', 3686), ('dust', 3687), ('repli', 3688), ('whoopi', 3689), ('recycl', 3690), ('tad', 3691), ('dalton', 3692), ('farrel', 3693), ('bergman', 3694), ('bumbl', 3695), ('snl', 3696), ('rambl', 3697), ('strand', 3698), ('del', 3699), ('tail', 3700), ('thru', 3701), ('pattern', 3702), ('heartbreak', 3703), ('kyle', 3704), ('hyde', 3705), ('wacki', 3706), ('bleed', 3707), ('oppress', 3708), ('carradin', 3709), ('rapist', 3710), ('percept', 3711), ('gimmick', 3712), ('35', 3713), ('rotten', 3714), ('roth', 3715), ('airport', 3716), ('contempl', 3717), ('orson', 3718), ('pour', 3719), ('tonight', 3720), ('mistress', 3721), ('da', 3722), ('downhil', 3723), ('romp', 3724), ('martian', 3725), ('olli', 3726), ('gal', 3727), ('radic', 3728), ('chess', 3729), ('slug', 3730), ('attorney', 3731), ('slash', 3732), ('paltrow', 3733), ('pervert', 3734), ('pervers', 3735), ('edgar', 3736), ('1983', 3737), ('tooth', 3738), ('arc', 3739), ('champion', 3740), ('tackl', 3741), ('shelley', 3742), ('heal', 3743), ('dazzl', 3744), ('preach', 3745), ('arguabl', 3746), ('taught', 3747), ('pursuit', 3748), ('melodi', 3749), ('unpredict', 3750), ('banal', 3751), ('mislead', 3752), ('stilt', 3753), ('programm', 3754), ('belt', 3755), ('employe', 3756), ('graham', 3757), ('mesmer', 3758), ('closest', 3759), ('vengeanc', 3760), ('poem', 3761), ('vocal', 3762), ('sensat', 3763), ('gambl', 3764), ('cleverli', 3765), ('raymond', 3766), ('plight', 3767), ('bela', 3768), ('passeng', 3769), ('uplift', 3770), ('virginia', 3771), ('orang', 3772), ('tiresom', 3773), ('franki', 3774), ('marti', 3775), ('chicken', 3776), ('rubi', 3777), ('conneri', 3778), ('duval', 3779), ('maid', 3780), ('dixon', 3781), ('1968', 3782), ('profan', 3783), ('tube', 3784), ('clone', 3785), ('mute', 3786), ('paranoia', 3787), ('abraham', 3788), ('numb', 3789), ('monologu', 3790), ('lundgren', 3791), ('crystal', 3792), ('bay', 3793), ('quarter', 3794), ('engross', 3795), ('iran', 3796), ('climact', 3797), ('sirk', 3798), ('extens', 3799), ('whine', 3800), ('yawn', 3801), ('amitabh', 3802), ('suffic', 3803), ('habit', 3804), ('secretli', 3805), ('volum', 3806), ('inject', 3807), ('convincingli', 3808), ('giggl', 3809), ('scottish', 3810), ('calm', 3811), ('swallow', 3812), ('outing', 3813), ('pokemon', 3814), ('gerard', 3815), ('fed', 3816), ('earl', 3817), ('bend', 3818), ('austen', 3819), ('grotesqu', 3820), ('taxi', 3821), ('lowest', 3822), ('trend', 3823), ('junior', 3824), ('backward', 3825), ('septemb', 3826), ('surpass', 3827), ('linger', 3828), ('poetri', 3829), ('nichola', 3830), ('im', 3831), ('expand', 3832), ('profess', 3833), ('underst', 3834), ('chicago', 3835), ('frankenstein', 3836), ('plod', 3837), ('franci', 3838), ('meander', 3839), ('ethan', 3840), ('richardson', 3841), ('abort', 3842), ('spock', 3843), ('dispos', 3844), ('waitress', 3845), ('lure', 3846), ('compliment', 3847), ('eugen', 3848), ('mundan', 3849), ('household', 3850), ('der', 3851), ('stallon', 3852), ('nostalgia', 3853), ('myth', 3854), ('sue', 3855), ('greedi', 3856), ('instrument', 3857), ('simplic', 3858), ('rubber', 3859), ('rant', 3860), ('muddl', 3861), ('literatur', 3862), ('descent', 3863), ('tourist', 3864), ('spoke', 3865), ('catchi', 3866), ('dysfunct', 3867), ('econom', 3868), ('cannon', 3869), ('hum', 3870), ('damon', 3871), ('duck', 3872), ('omen', 3873), ('hello', 3874), ('firstli', 3875), ('sissi', 3876), ('flee', 3877), ('phantom', 3878), ('recognit', 3879), ('mankind', 3880), ('crucial', 3881), ('recognis', 3882), ('furi', 3883), ('eaten', 3884), ('mortal', 3885), ('dictat', 3886), ('insur', 3887), ('cent', 3888), ('coast', 3889), ('occupi', 3890), ('june', 3891), ('randi', 3892), ('irrelev', 3893), ('lang', 3894), ('alongsid', 3895), ('dement', 3896), ('map', 3897), ('phoni', 3898), ('equival', 3899), ('stale', 3900), ('carel', 3901), ('louis', 3902), ('bacal', 3903), ('deaf', 3904), ('molli', 3905), ('heel', 3906), ('dreari', 3907), ('wisdom', 3908), ('bump', 3909), ('twilight', 3910), ('freez', 3911), ('damm', 3912), ('cyborg', 3913), ('distinguish', 3914), ('daisi', 3915), ('onlin', 3916), ('lengthi', 3917), ('biko', 3918), ('likewis', 3919), ('blackmail', 3920), ('buffalo', 3921), ('rude', 3922), ('loyalti', 3923), ('newli', 3924), ('bike', 3925), ('labor', 3926), ('ashley', 3927), ('1973', 3928), ('antwon', 3929), ('reign', 3930), ('rooney', 3931), ('grayson', 3932), ('drake', 3933), ('chronicl', 3934), ('unorigin', 3935), ('startl', 3936), ('worn', 3937), ('interior', 3938), ('attribut', 3939), ('nineti', 3940), ('emphas', 3941), ('tunnel', 3942), ('vein', 3943), ('barrymor', 3944), ('prey', 3945), ('baddi', 3946), ('keith', 3947), ('inher', 3948), ('basketbal', 3949), ('approv', 3950), ('provoc', 3951), ('exposur', 3952), ('boxer', 3953), ('butler', 3954), ('pink', 3955), ('analysi', 3956), ('incorpor', 3957), ('proce', 3958), ('ridden', 3959), ('sailor', 3960), ('substitut', 3961), ('bunni', 3962), ('hypnot', 3963), ('drift', 3964), ('robbin', 3965), ('predat', 3966), ('othello', 3967), ('belushi', 3968), ('mighti', 3969), ('fleet', 3970), ('meyer', 3971), ('nicol', 3972), ('meg', 3973), ('er', 3974), ('simmon', 3975), ('indiffer', 3976), ('millionair', 3977), ('improvis', 3978), ('elm', 3979), ('unrel', 3980), ('underli', 3981), ('walsh', 3982), ('condemn', 3983), ('undeni', 3984), ('degrad', 3985), ('stalker', 3986), ('carla', 3987), ('barrel', 3988), ('mormon', 3989), ('julian', 3990), ('priceless', 3991), ('warmth', 3992), ('alison', 3993), ('disord', 3994), ('palac', 3995), ('3d', 3996), ('shove', 3997), ('reid', 3998), ('hay', 3999), ('errol', 4000), ('alarm', 4001), ('enthusiasm', 4002), ('vital', 4003), ('watson', 4004), ('mtv', 4005), ('exquisit', 4006), ('greed', 4007), ('novak', 4008), ('agenda', 4009), ('unawar', 4010), ('dolph', 4011), ('firm', 4012), ('nyc', 4013), ('edgi', 4014), ('marion', 4015), ('roof', 4016), ('rukh', 4017), ('lampoon', 4018), ('orlean', 4019), ('simultan', 4020), ('distort', 4021), ('showdown', 4022), ('13th', 4023), ('angela', 4024), ('pamela', 4025), ('minimum', 4026), ('1933', 4027), ('preserv', 4028), ('glanc', 4029), ('thompson', 4030), ('randomli', 4031), ('ponder', 4032), ('valentin', 4033), ('testament', 4034), ('cassidi', 4035), ('eastern', 4036), ('iraq', 4037), ('crown', 4038), ('peck', 4039), ('israel', 4040), ('profit', 4041), ('nun', 4042), ('campaign', 4043), ('petti', 4044), ('sergeant', 4045), ('unleash', 4046), ('peril', 4047), ('coup', 4048), ('spain', 4049), ('gestur', 4050), ('drip', 4051), ('session', 4052), ('what', 4053), ('championship', 4054), ('beatl', 4055), ('zizek', 4056), ('unimagin', 4057), ('travesti', 4058), ('climat', 4059), ('stroke', 4060), ('regist', 4061), ('stake', 4062), ('buster', 4063), ('crow', 4064), ('shootout', 4065), ('wig', 4066), ('han', 4067), ('reson', 4068), ('brenda', 4069), ('din', 4070), ('rout', 4071), ('cooki', 4072), ('1984', 4073), ('contradict', 4074), ('calib', 4075), ('realm', 4076), ('scotland', 4077), ('empathi', 4078), ('perpetu', 4079), ('miyazaki', 4080), ('exposit', 4081), ('sabrina', 4082), ('restrain', 4083), ('valley', 4084), ('crawl', 4085), ('jan', 4086), ('fido', 4087), ('represent', 4088), ('mon', 4089), ('gentleman', 4090), ('quinn', 4091), ('bro', 4092), ('cream', 4093), ('kurosawa', 4094), ('unseen', 4095), ('dana', 4096), ('pole', 4097), ('perceiv', 4098), ('josh', 4099), ('businessman', 4100), ('compromis', 4101), ('unsatisfi', 4102), ('mclaglen', 4103), ('shoddi', 4104), ('greg', 4105), ('geek', 4106), ('tacki', 4107), ('1997', 4108), ('soderbergh', 4109), ('femm', 4110), ('1987', 4111), ('fuller', 4112), ('cloud', 4113), ('spacey', 4114), ('absent', 4115), ('warrant', 4116), ('pretens', 4117), ('traumat', 4118), ('wax', 4119), ('painter', 4120), ('meryl', 4121), ('sucker', 4122), ('abomin', 4123), ('passabl', 4124), ('derang', 4125), ('delic', 4126), ('ross', 4127), ('monoton', 4128), ('distress', 4129), ('sammi', 4130), ('censor', 4131), ('stargat', 4132), ('ustinov', 4133), ('shaki', 4134), ('darren', 4135), ('baldwin', 4136), ('demis', 4137), ('crawford', 4138), ('deceas', 4139), ('fog', 4140), ('verbal', 4141), ('dee', 4142), ('exclus', 4143), ('primit', 4144), ('clash', 4145), ('anchor', 4146), ('tarantino', 4147), ('accuraci', 4148), ('judgment', 4149), ('expedit', 4150), ('tech', 4151), ('fenc', 4152), ('austin', 4153), ('wholli', 4154), ('correctli', 4155), ('kumar', 4156), ('polici', 4157), ('unravel', 4158), ('sid', 4159), ('seal', 4160), ('norm', 4161), ('antonioni', 4162), ('nathan', 4163), ('deniro', 4164), ('click', 4165), ('furiou', 4166), ('jewel', 4167), ('uncov', 4168), ('reluct', 4169), ('1993', 4170), ('valid', 4171), ('behold', 4172), ('enforc', 4173), ('conduct', 4174), ('patienc', 4175), ('trait', 4176), ('fart', 4177), ('sustain', 4178), ('roller', 4179), ('pocket', 4180), ('clerk', 4181), ('fabric', 4182), ('murray', 4183), ('sand', 4184), ('wang', 4185), ('hallucin', 4186), ('logan', 4187), ('darn', 4188), ('shanghai', 4189), ('crippl', 4190), ('bake', 4191), ('fought', 4192), ('slam', 4193), ('1971', 4194), ('dreck', 4195), ('nicola', 4196), ('joel', 4197), ('2008', 4198), ('debt', 4199), ('3000', 4200), ('temper', 4201), ('seldom', 4202), ('sunni', 4203), ('ritual', 4204), ('mode', 4205), ('1995', 4206), ('tax', 4207), ('unfair', 4208), ('wretch', 4209), ('alec', 4210), ('sheet', 4211), ('vanc', 4212), ('malon', 4213), ('runner', 4214), ('bias', 4215), ('canyon', 4216), ('sweep', 4217), ('despis', 4218), ('guitar', 4219), ('critiqu', 4220), ('schedul', 4221), ('scriptwrit', 4222), ('soup', 4223), ('legaci', 4224), ('preston', 4225), ('stark', 4226), ('rita', 4227), ('fundament', 4228), ('stuart', 4229), ('technicolor', 4230), ('divid', 4231), ('pete', 4232), ('clau', 4233), ('helpless', 4234), ('preposter', 4235), ('squad', 4236), ('exhaust', 4237), ('shell', 4238), ('robber', 4239), ('conscious', 4240), ('isabel', 4241), ('grief', 4242), ('penni', 4243), ('outlin', 4244), ('phil', 4245), ('tactic', 4246), ('bridget', 4247), ('sentinel', 4248), ('propos', 4249), ('restrict', 4250), ('alicia', 4251), ('liberti', 4252), ('palanc', 4253), ('sugar', 4254), ('jodi', 4255), ('sniper', 4256), ('delv', 4257), ('invad', 4258), ('consciou', 4259), ('marc', 4260), ('agenc', 4261), ('jacket', 4262), ('drove', 4263), ('culmin', 4264), ('rear', 4265), ('rehash', 4266), ('inabl', 4267), ('vomit', 4268), ('flair', 4269), ('connor', 4270), ('gregori', 4271), ('kansa', 4272), ('passag', 4273), ('bloom', 4274), ('lacklust', 4275), ('unexpectedli', 4276), ('boyl', 4277), ('alley', 4278), ('implic', 4279), ('cigarett', 4280), ('newman', 4281), ('russia', 4282), ('downey', 4283), ('mccoy', 4284), ('arrow', 4285), ('tendenc', 4286), ('behaviour', 4287), ('ladder', 4288), ('foxx', 4289), ('pale', 4290), ('rampag', 4291), ('lush', 4292), ('rehears', 4293), ('bacon', 4294), ('cap', 4295), ('horn', 4296), ('awhil', 4297), ('wrench', 4298), ('1936', 4299), ('aesthet', 4300), ('improb', 4301), ('feat', 4302), ('asylum', 4303), ('tripe', 4304), ('chainsaw', 4305), ('22', 4306), ('karl', 4307), ('rod', 4308), ('vet', 4309), ('sharon', 4310), ('kolchak', 4311), ('yeti', 4312), ('delet', 4313), ('financ', 4314), ('wagner', 4315), ('suspicion', 4316), ('coaster', 4317), ('paradis', 4318), ('1988', 4319), ('lurk', 4320), ('prank', 4321), ('conscienc', 4322), ('hungri', 4323), ('filler', 4324), ('19th', 4325), ('rumor', 4326), ('underneath', 4327), ('hackney', 4328), ('elit', 4329), ('sung', 4330), ('tasteless', 4331), ('minu', 4332), ('scoop', 4333), ('1978', 4334), ('weav', 4335), ('globe', 4336), ('thunderbird', 4337), ('paramount', 4338), ('shortcom', 4339), ('stream', 4340), ('1920', 4341), ('spice', 4342), ('amazon', 4343), ('aristocrat', 4344), ('wildli', 4345), ('loneli', 4346), ('suffici', 4347), ('fright', 4348), ('basing', 4349), ('el', 4350), ('newcom', 4351), ('tomorrow', 4352), ('rhythm', 4353), ('hulk', 4354), ('visitor', 4355), ('brit', 4356), ('lectur', 4357), ('grudg', 4358), ('75', 4359), ('beverli', 4360), ('dirt', 4361), ('standout', 4362), ('teas', 4363), ('couch', 4364), ('choppi', 4365), ('leigh', 4366), ('immers', 4367), ('smell', 4368), ('heist', 4369), ('1939', 4370), ('1989', 4371), ('penn', 4372), ('secondari', 4373), ('paxton', 4374), ('iv', 4375), ('literari', 4376), ('impos', 4377), ('counterpart', 4378), ('entranc', 4379), ('abrupt', 4380), ('minist', 4381), ('straightforward', 4382), ('recogniz', 4383), ('naughti', 4384), ('ingeni', 4385), ('chamberlain', 4386), ('worship', 4387), ('chavez', 4388), ('hopkin', 4389), ('inmat', 4390), ('tierney', 4391), ('quietli', 4392), ('ram', 4393), ('atroc', 4394), ('curli', 4395), ('en', 4396), ('springer', 4397), ('bread', 4398), ('posey', 4399), ('rub', 4400), ('cancer', 4401), ('wwe', 4402), ('moreov', 4403), ('cattl', 4404), ('yearn', 4405), ('morbid', 4406), ('misguid', 4407), ('1986', 4408), ('watcher', 4409), ('duel', 4410), ('laurenc', 4411), ('net', 4412), ('nemesi', 4413), ('transcend', 4414), ('nolan', 4415), ('heartfelt', 4416), ('lindsay', 4417), ('variat', 4418), ('clan', 4419), ('injuri', 4420), ('policeman', 4421), ('entitl', 4422), ('sassi', 4423), ('attenborough', 4424), ('missil', 4425), ('bernard', 4426), ('quaid', 4427), ('enthral', 4428), ('esther', 4429), ('convert', 4430), ('ace', 4431), ('ratso', 4432), ('sublim', 4433), ('geni', 4434), ('skeptic', 4435), ('enabl', 4436), ('rosemari', 4437), ('mytholog', 4438), ('setup', 4439), ('artsi', 4440), ('buzz', 4441), ('vader', 4442), ('obstacl', 4443), ('reliabl', 4444), ('diari', 4445), ('tyler', 4446), ('hopelessli', 4447), ('egg', 4448), ('hk', 4449), ('youngest', 4450), ('uncut', 4451), ('carlito', 4452), ('kitti', 4453), ('graini', 4454), ('facil', 4455), ('1979', 4456), ('steadi', 4457), ('grin', 4458), ('brood', 4459), ('spiral', 4460), ('unexplain', 4461), ('characteris', 4462), ('out', 4463), ('puppi', 4464), ('kidman', 4465), ('poe', 4466), ('bean', 4467), ('moder', 4468), ('dont', 4469), ('cruelti', 4470), ('bye', 4471), ('oblig', 4472), ('1969', 4473), ('acquaint', 4474), ('despic', 4475), ('clueless', 4476), ('sweat', 4477), ('fuel', 4478), ('bewar', 4479), ('bounc', 4480), ('kline', 4481), ('niec', 4482), ('narrow', 4483), ('effici', 4484), ('exterior', 4485), ('decept', 4486), ('underworld', 4487), ('brendan', 4488), ('bronson', 4489), ('baffl', 4490), ('hammi', 4491), ('gina', 4492), ('gillian', 4493), ('patricia', 4494), ('athlet', 4495), ('martha', 4496), ('preming', 4497), ('disastr', 4498), ('spontan', 4499), ('christin', 4500), ('heap', 4501), ('hain', 4502), ('weather', 4503), ('goof', 4504), ('renaiss', 4505), ('dandi', 4506), ('suprem', 4507), ('virtu', 4508), ('preachi', 4509), ('trigger', 4510), ('hepburn', 4511), ('73', 4512), ('shatter', 4513), ('loath', 4514), ('19', 4515), ('mayhem', 4516), ('astound', 4517), ('viewpoint', 4518), ('enlist', 4519), ('circu', 4520), ('uh', 4521), ('sooner', 4522), ('analyz', 4523), ('tick', 4524), ('scar', 4525), ('sleepwalk', 4526), ('mermaid', 4527), ('loi', 4528), ('taboo', 4529), ('injur', 4530), ('candl', 4531), ('dilemma', 4532), ('housewif', 4533), ('angst', 4534), ('fontain', 4535), ('rome', 4536), ('insipid', 4537), ('headach', 4538), ('harmless', 4539), ('biker', 4540), ('outlaw', 4541), ('lester', 4542), ('redund', 4543), ('immatur', 4544), ('glorifi', 4545), ('overlong', 4546), ('fluff', 4547), ('stair', 4548), ('steer', 4549), ('gere', 4550), ('hostag', 4551), ('macho', 4552), ('intric', 4553), ('sox', 4554), ('hokey', 4555), ('dish', 4556), ('salt', 4557), ('whore', 4558), ('camcord', 4559), ('claustrophob', 4560), ('spade', 4561), ('foolish', 4562), ('scorses', 4563), ('phenomenon', 4564), ('corbett', 4565), ('contempt', 4566), ('dismal', 4567), ('bent', 4568), ('boston', 4569), ('ariel', 4570), ('hooker', 4571), ('zoom', 4572), ('stimul', 4573), ('surgeri', 4574), ('amor', 4575), ('slimi', 4576), ('ebert', 4577), ('filth', 4578), ('oldest', 4579), ('idol', 4580), ('tripl', 4581), ('guin', 4582), ('cassavet', 4583), ('spree', 4584), ('faint', 4585), ('flirt', 4586), ('trivia', 4587), ('alvin', 4588), ('shred', 4589), ('perman', 4590), ('frantic', 4591), ('messi', 4592), ('harold', 4593), ('mount', 4594), ('keen', 4595), ('dwarf', 4596), ('transplant', 4597), ('joker', 4598), ('shield', 4599), ('down', 4600), ('1976', 4601), ('remad', 4602), ('assert', 4603), ('preced', 4604), ('1981', 4605), ('cow', 4606), ('conquer', 4607), ('spinal', 4608), ('obligatori', 4609), ('rhyme', 4610), ('beard', 4611), ('mutual', 4612), ('muscl', 4613), ('antagonist', 4614), ('flag', 4615), ('astronaut', 4616), ('gasp', 4617), ('schlock', 4618), ('cohen', 4619), ('proport', 4620), ('widescreen', 4621), ('margin', 4622), ('flashi', 4623), ('strongest', 4624), ('cush', 4625), ('corman', 4626), ('fascist', 4627), ('radiat', 4628), ('zane', 4629), ('nolt', 4630), ('gabl', 4631), ('naschi', 4632), ('strive', 4633), ('95', 4634), ('carey', 4635), ('flock', 4636), ('deer', 4637), ('sensual', 4638), ('1945', 4639), ('www', 4640), ('inflict', 4641), ('28', 4642), ('claud', 4643), ('danish', 4644), ('barn', 4645), ('departur', 4646), ('info', 4647), ('fishburn', 4648), ('hara', 4649), ('ritchi', 4650), ('discern', 4651), ('boob', 4652), ('triangl', 4653), ('vaniti', 4654), ('divin', 4655), ('bachelor', 4656), ('resum', 4657), ('someday', 4658), ('archiv', 4659), ('wield', 4660), ('off', 4661), ('interestingli', 4662), ('raj', 4663), ('repris', 4664), ('mobil', 4665), ('persuad', 4666), ('instruct', 4667), ('neurot', 4668), ('brush', 4669), ('scandal', 4670), ('aborigin', 4671), ('bitten', 4672), ('mol', 4673), ('undermin', 4674), ('harrison', 4675), ('jade', 4676), ('mobster', 4677), ('ish', 4678), ('senior', 4679), ('pacif', 4680), ('biblic', 4681), ('hapless', 4682), ('colin', 4683), ('cb', 4684), ('cliffhang', 4685), ('cycl', 4686), ('luka', 4687), ('proclaim', 4688), ('helm', 4689), ('traffic', 4690), ('prophet', 4691), ('pixar', 4692), ('carlo', 4693), ('dim', 4694), ('hilar', 4695), ('banter', 4696), ('artwork', 4697), ('casino', 4698), ('clad', 4699), ('anton', 4700), ('submit', 4701), ('kathryn', 4702), ('bate', 4703), ('loretta', 4704), ('fragil', 4705), ('heartwarm', 4706), ('hug', 4707), ('melissa', 4708), ('recit', 4709), ('timberlak', 4710), ('wendigo', 4711), ('neill', 4712), ('parson', 4713), ('miracul', 4714), ('cher', 4715), ('earnest', 4716), ('dame', 4717), ('frontier', 4718), ('vibrant', 4719), ('europa', 4720), ('rot', 4721), ('dylan', 4722), ('axe', 4723), ('pickford', 4724), ('sicken', 4725), ('legitim', 4726), ('eli', 4727), ('jordan', 4728), ('pc', 4729), ('redneck', 4730), ('token', 4731), ('cerebr', 4732), ('estrang', 4733), ('toronto', 4734), ('holocaust', 4735), ('isra', 4736), ('flavor', 4737), ('vile', 4738), ('seedi', 4739), ('akin', 4740), ('blatantli', 4741), ('foil', 4742), ('milo', 4743), ('razor', 4744), ('mason', 4745), ('aris', 4746), ('northern', 4747), ('lucil', 4748), ('choke', 4749), ('static', 4750), ('misfortun', 4751), ('articl', 4752), ('jo', 4753), ('bondag', 4754), ('lui', 4755), ('breakfast', 4756), ('illus', 4757), ('vanessa', 4758), ('venom', 4759), ('wardrob', 4760), ('winchest', 4761), ('shepherd', 4762), ('uma', 4763), ('electron', 4764), ('rooki', 4765), ('antholog', 4766), ('bikini', 4767), ('http', 4768), ('marlon', 4769), ('feast', 4770), ('orphan', 4771), ('nope', 4772), ('trier', 4773), ('alexandr', 4774), ('mathieu', 4775), ('disregard', 4776), ('glare', 4777), ('huston', 4778), ('abund', 4779), ('charlton', 4780), ('deem', 4781), ('ideolog', 4782), ('howl', 4783), ('smack', 4784), ('psych', 4785), ('knightley', 4786), ('nightclub', 4787), ('comprehend', 4788), ('outdat', 4789), ('highway', 4790), ('gunga', 4791), ('shorter', 4792), ('oppon', 4793), ('styliz', 4794), ('audrey', 4795), ('fifth', 4796), ('magician', 4797), ('swept', 4798), ('tack', 4799), ('affleck', 4800), ('leather', 4801), ('dudley', 4802), ('cartoonish', 4803), ('gilbert', 4804), ('peer', 4805), ('wrestler', 4806), ('clinic', 4807), ('linear', 4808), ('turd', 4809), ('retriev', 4810), ('feminin', 4811), ('frog', 4812), ('boyer', 4813), ('ceremoni', 4814), ('whack', 4815), ('bastard', 4816), ('braveheart', 4817), ('1991', 4818), ('evolut', 4819), ('greet', 4820), ('spawn', 4821), ('chip', 4822), ('cuban', 4823), ('compris', 4824), ('deliver', 4825), ('lighter', 4826), ('tara', 4827), ('einstein', 4828), ('newer', 4829), ('bogu', 4830), ('monument', 4831), ('lifeless', 4832), ('summar', 4833), ('potter', 4834), ('sleaz', 4835), ('snatch', 4836), ('phenomen', 4837), ('collector', 4838), ('plate', 4839), ('btw', 4840), ('durat', 4841), ('boo', 4842), ('senat', 4843), ('salman', 4844), ('uniformli', 4845), ('conrad', 4846), ('client', 4847), ('4th', 4848), ('corn', 4849), ('energet', 4850), ('1994', 4851), ('breakdown', 4852), ('moe', 4853), ('lavish', 4854), ('cemeteri', 4855), ('toe', 4856), ('mitch', 4857), ('spine', 4858), ('goldsworthi', 4859), ('trauma', 4860), ('neatli', 4861), ('jam', 4862), ('creek', 4863), ('healthi', 4864), ('replay', 4865), ('constitut', 4866), ('kazan', 4867), ('firmli', 4868), ('embark', 4869), ('appl', 4870), ('jedi', 4871), ('clara', 4872), ('capot', 4873), ('ie', 4874), ('bulk', 4875), ('historian', 4876), ('inaccuraci', 4877), ('1977', 4878), ('randolph', 4879), ('pronounc', 4880), ('belli', 4881), ('luxuri', 4882), ('fluid', 4883), ('occup', 4884), ('liu', 4885), ('bori', 4886), ('gilliam', 4887), ('1974', 4888), ('eleven', 4889), ('signal', 4890), ('outright', 4891), ('lex', 4892), ('wtf', 4893), ('spectacl', 4894), ('sorrow', 4895), ('nina', 4896), ('kent', 4897), ('judd', 4898), ('undead', 4899), ('jare', 4900), ('mcqueen', 4901), ('jule', 4902), ('evelyn', 4903), ('alleg', 4904), ('ol', 4905), ('undertak', 4906), ('armstrong', 4907), ('cecil', 4908), ('congratul', 4909), ('palm', 4910), ('goldblum', 4911), ('genet', 4912), ('bait', 4913), ('blur', 4914), ('poker', 4915), ('miami', 4916), ('propheci', 4917), ('inaccur', 4918), ('mum', 4919), ('galaxi', 4920), ('truman', 4921), ('decapit', 4922), ('forgiven', 4923), ('subtli', 4924), ('basket', 4925), ('knee', 4926), ('pepper', 4927), ('spray', 4928), ('ash', 4929), ('unsuspect', 4930), ('relentless', 4931), ('comprehens', 4932), ('inclus', 4933), ('kiddi', 4934), ('vain', 4935), ('unattract', 4936), ('comb', 4937), ('tokyo', 4938), ('id', 4939), ('groan', 4940), ('roar', 4941), ('1985', 4942), ('antonio', 4943), ('meal', 4944), ('vignett', 4945), ('sacrif', 4946), ('pioneer', 4947), ('miniseri', 4948), ('curtain', 4949), ('porter', 4950), ('sidewalk', 4951), ('rosario', 4952), ('fruit', 4953), ('abound', 4954), ('cape', 4955), ('lanc', 4956), ('lauren', 4957), ('aussi', 4958), ('conan', 4959), ('bsg', 4960), ('paula', 4961), ('walt', 4962), ('carmen', 4963), ('handicap', 4964), ('substanti', 4965), ('omin', 4966), ('verg', 4967), ('asset', 4968), ('bravo', 4969), ('macabr', 4970), ('detach', 4971), ('jill', 4972), ('optimist', 4973), ('playboy', 4974), ('ghetto', 4975), ('hostil', 4976), ('epitom', 4977), ('drone', 4978), ('growth', 4979), ('scariest', 4980), ('orchestr', 4981), ('motorcycl', 4982), ('incorrect', 4983), ('weari', 4984), ('monti', 4985), ('weaker', 4986), ('reincarn', 4987), ('turtl', 4988), ('rapidli', 4989), ('scarfac', 4990), ('ingrid', 4991), ('profil', 4992), ('assort', 4993), ('vastli', 4994), ('sparkl', 4995), ('bach', 4996), ('dubiou', 4997), ('evan', 4998), ('masterson', 4999)])"
      ]
     },
     "execution_count": 16,
     "metadata": {},
     "output_type": "execute_result"
    }
   ],
   "source": [
    "# TODO: Use this space to determine the five most frequently appearing words in the training set.\n",
    "word_dict.items()"
   ]
  },
  {
   "cell_type": "markdown",
   "metadata": {},
   "source": [
    "### Save `word_dict`\n",
    "\n",
    "Later on when we construct an endpoint which processes a submitted review we will need to make use of the `word_dict` which we have created. As such, we will save it to a file now for future use."
   ]
  },
  {
   "cell_type": "code",
   "execution_count": 17,
   "metadata": {},
   "outputs": [],
   "source": [
    "data_dir = '../data/pytorch' # The folder we will use for storing data\n",
    "if not os.path.exists(data_dir): # Make sure that the folder exists\n",
    "    os.makedirs(data_dir)"
   ]
  },
  {
   "cell_type": "code",
   "execution_count": 18,
   "metadata": {},
   "outputs": [],
   "source": [
    "with open(os.path.join(data_dir, 'word_dict.pkl'), \"wb\") as f:\n",
    "    pickle.dump(word_dict, f)"
   ]
  },
  {
   "cell_type": "markdown",
   "metadata": {},
   "source": [
    "### Transform the reviews\n",
    "\n",
    "Now that we have our word dictionary which allows us to transform the words appearing in the reviews into integers, it is time to make use of it and convert our reviews to their integer sequence representation, making sure to pad or truncate to a fixed length, which in our case is `500`."
   ]
  },
  {
   "cell_type": "code",
   "execution_count": 19,
   "metadata": {},
   "outputs": [],
   "source": [
    "def convert_and_pad(word_dict, sentence, pad=500):\n",
    "    NOWORD = 0 # We will use 0 to represent the 'no word' category\n",
    "    INFREQ = 1 # and we use 1 to represent the infrequent words, i.e., words not appearing in word_dict\n",
    "    \n",
    "    working_sentence = [NOWORD] * pad\n",
    "    \n",
    "    for word_index, word in enumerate(sentence[:pad]):\n",
    "        if word in word_dict:\n",
    "            working_sentence[word_index] = word_dict[word]\n",
    "        else:\n",
    "            working_sentence[word_index] = INFREQ\n",
    "            \n",
    "    return working_sentence, min(len(sentence), pad)\n",
    "\n",
    "def convert_and_pad_data(word_dict, data, pad=500):\n",
    "    result = []\n",
    "    lengths = []\n",
    "    \n",
    "    for sentence in data:\n",
    "        converted, leng = convert_and_pad(word_dict, sentence, pad)\n",
    "        result.append(converted)\n",
    "        lengths.append(leng)\n",
    "        \n",
    "    return np.array(result), np.array(lengths)"
   ]
  },
  {
   "cell_type": "code",
   "execution_count": 20,
   "metadata": {},
   "outputs": [],
   "source": [
    "train_X, train_X_len = convert_and_pad_data(word_dict, train_X)\n",
    "test_X, test_X_len = convert_and_pad_data(word_dict, test_X)"
   ]
  },
  {
   "cell_type": "markdown",
   "metadata": {},
   "source": [
    "As a quick check to make sure that things are working as intended, check to see what one of the reviews in the training set looks like after having been processeed. Does this look reasonable? What is the length of a review in the training set?"
   ]
  },
  {
   "cell_type": "code",
   "execution_count": 21,
   "metadata": {},
   "outputs": [
    {
     "data": {
      "text/plain": [
       "array([ 271, 3131,  990,    4,  212,   45,  575,   55,  827, 3906, 2116,\n",
       "        389,  884,  679,  781, 3416,  369, 1206,   48,  311,   12,   52,\n",
       "        255,  990,  693,  460,  499,  323,    6,   34,  142, 1377,   36,\n",
       "         12,  666,    4,  395,   35,   12,   28,  290,  101,  133,  179,\n",
       "         96,  142,   30,  868,  551,  460,  351,  760,   46,  389, 1953,\n",
       "          1,  223,  912, 1445,    1,  389,    4,   53,  315,  460, 2038,\n",
       "        208,  525,  336,   35,    5,  415,    1, 1953,  860, 1345,  429,\n",
       "         20,  440, 2368,  390, 2678, 1320,   36,   30,  965,  131,    1,\n",
       "         25,    1,   83,   83,   11, 1832,    0,    0,    0,    0,    0,\n",
       "          0,    0,    0,    0,    0,    0,    0,    0,    0,    0,    0,\n",
       "          0,    0,    0,    0,    0,    0,    0,    0,    0,    0,    0,\n",
       "          0,    0,    0,    0,    0,    0,    0,    0,    0,    0,    0,\n",
       "          0,    0,    0,    0,    0,    0,    0,    0,    0,    0,    0,\n",
       "          0,    0,    0,    0,    0,    0,    0,    0,    0,    0,    0,\n",
       "          0,    0,    0,    0,    0,    0,    0,    0,    0,    0,    0,\n",
       "          0,    0,    0,    0,    0,    0,    0,    0,    0,    0,    0,\n",
       "          0,    0,    0,    0,    0,    0,    0,    0,    0,    0,    0,\n",
       "          0,    0,    0,    0,    0,    0,    0,    0,    0,    0,    0,\n",
       "          0,    0,    0,    0,    0,    0,    0,    0,    0,    0,    0,\n",
       "          0,    0,    0,    0,    0,    0,    0,    0,    0,    0,    0,\n",
       "          0,    0,    0,    0,    0,    0,    0,    0,    0,    0,    0,\n",
       "          0,    0,    0,    0,    0,    0,    0,    0,    0,    0,    0,\n",
       "          0,    0,    0,    0,    0,    0,    0,    0,    0,    0,    0,\n",
       "          0,    0,    0,    0,    0,    0,    0,    0,    0,    0,    0,\n",
       "          0,    0,    0,    0,    0,    0,    0,    0,    0,    0,    0,\n",
       "          0,    0,    0,    0,    0,    0,    0,    0,    0,    0,    0,\n",
       "          0,    0,    0,    0,    0,    0,    0,    0,    0,    0,    0,\n",
       "          0,    0,    0,    0,    0,    0,    0,    0,    0,    0,    0,\n",
       "          0,    0,    0,    0,    0,    0,    0,    0,    0,    0,    0,\n",
       "          0,    0,    0,    0,    0,    0,    0,    0,    0,    0,    0,\n",
       "          0,    0,    0,    0,    0,    0,    0,    0,    0,    0,    0,\n",
       "          0,    0,    0,    0,    0,    0,    0,    0,    0,    0,    0,\n",
       "          0,    0,    0,    0,    0,    0,    0,    0,    0,    0,    0,\n",
       "          0,    0,    0,    0,    0,    0,    0,    0,    0,    0,    0,\n",
       "          0,    0,    0,    0,    0,    0,    0,    0,    0,    0,    0,\n",
       "          0,    0,    0,    0,    0,    0,    0,    0,    0,    0,    0,\n",
       "          0,    0,    0,    0,    0,    0,    0,    0,    0,    0,    0,\n",
       "          0,    0,    0,    0,    0,    0,    0,    0,    0,    0,    0,\n",
       "          0,    0,    0,    0,    0,    0,    0,    0,    0,    0,    0,\n",
       "          0,    0,    0,    0,    0,    0,    0,    0,    0,    0,    0,\n",
       "          0,    0,    0,    0,    0,    0,    0,    0,    0,    0,    0,\n",
       "          0,    0,    0,    0,    0,    0,    0,    0,    0,    0,    0,\n",
       "          0,    0,    0,    0,    0,    0,    0,    0,    0,    0,    0,\n",
       "          0,    0,    0,    0,    0,    0,    0,    0,    0,    0,    0,\n",
       "          0,    0,    0,    0,    0,    0,    0,    0,    0,    0,    0,\n",
       "          0,    0,    0,    0,    0])"
      ]
     },
     "execution_count": 21,
     "metadata": {},
     "output_type": "execute_result"
    }
   ],
   "source": [
    "# Use this cell to examine one of the processed reviews to make sure everything is working as intended.\n",
    "train_X[5]"
   ]
  },
  {
   "cell_type": "markdown",
   "metadata": {},
   "source": [
    "**Question:** In the cells above we use the `preprocess_data` and `convert_and_pad_data` methods to process both the training and testing set. Why or why not might this be a problem?"
   ]
  },
  {
   "cell_type": "markdown",
   "metadata": {},
   "source": [
    "**Answer:**"
   ]
  },
  {
   "cell_type": "markdown",
   "metadata": {},
   "source": [
    "## Step 3: Upload the data to S3\n",
    "\n",
    "As in the XGBoost notebook, we will need to upload the training dataset to S3 in order for our training code to access it. For now we will save it locally and we will upload to S3 later on.\n",
    "\n",
    "### Save the processed training dataset locally\n",
    "\n",
    "It is important to note the format of the data that we are saving as we will need to know it when we write the training code. In our case, each row of the dataset has the form `label`, `length`, `review[500]` where `review[500]` is a sequence of `500` integers representing the words in the review."
   ]
  },
  {
   "cell_type": "code",
   "execution_count": 22,
   "metadata": {},
   "outputs": [],
   "source": [
    "import pandas as pd\n",
    "    \n",
    "pd.concat([pd.DataFrame(train_y), pd.DataFrame(train_X_len), pd.DataFrame(train_X)], axis=1) \\\n",
    "        .to_csv(os.path.join(data_dir, 'train.csv'), header=False, index=False)"
   ]
  },
  {
   "cell_type": "markdown",
   "metadata": {},
   "source": [
    "### Uploading the training data\n",
    "\n",
    "\n",
    "Next, we need to upload the training data to the SageMaker default S3 bucket so that we can provide access to it while training our model."
   ]
  },
  {
   "cell_type": "code",
   "execution_count": 23,
   "metadata": {},
   "outputs": [],
   "source": [
    "import sagemaker\n",
    "\n",
    "sagemaker_session = sagemaker.Session()\n",
    "\n",
    "bucket = sagemaker_session.default_bucket()\n",
    "prefix = 'sagemaker/sentiment_rnn'\n",
    "\n",
    "role = sagemaker.get_execution_role()"
   ]
  },
  {
   "cell_type": "code",
   "execution_count": 24,
   "metadata": {},
   "outputs": [],
   "source": [
    "input_data = sagemaker_session.upload_data(path=data_dir, bucket=bucket, key_prefix=prefix)"
   ]
  },
  {
   "cell_type": "markdown",
   "metadata": {},
   "source": [
    "**NOTE:** The cell above uploads the entire contents of our data directory. This includes the `word_dict.pkl` file. This is fortunate as we will need this later on when we create an endpoint that accepts an arbitrary review. For now, we will just take note of the fact that it resides in the data directory (and so also in the S3 training bucket) and that we will need to make sure it gets saved in the model directory."
   ]
  },
  {
   "cell_type": "markdown",
   "metadata": {},
   "source": [
    "## Step 4: Build and Train the PyTorch Model\n",
    "\n",
    "In the XGBoost notebook we discussed what a model is in the SageMaker framework. In particular, a model comprises three objects\n",
    "\n",
    " - Model Artifacts,\n",
    " - Training Code, and\n",
    " - Inference Code,\n",
    " \n",
    "each of which interact with one another. In the XGBoost example we used training and inference code that was provided by Amazon. Here we will still be using containers provided by Amazon with the added benefit of being able to include our own custom code.\n",
    "\n",
    "We will start by implementing our own neural network in PyTorch along with a training script. For the purposes of this project we have provided the necessary model object in the `model.py` file, inside of the `train` folder. You can see the provided implementation by running the cell below."
   ]
  },
  {
   "cell_type": "code",
   "execution_count": 25,
   "metadata": {},
   "outputs": [
    {
     "name": "stdout",
     "output_type": "stream",
     "text": [
      "\u001b[34mimport\u001b[39;49;00m \u001b[04m\u001b[36mtorch\u001b[39;49;00m\u001b[04m\u001b[36m.\u001b[39;49;00m\u001b[04m\u001b[36mnn\u001b[39;49;00m \u001b[34mas\u001b[39;49;00m \u001b[04m\u001b[36mnn\u001b[39;49;00m\r\n",
      "\r\n",
      "\u001b[34mclass\u001b[39;49;00m \u001b[04m\u001b[32mLSTMClassifier\u001b[39;49;00m(nn.Module):\r\n",
      "    \u001b[33m\"\"\"\u001b[39;49;00m\r\n",
      "\u001b[33m    This is the simple RNN model we will be using to perform Sentiment Analysis.\u001b[39;49;00m\r\n",
      "\u001b[33m    \"\"\"\u001b[39;49;00m\r\n",
      "\r\n",
      "    \u001b[34mdef\u001b[39;49;00m \u001b[32m__init__\u001b[39;49;00m(\u001b[36mself\u001b[39;49;00m, embedding_dim, hidden_dim, vocab_size):\r\n",
      "        \u001b[33m\"\"\"\u001b[39;49;00m\r\n",
      "\u001b[33m        Initialize the model by settingg up the various layers.\u001b[39;49;00m\r\n",
      "\u001b[33m        \"\"\"\u001b[39;49;00m\r\n",
      "        \u001b[36msuper\u001b[39;49;00m(LSTMClassifier, \u001b[36mself\u001b[39;49;00m).\u001b[32m__init__\u001b[39;49;00m()\r\n",
      "\r\n",
      "        \u001b[36mself\u001b[39;49;00m.embedding = nn.Embedding(vocab_size, embedding_dim, padding_idx=\u001b[34m0\u001b[39;49;00m)\r\n",
      "        \u001b[36mself\u001b[39;49;00m.lstm = nn.LSTM(embedding_dim, hidden_dim)\r\n",
      "        \u001b[36mself\u001b[39;49;00m.dense = nn.Linear(in_features=hidden_dim, out_features=\u001b[34m1\u001b[39;49;00m)\r\n",
      "        \u001b[36mself\u001b[39;49;00m.sig = nn.Sigmoid()\r\n",
      "        \r\n",
      "        \u001b[36mself\u001b[39;49;00m.word_dict = \u001b[34mNone\u001b[39;49;00m\r\n",
      "\r\n",
      "    \u001b[34mdef\u001b[39;49;00m \u001b[32mforward\u001b[39;49;00m(\u001b[36mself\u001b[39;49;00m, x):\r\n",
      "        \u001b[33m\"\"\"\u001b[39;49;00m\r\n",
      "\u001b[33m        Perform a forward pass of our model on some input.\u001b[39;49;00m\r\n",
      "\u001b[33m        \"\"\"\u001b[39;49;00m\r\n",
      "        x = x.t()\r\n",
      "        lengths = x[\u001b[34m0\u001b[39;49;00m,:]\r\n",
      "        reviews = x[\u001b[34m1\u001b[39;49;00m:,:]\r\n",
      "        embeds = \u001b[36mself\u001b[39;49;00m.embedding(reviews)\r\n",
      "        lstm_out, _ = \u001b[36mself\u001b[39;49;00m.lstm(embeds)\r\n",
      "        out = \u001b[36mself\u001b[39;49;00m.dense(lstm_out)\r\n",
      "        out = out[lengths - \u001b[34m1\u001b[39;49;00m, \u001b[36mrange\u001b[39;49;00m(\u001b[36mlen\u001b[39;49;00m(lengths))]\r\n",
      "        \u001b[34mreturn\u001b[39;49;00m \u001b[36mself\u001b[39;49;00m.sig(out.squeeze())\r\n"
     ]
    }
   ],
   "source": [
    "!pygmentize train/model.py"
   ]
  },
  {
   "cell_type": "markdown",
   "metadata": {},
   "source": [
    "The important takeaway from the implementation provided is that there are three parameters that we may wish to tweak to improve the performance of our model. These are the embedding dimension, the hidden dimension and the size of the vocabulary. We will likely want to make these parameters configurable in the training script so that if we wish to modify them we do not need to modify the script itself. We will see how to do this later on. To start we will write some of the training code in the notebook so that we can more easily diagnose any issues that arise.\n",
    "\n",
    "First we will load a small portion of the training data set to use as a sample. It would be very time consuming to try and train the model completely in the notebook as we do not have access to a gpu and the compute instance that we are using is not particularly powerful. However, we can work on a small bit of the data to get a feel for how our training script is behaving."
   ]
  },
  {
   "cell_type": "code",
   "execution_count": 26,
   "metadata": {},
   "outputs": [],
   "source": [
    "import torch\n",
    "import torch.utils.data\n",
    "\n",
    "# Read in only the first 250 rows\n",
    "train_sample = pd.read_csv(os.path.join(data_dir, 'train.csv'), header=None, names=None, nrows=250)\n",
    "\n",
    "# Turn the input pandas dataframe into tensors\n",
    "train_sample_y = torch.from_numpy(train_sample[[0]].values).float().squeeze()\n",
    "train_sample_X = torch.from_numpy(train_sample.drop([0], axis=1).values).long()\n",
    "\n",
    "# Build the dataset\n",
    "train_sample_ds = torch.utils.data.TensorDataset(train_sample_X, train_sample_y)\n",
    "# Build the dataloader\n",
    "train_sample_dl = torch.utils.data.DataLoader(train_sample_ds, batch_size=50)"
   ]
  },
  {
   "cell_type": "markdown",
   "metadata": {},
   "source": [
    "### (TODO) Writing the training method\n",
    "\n",
    "Next we need to write the training code itself. This should be very similar to training methods that you have written before to train PyTorch models. We will leave any difficult aspects such as model saving / loading and parameter loading until a little later."
   ]
  },
  {
   "cell_type": "code",
   "execution_count": 27,
   "metadata": {},
   "outputs": [],
   "source": [
    "def train(model, train_loader, epochs, optimizer, loss_fn, device):\n",
    "    for epoch in range(1, epochs + 1):\n",
    "        model.train()\n",
    "        total_loss = 0\n",
    "        for batch in train_loader:         \n",
    "            batch_X, batch_y = batch\n",
    "            \n",
    "            batch_X = batch_X.to(device)\n",
    "            batch_y = batch_y.to(device)\n",
    "            \n",
    "            # TODO: Complete this train method to train the model provided.\n",
    "            \n",
    "            optimizer.zero_grad()\n",
    "            output=model(batch_X)\n",
    "            loss=loss_fn(output,batch_y)\n",
    "            loss.backward()\n",
    "            optimizer.step()\n",
    "            \n",
    "            total_loss += loss.data.item()\n",
    "        print(\"Epoch: {}, BCELoss: {}\".format(epoch, total_loss / len(train_loader)))"
   ]
  },
  {
   "cell_type": "markdown",
   "metadata": {},
   "source": [
    "Supposing we have the training method above, we will test that it is working by writing a bit of code in the notebook that executes our training method on the small sample training set that we loaded earlier. The reason for doing this in the notebook is so that we have an opportunity to fix any errors that arise early when they are easier to diagnose."
   ]
  },
  {
   "cell_type": "code",
   "execution_count": 28,
   "metadata": {},
   "outputs": [
    {
     "name": "stdout",
     "output_type": "stream",
     "text": [
      "Epoch: 1, BCELoss: 0.6894700169563294\n",
      "Epoch: 2, BCELoss: 0.6772885680198669\n",
      "Epoch: 3, BCELoss: 0.6666884303092957\n",
      "Epoch: 4, BCELoss: 0.655460524559021\n",
      "Epoch: 5, BCELoss: 0.6426440000534057\n"
     ]
    }
   ],
   "source": [
    "import torch.optim as optim\n",
    "from train.model import LSTMClassifier\n",
    "\n",
    "device = torch.device(\"cuda\" if torch.cuda.is_available() else \"cpu\")\n",
    "model = LSTMClassifier(32, 100, 5000).to(device)\n",
    "optimizer = optim.Adam(model.parameters())\n",
    "loss_fn = torch.nn.BCELoss()\n",
    "\n",
    "train(model, train_sample_dl, 5, optimizer, loss_fn, device)"
   ]
  },
  {
   "cell_type": "markdown",
   "metadata": {},
   "source": [
    "In order to construct a PyTorch model using SageMaker we must provide SageMaker with a training script. We may optionally include a directory which will be copied to the container and from which our training code will be run. When the training container is executed it will check the uploaded directory (if there is one) for a `requirements.txt` file and install any required Python libraries, after which the training script will be run."
   ]
  },
  {
   "cell_type": "markdown",
   "metadata": {},
   "source": [
    "### (TODO) Training the model\n",
    "\n",
    "When a PyTorch model is constructed in SageMaker, an entry point must be specified. This is the Python file which will be executed when the model is trained. Inside of the `train` directory is a file called `train.py` which has been provided and which contains most of the necessary code to train our model. The only thing that is missing is the implementation of the `train()` method which you wrote earlier in this notebook.\n",
    "\n",
    "**TODO**: Copy the `train()` method written above and paste it into the `train/train.py` file where required.\n",
    "\n",
    "The way that SageMaker passes hyperparameters to the training script is by way of arguments. These arguments can then be parsed and used in the training script. To see how this is done take a look at the provided `train/train.py` file."
   ]
  },
  {
   "cell_type": "code",
   "execution_count": 29,
   "metadata": {},
   "outputs": [],
   "source": [
    "from sagemaker.pytorch import PyTorch\n",
    "\n",
    "estimator = PyTorch(entry_point=\"train.py\",\n",
    "                    source_dir=\"train\",\n",
    "                    role=role,\n",
    "                    framework_version='0.4.0',\n",
    "                    train_instance_count=1,\n",
    "                    train_instance_type='ml.p2.xlarge',\n",
    "                    hyperparameters={\n",
    "                        'epochs': 10,\n",
    "                        'hidden_dim': 200,\n",
    "                    })"
   ]
  },
  {
   "cell_type": "code",
   "execution_count": 30,
   "metadata": {
    "scrolled": true
   },
   "outputs": [
    {
     "name": "stderr",
     "output_type": "stream",
     "text": [
      "'create_image_uri' will be deprecated in favor of 'ImageURIProvider' class in SageMaker Python SDK v2.\n",
      "'s3_input' class will be renamed to 'TrainingInput' in SageMaker Python SDK v2.\n",
      "'create_image_uri' will be deprecated in favor of 'ImageURIProvider' class in SageMaker Python SDK v2.\n"
     ]
    },
    {
     "name": "stdout",
     "output_type": "stream",
     "text": [
      "2021-03-04 17:49:55 Starting - Starting the training job...\n",
      "2021-03-04 17:49:57 Starting - Launching requested ML instances......\n",
      "2021-03-04 17:51:02 Starting - Preparing the instances for training......\n",
      "2021-03-04 17:52:22 Downloading - Downloading input data......\n",
      "2021-03-04 17:53:26 Training - Training image download completed. Training in progress..\u001b[34mbash: cannot set terminal process group (-1): Inappropriate ioctl for device\u001b[0m\n",
      "\u001b[34mbash: no job control in this shell\u001b[0m\n",
      "\u001b[34m2021-03-04 17:53:27,478 sagemaker-containers INFO     Imported framework sagemaker_pytorch_container.training\u001b[0m\n",
      "\u001b[34m2021-03-04 17:53:27,504 sagemaker_pytorch_container.training INFO     Block until all host DNS lookups succeed.\u001b[0m\n",
      "\u001b[34m2021-03-04 17:53:28,131 sagemaker_pytorch_container.training INFO     Invoking user training script.\u001b[0m\n",
      "\u001b[34m2021-03-04 17:53:28,375 sagemaker-containers INFO     Module train does not provide a setup.py. \u001b[0m\n",
      "\u001b[34mGenerating setup.py\u001b[0m\n",
      "\u001b[34m2021-03-04 17:53:28,375 sagemaker-containers INFO     Generating setup.cfg\u001b[0m\n",
      "\u001b[34m2021-03-04 17:53:28,375 sagemaker-containers INFO     Generating MANIFEST.in\u001b[0m\n",
      "\u001b[34m2021-03-04 17:53:28,376 sagemaker-containers INFO     Installing module with the following command:\u001b[0m\n",
      "\u001b[34m/usr/bin/python -m pip install -U . -r requirements.txt\u001b[0m\n",
      "\u001b[34mProcessing /opt/ml/code\u001b[0m\n",
      "\u001b[34mCollecting pandas (from -r requirements.txt (line 1))\n",
      "  Downloading https://files.pythonhosted.org/packages/74/24/0cdbf8907e1e3bc5a8da03345c23cbed7044330bb8f73bb12e711a640a00/pandas-0.24.2-cp35-cp35m-manylinux1_x86_64.whl (10.0MB)\u001b[0m\n",
      "\u001b[34mCollecting numpy (from -r requirements.txt (line 2))\u001b[0m\n",
      "\u001b[34m  Downloading https://files.pythonhosted.org/packages/b5/36/88723426b4ff576809fec7d73594fe17a35c27f8d01f93637637a29ae25b/numpy-1.18.5-cp35-cp35m-manylinux1_x86_64.whl (19.9MB)\u001b[0m\n",
      "\u001b[34mCollecting nltk (from -r requirements.txt (line 3))\n",
      "  Downloading https://files.pythonhosted.org/packages/92/75/ce35194d8e3022203cca0d2f896dbb88689f9b3fce8e9f9cff942913519d/nltk-3.5.zip (1.4MB)\u001b[0m\n",
      "\u001b[34mCollecting beautifulsoup4 (from -r requirements.txt (line 4))\n",
      "  Downloading https://files.pythonhosted.org/packages/d1/41/e6495bd7d3781cee623ce23ea6ac73282a373088fcd0ddc809a047b18eae/beautifulsoup4-4.9.3-py3-none-any.whl (115kB)\u001b[0m\n",
      "\u001b[34mCollecting html5lib (from -r requirements.txt (line 5))\n",
      "  Downloading https://files.pythonhosted.org/packages/6c/dd/a834df6482147d48e225a49515aabc28974ad5a4ca3215c18a882565b028/html5lib-1.1-py2.py3-none-any.whl (112kB)\u001b[0m\n",
      "\u001b[34mRequirement already satisfied, skipping upgrade: python-dateutil>=2.5.0 in /usr/local/lib/python3.5/dist-packages (from pandas->-r requirements.txt (line 1)) (2.7.5)\u001b[0m\n",
      "\u001b[34mCollecting pytz>=2011k (from pandas->-r requirements.txt (line 1))\u001b[0m\n",
      "\u001b[34m  Downloading https://files.pythonhosted.org/packages/70/94/784178ca5dd892a98f113cdd923372024dc04b8d40abe77ca76b5fb90ca6/pytz-2021.1-py2.py3-none-any.whl (510kB)\u001b[0m\n",
      "\u001b[34mRequirement already satisfied, skipping upgrade: click in /usr/local/lib/python3.5/dist-packages (from nltk->-r requirements.txt (line 3)) (7.0)\u001b[0m\n",
      "\u001b[34mCollecting joblib (from nltk->-r requirements.txt (line 3))\n",
      "  Downloading https://files.pythonhosted.org/packages/28/5c/cf6a2b65a321c4a209efcdf64c2689efae2cb62661f8f6f4bb28547cf1bf/joblib-0.14.1-py2.py3-none-any.whl (294kB)\u001b[0m\n",
      "\u001b[34mCollecting regex (from nltk->-r requirements.txt (line 3))\u001b[0m\n",
      "\u001b[34m  Downloading https://files.pythonhosted.org/packages/2e/e4/3447fed9ab29944333f48730ecff4dca92f0868c5b188d6ab2b2078e32c2/regex-2020.11.13.tar.gz (694kB)\u001b[0m\n",
      "\u001b[34mCollecting tqdm (from nltk->-r requirements.txt (line 3))\n",
      "  Downloading https://files.pythonhosted.org/packages/4e/8c/f1035bd24b0e352ddba7be320abc1603fc4c9976fcda6971ed287be59164/tqdm-4.58.0-py2.py3-none-any.whl (73kB)\u001b[0m\n",
      "\u001b[34mCollecting soupsieve>1.2; python_version >= \"3.0\" (from beautifulsoup4->-r requirements.txt (line 4))\n",
      "  Downloading https://files.pythonhosted.org/packages/02/fb/1c65691a9aeb7bd6ac2aa505b84cb8b49ac29c976411c6ab3659425e045f/soupsieve-2.1-py3-none-any.whl\u001b[0m\n",
      "\u001b[34mRequirement already satisfied, skipping upgrade: six>=1.9 in /usr/local/lib/python3.5/dist-packages (from html5lib->-r requirements.txt (line 5)) (1.11.0)\u001b[0m\n",
      "\u001b[34mCollecting webencodings (from html5lib->-r requirements.txt (line 5))\n",
      "  Downloading https://files.pythonhosted.org/packages/f4/24/2a3e3df732393fed8b3ebf2ec078f05546de641fe1b667ee316ec1dcf3b7/webencodings-0.5.1-py2.py3-none-any.whl\u001b[0m\n",
      "\u001b[34mBuilding wheels for collected packages: nltk, train, regex\n",
      "  Running setup.py bdist_wheel for nltk: started\u001b[0m\n",
      "\u001b[34m  Running setup.py bdist_wheel for nltk: finished with status 'done'\n",
      "  Stored in directory: /root/.cache/pip/wheels/ae/8c/3f/b1fe0ba04555b08b57ab52ab7f86023639a526d8bc8d384306\n",
      "  Running setup.py bdist_wheel for train: started\n",
      "  Running setup.py bdist_wheel for train: finished with status 'done'\n",
      "  Stored in directory: /tmp/pip-ephem-wheel-cache-s5fozt0d/wheels/35/24/16/37574d11bf9bde50616c67372a334f94fa8356bc7164af8ca3\n",
      "  Running setup.py bdist_wheel for regex: started\u001b[0m\n",
      "\u001b[34m  Running setup.py bdist_wheel for regex: finished with status 'done'\n",
      "  Stored in directory: /root/.cache/pip/wheels/27/f6/66/a4243e485a0ebc73dc59033ae26c48e82526f77dbfe158ac59\u001b[0m\n",
      "\u001b[34mSuccessfully built nltk train regex\u001b[0m\n",
      "\u001b[34mInstalling collected packages: numpy, pytz, pandas, joblib, regex, tqdm, nltk, soupsieve, beautifulsoup4, webencodings, html5lib, train\n",
      "  Found existing installation: numpy 1.15.4\n",
      "    Uninstalling numpy-1.15.4:\u001b[0m\n",
      "\u001b[34m      Successfully uninstalled numpy-1.15.4\u001b[0m\n",
      "\u001b[34mSuccessfully installed beautifulsoup4-4.9.3 html5lib-1.1 joblib-0.14.1 nltk-3.5 numpy-1.18.5 pandas-0.24.2 pytz-2021.1 regex-2020.11.13 soupsieve-2.1 tqdm-4.58.0 train-1.0.0 webencodings-0.5.1\u001b[0m\n",
      "\u001b[34mYou are using pip version 18.1, however version 20.3.4 is available.\u001b[0m\n",
      "\u001b[34mYou should consider upgrading via the 'pip install --upgrade pip' command.\u001b[0m\n",
      "\u001b[34m2021-03-04 17:53:51,772 sagemaker-containers INFO     Invoking user script\n",
      "\u001b[0m\n",
      "\u001b[34mTraining Env:\n",
      "\u001b[0m\n",
      "\u001b[34m{\n",
      "    \"module_name\": \"train\",\n",
      "    \"input_data_config\": {\n",
      "        \"training\": {\n",
      "            \"RecordWrapperType\": \"None\",\n",
      "            \"TrainingInputMode\": \"File\",\n",
      "            \"S3DistributionType\": \"FullyReplicated\"\n",
      "        }\n",
      "    },\n",
      "    \"user_entry_point\": \"train.py\",\n",
      "    \"hyperparameters\": {\n",
      "        \"hidden_dim\": 200,\n",
      "        \"epochs\": 10\n",
      "    },\n",
      "    \"output_dir\": \"/opt/ml/output\",\n",
      "    \"additional_framework_parameters\": {},\n",
      "    \"input_config_dir\": \"/opt/ml/input/config\",\n",
      "    \"log_level\": 20,\n",
      "    \"current_host\": \"algo-1\",\n",
      "    \"job_name\": \"sagemaker-pytorch-2021-03-04-17-49-55-378\",\n",
      "    \"hosts\": [\n",
      "        \"algo-1\"\n",
      "    ],\n",
      "    \"output_intermediate_dir\": \"/opt/ml/output/intermediate\",\n",
      "    \"model_dir\": \"/opt/ml/model\",\n",
      "    \"num_cpus\": 4,\n",
      "    \"channel_input_dirs\": {\n",
      "        \"training\": \"/opt/ml/input/data/training\"\n",
      "    },\n",
      "    \"framework_module\": \"sagemaker_pytorch_container.training:main\",\n",
      "    \"num_gpus\": 1,\n",
      "    \"input_dir\": \"/opt/ml/input\",\n",
      "    \"resource_config\": {\n",
      "        \"current_host\": \"algo-1\",\n",
      "        \"network_interface_name\": \"eth0\",\n",
      "        \"hosts\": [\n",
      "            \"algo-1\"\n",
      "        ]\n",
      "    },\n",
      "    \"output_data_dir\": \"/opt/ml/output/data\",\n",
      "    \"module_dir\": \"s3://sagemaker-us-east-2-044373881906/sagemaker-pytorch-2021-03-04-17-49-55-378/source/sourcedir.tar.gz\",\n",
      "    \"network_interface_name\": \"eth0\"\u001b[0m\n",
      "\u001b[34m}\n",
      "\u001b[0m\n",
      "\u001b[34mEnvironment variables:\n",
      "\u001b[0m\n",
      "\u001b[34mSM_FRAMEWORK_PARAMS={}\u001b[0m\n",
      "\u001b[34mSM_RESOURCE_CONFIG={\"current_host\":\"algo-1\",\"hosts\":[\"algo-1\"],\"network_interface_name\":\"eth0\"}\u001b[0m\n",
      "\u001b[34mSM_HOSTS=[\"algo-1\"]\u001b[0m\n",
      "\u001b[34mSM_HP_HIDDEN_DIM=200\u001b[0m\n",
      "\u001b[34mSM_OUTPUT_DIR=/opt/ml/output\u001b[0m\n",
      "\u001b[34mSM_MODULE_DIR=s3://sagemaker-us-east-2-044373881906/sagemaker-pytorch-2021-03-04-17-49-55-378/source/sourcedir.tar.gz\u001b[0m\n",
      "\u001b[34mSM_TRAINING_ENV={\"additional_framework_parameters\":{},\"channel_input_dirs\":{\"training\":\"/opt/ml/input/data/training\"},\"current_host\":\"algo-1\",\"framework_module\":\"sagemaker_pytorch_container.training:main\",\"hosts\":[\"algo-1\"],\"hyperparameters\":{\"epochs\":10,\"hidden_dim\":200},\"input_config_dir\":\"/opt/ml/input/config\",\"input_data_config\":{\"training\":{\"RecordWrapperType\":\"None\",\"S3DistributionType\":\"FullyReplicated\",\"TrainingInputMode\":\"File\"}},\"input_dir\":\"/opt/ml/input\",\"job_name\":\"sagemaker-pytorch-2021-03-04-17-49-55-378\",\"log_level\":20,\"model_dir\":\"/opt/ml/model\",\"module_dir\":\"s3://sagemaker-us-east-2-044373881906/sagemaker-pytorch-2021-03-04-17-49-55-378/source/sourcedir.tar.gz\",\"module_name\":\"train\",\"network_interface_name\":\"eth0\",\"num_cpus\":4,\"num_gpus\":1,\"output_data_dir\":\"/opt/ml/output/data\",\"output_dir\":\"/opt/ml/output\",\"output_intermediate_dir\":\"/opt/ml/output/intermediate\",\"resource_config\":{\"current_host\":\"algo-1\",\"hosts\":[\"algo-1\"],\"network_interface_name\":\"eth0\"},\"user_entry_point\":\"train.py\"}\u001b[0m\n",
      "\u001b[34mSM_NUM_CPUS=4\u001b[0m\n",
      "\u001b[34mSM_USER_ARGS=[\"--epochs\",\"10\",\"--hidden_dim\",\"200\"]\u001b[0m\n",
      "\u001b[34mSM_USER_ENTRY_POINT=train.py\u001b[0m\n",
      "\u001b[34mSM_INPUT_DATA_CONFIG={\"training\":{\"RecordWrapperType\":\"None\",\"S3DistributionType\":\"FullyReplicated\",\"TrainingInputMode\":\"File\"}}\u001b[0m\n",
      "\u001b[34mSM_HP_EPOCHS=10\u001b[0m\n",
      "\u001b[34mSM_CHANNELS=[\"training\"]\u001b[0m\n",
      "\u001b[34mSM_NUM_GPUS=1\u001b[0m\n",
      "\u001b[34mSM_OUTPUT_INTERMEDIATE_DIR=/opt/ml/output/intermediate\u001b[0m\n",
      "\u001b[34mSM_INPUT_CONFIG_DIR=/opt/ml/input/config\u001b[0m\n",
      "\u001b[34mSM_FRAMEWORK_MODULE=sagemaker_pytorch_container.training:main\u001b[0m\n",
      "\u001b[34mSM_LOG_LEVEL=20\u001b[0m\n",
      "\u001b[34mSM_OUTPUT_DATA_DIR=/opt/ml/output/data\u001b[0m\n",
      "\u001b[34mSM_MODEL_DIR=/opt/ml/model\u001b[0m\n",
      "\u001b[34mSM_NETWORK_INTERFACE_NAME=eth0\u001b[0m\n",
      "\u001b[34mSM_CHANNEL_TRAINING=/opt/ml/input/data/training\u001b[0m\n",
      "\u001b[34mSM_HPS={\"epochs\":10,\"hidden_dim\":200}\u001b[0m\n",
      "\u001b[34mSM_INPUT_DIR=/opt/ml/input\u001b[0m\n",
      "\u001b[34mSM_MODULE_NAME=train\u001b[0m\n",
      "\u001b[34mSM_CURRENT_HOST=algo-1\u001b[0m\n",
      "\u001b[34mPYTHONPATH=/usr/local/bin:/usr/lib/python35.zip:/usr/lib/python3.5:/usr/lib/python3.5/plat-x86_64-linux-gnu:/usr/lib/python3.5/lib-dynload:/usr/local/lib/python3.5/dist-packages:/usr/lib/python3/dist-packages\n",
      "\u001b[0m\n",
      "\u001b[34mInvoking script with the following command:\n",
      "\u001b[0m\n",
      "\u001b[34m/usr/bin/python -m train --epochs 10 --hidden_dim 200\n",
      "\n",
      "\u001b[0m\n",
      "\u001b[34mUsing device cuda.\u001b[0m\n",
      "\u001b[34mGet train data loader.\u001b[0m\n",
      "\u001b[34mModel loaded with embedding_dim 32, hidden_dim 200, vocab_size 5000.\u001b[0m\n",
      "\u001b[34m2021-03-04 17:53:59,433 sagemaker-containers INFO     Reporting training SUCCESS\u001b[0m\n",
      "\n",
      "2021-03-04 17:54:09 Uploading - Uploading generated training model\n",
      "2021-03-04 17:54:09 Completed - Training job completed\n",
      "Training seconds: 107\n",
      "Billable seconds: 107\n"
     ]
    }
   ],
   "source": [
    "estimator.fit({'training': input_data})"
   ]
  },
  {
   "cell_type": "markdown",
   "metadata": {},
   "source": [
    "## Step 5: Testing the model\n",
    "\n",
    "As mentioned at the top of this notebook, we will be testing this model by first deploying it and then sending the testing data to the deployed endpoint. We will do this so that we can make sure that the deployed model is working correctly.\n",
    "\n",
    "## Step 6: Deploy the model for testing\n",
    "\n",
    "Now that we have trained our model, we would like to test it to see how it performs. Currently our model takes input of the form `review_length, review[500]` where `review[500]` is a sequence of `500` integers which describe the words present in the review, encoded using `word_dict`. Fortunately for us, SageMaker provides built-in inference code for models with simple inputs such as this.\n",
    "\n",
    "There is one thing that we need to provide, however, and that is a function which loads the saved model. This function must be called `model_fn()` and takes as its only parameter a path to the directory where the model artifacts are stored. This function must also be present in the python file which we specified as the entry point. In our case the model loading function has been provided and so no changes need to be made.\n",
    "\n",
    "**NOTE**: When the built-in inference code is run it must import the `model_fn()` method from the `train.py` file. This is why the training code is wrapped in a main guard ( ie, `if __name__ == '__main__':` )\n",
    "\n",
    "Since we don't need to change anything in the code that was uploaded during training, we can simply deploy the current model as-is.\n",
    "\n",
    "**NOTE:** When deploying a model you are asking SageMaker to launch an compute instance that will wait for data to be sent to it. As a result, this compute instance will continue to run until *you* shut it down. This is important to know since the cost of a deployed endpoint depends on how long it has been running for.\n",
    "\n",
    "In other words **If you are no longer using a deployed endpoint, shut it down!**\n",
    "\n",
    "**TODO:** Deploy the trained model."
   ]
  },
  {
   "cell_type": "code",
   "execution_count": 31,
   "metadata": {},
   "outputs": [
    {
     "name": "stderr",
     "output_type": "stream",
     "text": [
      "Parameter image will be renamed to image_uri in SageMaker Python SDK v2.\n",
      "'create_image_uri' will be deprecated in favor of 'ImageURIProvider' class in SageMaker Python SDK v2.\n"
     ]
    },
    {
     "name": "stdout",
     "output_type": "stream",
     "text": [
      "---------------!"
     ]
    }
   ],
   "source": [
    "# TODO: Deploy the trained model\n",
    "predictor = estimator.deploy(initial_instance_count = 1, instance_type = 'ml.m4.xlarge')"
   ]
  },
  {
   "cell_type": "markdown",
   "metadata": {},
   "source": [
    "## Step 7 - Use the model for testing\n",
    "\n",
    "Once deployed, we can read in the test data and send it off to our deployed model to get some results. Once we collect all of the results we can determine how accurate our model is."
   ]
  },
  {
   "cell_type": "code",
   "execution_count": 32,
   "metadata": {},
   "outputs": [],
   "source": [
    "test_X = pd.concat([pd.DataFrame(test_X_len), pd.DataFrame(test_X)], axis=1)"
   ]
  },
  {
   "cell_type": "code",
   "execution_count": 33,
   "metadata": {},
   "outputs": [],
   "source": [
    "# We split the data into chunks and send each chunk seperately, accumulating the results.\n",
    "\n",
    "def predict(data, rows=512):\n",
    "    split_array = np.array_split(data, int(data.shape[0] / float(rows) + 1))\n",
    "    predictions = np.array([])\n",
    "    for array in split_array:\n",
    "        predictions = np.append(predictions, predictor.predict(array))\n",
    "    \n",
    "    return predictions"
   ]
  },
  {
   "cell_type": "code",
   "execution_count": 34,
   "metadata": {},
   "outputs": [],
   "source": [
    "predictions = predict(test_X.values)\n",
    "predictions = [round(num) for num in predictions]"
   ]
  },
  {
   "cell_type": "code",
   "execution_count": 35,
   "metadata": {},
   "outputs": [
    {
     "data": {
      "text/plain": [
       "0.50932"
      ]
     },
     "execution_count": 35,
     "metadata": {},
     "output_type": "execute_result"
    }
   ],
   "source": [
    "from sklearn.metrics import accuracy_score\n",
    "accuracy_score(test_y, predictions)"
   ]
  },
  {
   "cell_type": "markdown",
   "metadata": {},
   "source": [
    "**Question:** How does this model compare to the XGBoost model you created earlier? Why might these two models perform differently on this dataset? Which do *you* think is better for sentiment analysis?"
   ]
  },
  {
   "cell_type": "markdown",
   "metadata": {},
   "source": [
    "**Answer:**"
   ]
  },
  {
   "cell_type": "markdown",
   "metadata": {},
   "source": [
    "### (TODO) More testing\n",
    "\n",
    "We now have a trained model which has been deployed and which we can send processed reviews to and which returns the predicted sentiment. However, ultimately we would like to be able to send our model an unprocessed review. That is, we would like to send the review itself as a string. For example, suppose we wish to send the following review to our model."
   ]
  },
  {
   "cell_type": "code",
   "execution_count": 36,
   "metadata": {},
   "outputs": [],
   "source": [
    "test_review = 'The simplest pleasures in life are the best, and this film is one of them. Combining a rather basic storyline of love and adventure this movie transcends the usual weekend fair with wit and unmitigated charm.'"
   ]
  },
  {
   "cell_type": "markdown",
   "metadata": {},
   "source": [
    "The question we now need to answer is, how do we send this review to our model?\n",
    "\n",
    "Recall in the first section of this notebook we did a bunch of data processing to the IMDb dataset. In particular, we did two specific things to the provided reviews.\n",
    " - Removed any html tags and stemmed the input\n",
    " - Encoded the review as a sequence of integers using `word_dict`\n",
    " \n",
    "In order process the review we will need to repeat these two steps.\n",
    "\n",
    "**TODO**: Using the `review_to_words` and `convert_and_pad` methods from section one, convert `test_review` into a numpy array `test_data` suitable to send to our model. Remember that our model expects input of the form `review_length, review[500]`."
   ]
  },
  {
   "cell_type": "code",
   "execution_count": 37,
   "metadata": {},
   "outputs": [],
   "source": [
    "# TODO: Convert test_review into a form usable by the model and save the results in test_data\n",
    "test_data = review_to_words(test_review)\n",
    "test_data = convert_and_pad(word_dict, test_data)[0]\n",
    "test_data = [np.array(test_data)]"
   ]
  },
  {
   "cell_type": "markdown",
   "metadata": {},
   "source": [
    "Now that we have processed the review, we can send the resulting array to our model to predict the sentiment of the review."
   ]
  },
  {
   "cell_type": "code",
   "execution_count": 38,
   "metadata": {},
   "outputs": [
    {
     "data": {
      "text/plain": [
       "array(0.511356, dtype=float32)"
      ]
     },
     "execution_count": 38,
     "metadata": {},
     "output_type": "execute_result"
    }
   ],
   "source": [
    "predictor.predict(test_data)"
   ]
  },
  {
   "cell_type": "markdown",
   "metadata": {},
   "source": [
    "Since the return value of our model is close to `1`, we can be certain that the review we submitted is positive."
   ]
  },
  {
   "cell_type": "markdown",
   "metadata": {},
   "source": [
    "### Delete the endpoint\n",
    "\n",
    "Of course, just like in the XGBoost notebook, once we've deployed an endpoint it continues to run until we tell it to shut down. Since we are done using our endpoint for now, we can delete it."
   ]
  },
  {
   "cell_type": "code",
   "execution_count": 39,
   "metadata": {},
   "outputs": [
    {
     "name": "stderr",
     "output_type": "stream",
     "text": [
      "estimator.delete_endpoint() will be deprecated in SageMaker Python SDK v2. Please use the delete_endpoint() function on your predictor instead.\n"
     ]
    }
   ],
   "source": [
    "estimator.delete_endpoint()"
   ]
  },
  {
   "cell_type": "markdown",
   "metadata": {},
   "source": [
    "## Step 6 (again) - Deploy the model for the web app\n",
    "\n",
    "Now that we know that our model is working, it's time to create some custom inference code so that we can send the model a review which has not been processed and have it determine the sentiment of the review.\n",
    "\n",
    "As we saw above, by default the estimator which we created, when deployed, will use the entry script and directory which we provided when creating the model. However, since we now wish to accept a string as input and our model expects a processed review, we need to write some custom inference code.\n",
    "\n",
    "We will store the code that we write in the `serve` directory. Provided in this directory is the `model.py` file that we used to construct our model, a `utils.py` file which contains the `review_to_words` and `convert_and_pad` pre-processing functions which we used during the initial data processing, and `predict.py`, the file which will contain our custom inference code. Note also that `requirements.txt` is present which will tell SageMaker what Python libraries are required by our custom inference code.\n",
    "\n",
    "When deploying a PyTorch model in SageMaker, you are expected to provide four functions which the SageMaker inference container will use.\n",
    " - `model_fn`: This function is the same function that we used in the training script and it tells SageMaker how to load our model.\n",
    " - `input_fn`: This function receives the raw serialized input that has been sent to the model's endpoint and its job is to de-serialize and make the input available for the inference code.\n",
    " - `output_fn`: This function takes the output of the inference code and its job is to serialize this output and return it to the caller of the model's endpoint.\n",
    " - `predict_fn`: The heart of the inference script, this is where the actual prediction is done and is the function which you will need to complete.\n",
    "\n",
    "For the simple website that we are constructing during this project, the `input_fn` and `output_fn` methods are relatively straightforward. We only require being able to accept a string as input and we expect to return a single value as output. You might imagine though that in a more complex application the input or output may be image data or some other binary data which would require some effort to serialize.\n",
    "\n",
    "### (TODO) Writing inference code\n",
    "\n",
    "Before writing our custom inference code, we will begin by taking a look at the code which has been provided."
   ]
  },
  {
   "cell_type": "code",
   "execution_count": 40,
   "metadata": {},
   "outputs": [
    {
     "name": "stdout",
     "output_type": "stream",
     "text": [
      "\u001b[34mimport\u001b[39;49;00m \u001b[04m\u001b[36margparse\u001b[39;49;00m\r\n",
      "\u001b[34mimport\u001b[39;49;00m \u001b[04m\u001b[36mjson\u001b[39;49;00m\r\n",
      "\u001b[34mimport\u001b[39;49;00m \u001b[04m\u001b[36mos\u001b[39;49;00m\r\n",
      "\u001b[34mimport\u001b[39;49;00m \u001b[04m\u001b[36mpickle\u001b[39;49;00m\r\n",
      "\u001b[34mimport\u001b[39;49;00m \u001b[04m\u001b[36msys\u001b[39;49;00m\r\n",
      "\u001b[34mimport\u001b[39;49;00m \u001b[04m\u001b[36msagemaker_containers\u001b[39;49;00m\r\n",
      "\u001b[34mimport\u001b[39;49;00m \u001b[04m\u001b[36mpandas\u001b[39;49;00m \u001b[34mas\u001b[39;49;00m \u001b[04m\u001b[36mpd\u001b[39;49;00m\r\n",
      "\u001b[34mimport\u001b[39;49;00m \u001b[04m\u001b[36mnumpy\u001b[39;49;00m \u001b[34mas\u001b[39;49;00m \u001b[04m\u001b[36mnp\u001b[39;49;00m\r\n",
      "\u001b[34mimport\u001b[39;49;00m \u001b[04m\u001b[36mtorch\u001b[39;49;00m\r\n",
      "\u001b[34mimport\u001b[39;49;00m \u001b[04m\u001b[36mtorch\u001b[39;49;00m\u001b[04m\u001b[36m.\u001b[39;49;00m\u001b[04m\u001b[36mnn\u001b[39;49;00m \u001b[34mas\u001b[39;49;00m \u001b[04m\u001b[36mnn\u001b[39;49;00m\r\n",
      "\u001b[34mimport\u001b[39;49;00m \u001b[04m\u001b[36mtorch\u001b[39;49;00m\u001b[04m\u001b[36m.\u001b[39;49;00m\u001b[04m\u001b[36moptim\u001b[39;49;00m \u001b[34mas\u001b[39;49;00m \u001b[04m\u001b[36moptim\u001b[39;49;00m\r\n",
      "\u001b[34mimport\u001b[39;49;00m \u001b[04m\u001b[36mtorch\u001b[39;49;00m\u001b[04m\u001b[36m.\u001b[39;49;00m\u001b[04m\u001b[36mutils\u001b[39;49;00m\u001b[04m\u001b[36m.\u001b[39;49;00m\u001b[04m\u001b[36mdata\u001b[39;49;00m\r\n",
      "\r\n",
      "\u001b[34mfrom\u001b[39;49;00m \u001b[04m\u001b[36mmodel\u001b[39;49;00m \u001b[34mimport\u001b[39;49;00m LSTMClassifier\r\n",
      "\r\n",
      "\u001b[34mfrom\u001b[39;49;00m \u001b[04m\u001b[36mutils\u001b[39;49;00m \u001b[34mimport\u001b[39;49;00m review_to_words, convert_and_pad\r\n",
      "\r\n",
      "\u001b[34mdef\u001b[39;49;00m \u001b[32mmodel_fn\u001b[39;49;00m(model_dir):\r\n",
      "    \u001b[33m\"\"\"Load the PyTorch model from the `model_dir` directory.\"\"\"\u001b[39;49;00m\r\n",
      "    \u001b[36mprint\u001b[39;49;00m(\u001b[33m\"\u001b[39;49;00m\u001b[33mLoading model.\u001b[39;49;00m\u001b[33m\"\u001b[39;49;00m)\r\n",
      "\r\n",
      "    \u001b[37m# First, load the parameters used to create the model.\u001b[39;49;00m\r\n",
      "    model_info = {}\r\n",
      "    model_info_path = os.path.join(model_dir, \u001b[33m'\u001b[39;49;00m\u001b[33mmodel_info.pth\u001b[39;49;00m\u001b[33m'\u001b[39;49;00m)\r\n",
      "    \u001b[34mwith\u001b[39;49;00m \u001b[36mopen\u001b[39;49;00m(model_info_path, \u001b[33m'\u001b[39;49;00m\u001b[33mrb\u001b[39;49;00m\u001b[33m'\u001b[39;49;00m) \u001b[34mas\u001b[39;49;00m f:\r\n",
      "        model_info = torch.load(f)\r\n",
      "\r\n",
      "    \u001b[36mprint\u001b[39;49;00m(\u001b[33m\"\u001b[39;49;00m\u001b[33mmodel_info: \u001b[39;49;00m\u001b[33m{}\u001b[39;49;00m\u001b[33m\"\u001b[39;49;00m.format(model_info))\r\n",
      "\r\n",
      "    \u001b[37m# Determine the device and construct the model.\u001b[39;49;00m\r\n",
      "    device = torch.device(\u001b[33m\"\u001b[39;49;00m\u001b[33mcuda\u001b[39;49;00m\u001b[33m\"\u001b[39;49;00m \u001b[34mif\u001b[39;49;00m torch.cuda.is_available() \u001b[34melse\u001b[39;49;00m \u001b[33m\"\u001b[39;49;00m\u001b[33mcpu\u001b[39;49;00m\u001b[33m\"\u001b[39;49;00m)\r\n",
      "    model = LSTMClassifier(model_info[\u001b[33m'\u001b[39;49;00m\u001b[33membedding_dim\u001b[39;49;00m\u001b[33m'\u001b[39;49;00m], model_info[\u001b[33m'\u001b[39;49;00m\u001b[33mhidden_dim\u001b[39;49;00m\u001b[33m'\u001b[39;49;00m], model_info[\u001b[33m'\u001b[39;49;00m\u001b[33mvocab_size\u001b[39;49;00m\u001b[33m'\u001b[39;49;00m])\r\n",
      "\r\n",
      "    \u001b[37m# Load the store model parameters.\u001b[39;49;00m\r\n",
      "    model_path = os.path.join(model_dir, \u001b[33m'\u001b[39;49;00m\u001b[33mmodel.pth\u001b[39;49;00m\u001b[33m'\u001b[39;49;00m)\r\n",
      "    \u001b[34mwith\u001b[39;49;00m \u001b[36mopen\u001b[39;49;00m(model_path, \u001b[33m'\u001b[39;49;00m\u001b[33mrb\u001b[39;49;00m\u001b[33m'\u001b[39;49;00m) \u001b[34mas\u001b[39;49;00m f:\r\n",
      "        model.load_state_dict(torch.load(f))\r\n",
      "\r\n",
      "    \u001b[37m# Load the saved word_dict.\u001b[39;49;00m\r\n",
      "    word_dict_path = os.path.join(model_dir, \u001b[33m'\u001b[39;49;00m\u001b[33mword_dict.pkl\u001b[39;49;00m\u001b[33m'\u001b[39;49;00m)\r\n",
      "    \u001b[34mwith\u001b[39;49;00m \u001b[36mopen\u001b[39;49;00m(word_dict_path, \u001b[33m'\u001b[39;49;00m\u001b[33mrb\u001b[39;49;00m\u001b[33m'\u001b[39;49;00m) \u001b[34mas\u001b[39;49;00m f:\r\n",
      "        model.word_dict = pickle.load(f)\r\n",
      "\r\n",
      "    model.to(device).eval()\r\n",
      "\r\n",
      "    \u001b[36mprint\u001b[39;49;00m(\u001b[33m\"\u001b[39;49;00m\u001b[33mDone loading model.\u001b[39;49;00m\u001b[33m\"\u001b[39;49;00m)\r\n",
      "    \u001b[34mreturn\u001b[39;49;00m model\r\n",
      "\r\n",
      "\u001b[34mdef\u001b[39;49;00m \u001b[32minput_fn\u001b[39;49;00m(serialized_input_data, content_type):\r\n",
      "    \u001b[36mprint\u001b[39;49;00m(\u001b[33m'\u001b[39;49;00m\u001b[33mDeserializing the input data.\u001b[39;49;00m\u001b[33m'\u001b[39;49;00m)\r\n",
      "    \u001b[34mif\u001b[39;49;00m content_type == \u001b[33m'\u001b[39;49;00m\u001b[33mtext/plain\u001b[39;49;00m\u001b[33m'\u001b[39;49;00m:\r\n",
      "        data = serialized_input_data.decode(\u001b[33m'\u001b[39;49;00m\u001b[33mutf-8\u001b[39;49;00m\u001b[33m'\u001b[39;49;00m)\r\n",
      "        \u001b[34mreturn\u001b[39;49;00m data\r\n",
      "    \u001b[34mraise\u001b[39;49;00m \u001b[36mException\u001b[39;49;00m(\u001b[33m'\u001b[39;49;00m\u001b[33mRequested unsupported ContentType in content_type: \u001b[39;49;00m\u001b[33m'\u001b[39;49;00m + content_type)\r\n",
      "\r\n",
      "\u001b[34mdef\u001b[39;49;00m \u001b[32moutput_fn\u001b[39;49;00m(prediction_output, accept):\r\n",
      "    \u001b[36mprint\u001b[39;49;00m(\u001b[33m'\u001b[39;49;00m\u001b[33mSerializing the generated output.\u001b[39;49;00m\u001b[33m'\u001b[39;49;00m)\r\n",
      "    \u001b[34mreturn\u001b[39;49;00m \u001b[36mstr\u001b[39;49;00m(prediction_output)\r\n",
      "\r\n",
      "\u001b[34mdef\u001b[39;49;00m \u001b[32mpredict_fn\u001b[39;49;00m(input_data, model):\r\n",
      "    \u001b[36mprint\u001b[39;49;00m(\u001b[33m'\u001b[39;49;00m\u001b[33mInferring sentiment of input data.\u001b[39;49;00m\u001b[33m'\u001b[39;49;00m)\r\n",
      "\r\n",
      "    device = torch.device(\u001b[33m\"\u001b[39;49;00m\u001b[33mcuda\u001b[39;49;00m\u001b[33m\"\u001b[39;49;00m \u001b[34mif\u001b[39;49;00m torch.cuda.is_available() \u001b[34melse\u001b[39;49;00m \u001b[33m\"\u001b[39;49;00m\u001b[33mcpu\u001b[39;49;00m\u001b[33m\"\u001b[39;49;00m)\r\n",
      "    \r\n",
      "    \u001b[34mif\u001b[39;49;00m model.word_dict \u001b[35mis\u001b[39;49;00m \u001b[34mNone\u001b[39;49;00m:\r\n",
      "        \u001b[34mraise\u001b[39;49;00m \u001b[36mException\u001b[39;49;00m(\u001b[33m'\u001b[39;49;00m\u001b[33mModel has not been loaded properly, no word_dict.\u001b[39;49;00m\u001b[33m'\u001b[39;49;00m)\r\n",
      "    \r\n",
      "    \u001b[37m# TODO: Process input_data so that it is ready to be sent to our model.\u001b[39;49;00m\r\n",
      "    \u001b[37m#       You should produce two variables:\u001b[39;49;00m\r\n",
      "    \u001b[37m#         data_X   - A sequence of length 500 which represents the converted review\u001b[39;49;00m\r\n",
      "    \u001b[37m#         data_len - The length of the review\u001b[39;49;00m\r\n",
      "\r\n",
      "    data_X = \u001b[34mNone\u001b[39;49;00m\r\n",
      "    data_len = \u001b[34mNone\u001b[39;49;00m\r\n",
      "\r\n",
      "    \u001b[37m# Using data_X and data_len we construct an appropriate input tensor. Remember\u001b[39;49;00m\r\n",
      "    \u001b[37m# that our model expects input data of the form 'len, review[500]'.\u001b[39;49;00m\r\n",
      "    data_pack = np.hstack((data_len, data_X))\r\n",
      "    data_pack = data_pack.reshape(\u001b[34m1\u001b[39;49;00m, -\u001b[34m1\u001b[39;49;00m)\r\n",
      "    \r\n",
      "    data = torch.from_numpy(data_pack)\r\n",
      "    data = data.to(device)\r\n",
      "\r\n",
      "    \u001b[37m# Make sure to put the model into evaluation mode\u001b[39;49;00m\r\n",
      "    model.eval()\r\n",
      "\r\n",
      "    \u001b[37m# TODO: Compute the result of applying the model to the input data. The variable `result` should\u001b[39;49;00m\r\n",
      "    \u001b[37m#       be a numpy array which contains a single integer which is either 1 or 0\u001b[39;49;00m\r\n",
      "\r\n",
      "    result = \u001b[34mNone\u001b[39;49;00m\r\n",
      "\r\n",
      "    \u001b[34mreturn\u001b[39;49;00m result\r\n"
     ]
    }
   ],
   "source": [
    "!pygmentize serve/predict.py"
   ]
  },
  {
   "cell_type": "markdown",
   "metadata": {},
   "source": [
    "As mentioned earlier, the `model_fn` method is the same as the one provided in the training code and the `input_fn` and `output_fn` methods are very simple and your task will be to complete the `predict_fn` method. Make sure that you save the completed file as `predict.py` in the `serve` directory.\n",
    "\n",
    "**TODO**: Complete the `predict_fn()` method in the `serve/predict.py` file."
   ]
  },
  {
   "cell_type": "markdown",
   "metadata": {},
   "source": [
    "### Deploying the model\n",
    "\n",
    "Now that the custom inference code has been written, we will create and deploy our model. To begin with, we need to construct a new PyTorchModel object which points to the model artifacts created during training and also points to the inference code that we wish to use. Then we can call the deploy method to launch the deployment container.\n",
    "\n",
    "**NOTE**: The default behaviour for a deployed PyTorch model is to assume that any input passed to the predictor is a `numpy` array. In our case we want to send a string so we need to construct a simple wrapper around the `RealTimePredictor` class to accomodate simple strings. In a more complicated situation you may want to provide a serialization object, for example if you wanted to sent image data."
   ]
  },
  {
   "cell_type": "code",
   "execution_count": 41,
   "metadata": {},
   "outputs": [
    {
     "name": "stderr",
     "output_type": "stream",
     "text": [
      "Parameter image will be renamed to image_uri in SageMaker Python SDK v2.\n",
      "'create_image_uri' will be deprecated in favor of 'ImageURIProvider' class in SageMaker Python SDK v2.\n"
     ]
    },
    {
     "name": "stdout",
     "output_type": "stream",
     "text": [
      "---------------!"
     ]
    }
   ],
   "source": [
    "from sagemaker.predictor import RealTimePredictor\n",
    "from sagemaker.pytorch import PyTorchModel\n",
    "\n",
    "class StringPredictor(RealTimePredictor):\n",
    "    def __init__(self, endpoint_name, sagemaker_session):\n",
    "        super(StringPredictor, self).__init__(endpoint_name, sagemaker_session, content_type='text/plain')\n",
    "\n",
    "model = PyTorchModel(model_data=estimator.model_data,\n",
    "                     role = role,\n",
    "                     framework_version='0.4.0',\n",
    "                     entry_point='predict.py',\n",
    "                     source_dir='serve',\n",
    "                     predictor_cls=StringPredictor)\n",
    "predictor = model.deploy(initial_instance_count=1, instance_type='ml.m4.xlarge')"
   ]
  },
  {
   "cell_type": "markdown",
   "metadata": {},
   "source": [
    "### Testing the model\n",
    "\n",
    "Now that we have deployed our model with the custom inference code, we should test to see if everything is working. Here we test our model by loading the first `250` positive and negative reviews and send them to the endpoint, then collect the results. The reason for only sending some of the data is that the amount of time it takes for our model to process the input and then perform inference is quite long and so testing the entire data set would be prohibitive."
   ]
  },
  {
   "cell_type": "code",
   "execution_count": 42,
   "metadata": {},
   "outputs": [],
   "source": [
    "import glob\n",
    "\n",
    "def test_reviews(data_dir='../data/aclImdb', stop=250):\n",
    "    \n",
    "    results = []\n",
    "    ground = []\n",
    "    \n",
    "    # We make sure to test both positive and negative reviews    \n",
    "    for sentiment in ['pos', 'neg']:\n",
    "        \n",
    "        path = os.path.join(data_dir, 'test', sentiment, '*.txt')\n",
    "        files = glob.glob(path)\n",
    "        \n",
    "        files_read = 0\n",
    "        \n",
    "        print('Starting ', sentiment, ' files')\n",
    "        \n",
    "        # Iterate through the files and send them to the predictor\n",
    "        for f in files:\n",
    "            with open(f) as review:\n",
    "                # First, we store the ground truth (was the review positive or negative)\n",
    "                if sentiment == 'pos':\n",
    "                    ground.append(1)\n",
    "                else:\n",
    "                    ground.append(0)\n",
    "                # Read in the review and convert to 'utf-8' for transmission via HTTP\n",
    "                review_input = review.read().encode('utf-8')\n",
    "                # Send the review to the predictor and store the results\n",
    "                results.append(int(predictor.predict(review_input)))\n",
    "                \n",
    "            # Sending reviews to our endpoint one at a time takes a while so we\n",
    "            # only send a small number of reviews\n",
    "            files_read += 1\n",
    "            if files_read == stop:\n",
    "                break\n",
    "            \n",
    "    return ground, results"
   ]
  },
  {
   "cell_type": "code",
   "execution_count": 43,
   "metadata": {},
   "outputs": [
    {
     "name": "stdout",
     "output_type": "stream",
     "text": [
      "Starting  pos  files\n"
     ]
    },
    {
     "ename": "ModelError",
     "evalue": "An error occurred (ModelError) when calling the InvokeEndpoint operation: Received server error (500) from model with message \"<!DOCTYPE HTML PUBLIC \"-//W3C//DTD HTML 3.2 Final//EN\">\n<title>500 Internal Server Error</title>\n<h1>Internal Server Error</h1>\n<p>The server encountered an internal error and was unable to complete your request.  Either the server is overloaded or there is an error in the application.</p>\n\". See https://us-east-2.console.aws.amazon.com/cloudwatch/home?region=us-east-2#logEventViewer:group=/aws/sagemaker/Endpoints/sagemaker-pytorch-2021-03-04-18-05-47-566 in account 044373881906 for more information.",
     "output_type": "error",
     "traceback": [
      "\u001b[0;31m---------------------------------------------------------------------------\u001b[0m",
      "\u001b[0;31mModelError\u001b[0m                                Traceback (most recent call last)",
      "\u001b[0;32m<ipython-input-43-27d1fd4b7c7b>\u001b[0m in \u001b[0;36m<module>\u001b[0;34m\u001b[0m\n\u001b[0;32m----> 1\u001b[0;31m \u001b[0mground\u001b[0m\u001b[0;34m,\u001b[0m \u001b[0mresults\u001b[0m \u001b[0;34m=\u001b[0m \u001b[0mtest_reviews\u001b[0m\u001b[0;34m(\u001b[0m\u001b[0;34m)\u001b[0m\u001b[0;34m\u001b[0m\u001b[0;34m\u001b[0m\u001b[0m\n\u001b[0m",
      "\u001b[0;32m<ipython-input-42-4c56d4ff716b>\u001b[0m in \u001b[0;36mtest_reviews\u001b[0;34m(data_dir, stop)\u001b[0m\n\u001b[1;32m     27\u001b[0m                 \u001b[0mreview_input\u001b[0m \u001b[0;34m=\u001b[0m \u001b[0mreview\u001b[0m\u001b[0;34m.\u001b[0m\u001b[0mread\u001b[0m\u001b[0;34m(\u001b[0m\u001b[0;34m)\u001b[0m\u001b[0;34m.\u001b[0m\u001b[0mencode\u001b[0m\u001b[0;34m(\u001b[0m\u001b[0;34m'utf-8'\u001b[0m\u001b[0;34m)\u001b[0m\u001b[0;34m\u001b[0m\u001b[0;34m\u001b[0m\u001b[0m\n\u001b[1;32m     28\u001b[0m                 \u001b[0;31m# Send the review to the predictor and store the results\u001b[0m\u001b[0;34m\u001b[0m\u001b[0;34m\u001b[0m\u001b[0;34m\u001b[0m\u001b[0m\n\u001b[0;32m---> 29\u001b[0;31m                 \u001b[0mresults\u001b[0m\u001b[0;34m.\u001b[0m\u001b[0mappend\u001b[0m\u001b[0;34m(\u001b[0m\u001b[0mint\u001b[0m\u001b[0;34m(\u001b[0m\u001b[0mpredictor\u001b[0m\u001b[0;34m.\u001b[0m\u001b[0mpredict\u001b[0m\u001b[0;34m(\u001b[0m\u001b[0mreview_input\u001b[0m\u001b[0;34m)\u001b[0m\u001b[0;34m)\u001b[0m\u001b[0;34m)\u001b[0m\u001b[0;34m\u001b[0m\u001b[0;34m\u001b[0m\u001b[0m\n\u001b[0m\u001b[1;32m     30\u001b[0m \u001b[0;34m\u001b[0m\u001b[0m\n\u001b[1;32m     31\u001b[0m             \u001b[0;31m# Sending reviews to our endpoint one at a time takes a while so we\u001b[0m\u001b[0;34m\u001b[0m\u001b[0;34m\u001b[0m\u001b[0;34m\u001b[0m\u001b[0m\n",
      "\u001b[0;32m~/anaconda3/envs/pytorch_p36/lib/python3.6/site-packages/sagemaker/predictor.py\u001b[0m in \u001b[0;36mpredict\u001b[0;34m(self, data, initial_args, target_model, target_variant)\u001b[0m\n\u001b[1;32m    111\u001b[0m \u001b[0;34m\u001b[0m\u001b[0m\n\u001b[1;32m    112\u001b[0m         \u001b[0mrequest_args\u001b[0m \u001b[0;34m=\u001b[0m \u001b[0mself\u001b[0m\u001b[0;34m.\u001b[0m\u001b[0m_create_request_args\u001b[0m\u001b[0;34m(\u001b[0m\u001b[0mdata\u001b[0m\u001b[0;34m,\u001b[0m \u001b[0minitial_args\u001b[0m\u001b[0;34m,\u001b[0m \u001b[0mtarget_model\u001b[0m\u001b[0;34m,\u001b[0m \u001b[0mtarget_variant\u001b[0m\u001b[0;34m)\u001b[0m\u001b[0;34m\u001b[0m\u001b[0;34m\u001b[0m\u001b[0m\n\u001b[0;32m--> 113\u001b[0;31m         \u001b[0mresponse\u001b[0m \u001b[0;34m=\u001b[0m \u001b[0mself\u001b[0m\u001b[0;34m.\u001b[0m\u001b[0msagemaker_session\u001b[0m\u001b[0;34m.\u001b[0m\u001b[0msagemaker_runtime_client\u001b[0m\u001b[0;34m.\u001b[0m\u001b[0minvoke_endpoint\u001b[0m\u001b[0;34m(\u001b[0m\u001b[0;34m**\u001b[0m\u001b[0mrequest_args\u001b[0m\u001b[0;34m)\u001b[0m\u001b[0;34m\u001b[0m\u001b[0;34m\u001b[0m\u001b[0m\n\u001b[0m\u001b[1;32m    114\u001b[0m         \u001b[0;32mreturn\u001b[0m \u001b[0mself\u001b[0m\u001b[0;34m.\u001b[0m\u001b[0m_handle_response\u001b[0m\u001b[0;34m(\u001b[0m\u001b[0mresponse\u001b[0m\u001b[0;34m)\u001b[0m\u001b[0;34m\u001b[0m\u001b[0;34m\u001b[0m\u001b[0m\n\u001b[1;32m    115\u001b[0m \u001b[0;34m\u001b[0m\u001b[0m\n",
      "\u001b[0;32m~/anaconda3/envs/pytorch_p36/lib/python3.6/site-packages/botocore/client.py\u001b[0m in \u001b[0;36m_api_call\u001b[0;34m(self, *args, **kwargs)\u001b[0m\n\u001b[1;32m    355\u001b[0m                     \"%s() only accepts keyword arguments.\" % py_operation_name)\n\u001b[1;32m    356\u001b[0m             \u001b[0;31m# The \"self\" in this scope is referring to the BaseClient.\u001b[0m\u001b[0;34m\u001b[0m\u001b[0;34m\u001b[0m\u001b[0;34m\u001b[0m\u001b[0m\n\u001b[0;32m--> 357\u001b[0;31m             \u001b[0;32mreturn\u001b[0m \u001b[0mself\u001b[0m\u001b[0;34m.\u001b[0m\u001b[0m_make_api_call\u001b[0m\u001b[0;34m(\u001b[0m\u001b[0moperation_name\u001b[0m\u001b[0;34m,\u001b[0m \u001b[0mkwargs\u001b[0m\u001b[0;34m)\u001b[0m\u001b[0;34m\u001b[0m\u001b[0;34m\u001b[0m\u001b[0m\n\u001b[0m\u001b[1;32m    358\u001b[0m \u001b[0;34m\u001b[0m\u001b[0m\n\u001b[1;32m    359\u001b[0m         \u001b[0m_api_call\u001b[0m\u001b[0;34m.\u001b[0m\u001b[0m__name__\u001b[0m \u001b[0;34m=\u001b[0m \u001b[0mstr\u001b[0m\u001b[0;34m(\u001b[0m\u001b[0mpy_operation_name\u001b[0m\u001b[0;34m)\u001b[0m\u001b[0;34m\u001b[0m\u001b[0;34m\u001b[0m\u001b[0m\n",
      "\u001b[0;32m~/anaconda3/envs/pytorch_p36/lib/python3.6/site-packages/botocore/client.py\u001b[0m in \u001b[0;36m_make_api_call\u001b[0;34m(self, operation_name, api_params)\u001b[0m\n\u001b[1;32m    674\u001b[0m             \u001b[0merror_code\u001b[0m \u001b[0;34m=\u001b[0m \u001b[0mparsed_response\u001b[0m\u001b[0;34m.\u001b[0m\u001b[0mget\u001b[0m\u001b[0;34m(\u001b[0m\u001b[0;34m\"Error\"\u001b[0m\u001b[0;34m,\u001b[0m \u001b[0;34m{\u001b[0m\u001b[0;34m}\u001b[0m\u001b[0;34m)\u001b[0m\u001b[0;34m.\u001b[0m\u001b[0mget\u001b[0m\u001b[0;34m(\u001b[0m\u001b[0;34m\"Code\"\u001b[0m\u001b[0;34m)\u001b[0m\u001b[0;34m\u001b[0m\u001b[0;34m\u001b[0m\u001b[0m\n\u001b[1;32m    675\u001b[0m             \u001b[0merror_class\u001b[0m \u001b[0;34m=\u001b[0m \u001b[0mself\u001b[0m\u001b[0;34m.\u001b[0m\u001b[0mexceptions\u001b[0m\u001b[0;34m.\u001b[0m\u001b[0mfrom_code\u001b[0m\u001b[0;34m(\u001b[0m\u001b[0merror_code\u001b[0m\u001b[0;34m)\u001b[0m\u001b[0;34m\u001b[0m\u001b[0;34m\u001b[0m\u001b[0m\n\u001b[0;32m--> 676\u001b[0;31m             \u001b[0;32mraise\u001b[0m \u001b[0merror_class\u001b[0m\u001b[0;34m(\u001b[0m\u001b[0mparsed_response\u001b[0m\u001b[0;34m,\u001b[0m \u001b[0moperation_name\u001b[0m\u001b[0;34m)\u001b[0m\u001b[0;34m\u001b[0m\u001b[0;34m\u001b[0m\u001b[0m\n\u001b[0m\u001b[1;32m    677\u001b[0m         \u001b[0;32melse\u001b[0m\u001b[0;34m:\u001b[0m\u001b[0;34m\u001b[0m\u001b[0;34m\u001b[0m\u001b[0m\n\u001b[1;32m    678\u001b[0m             \u001b[0;32mreturn\u001b[0m \u001b[0mparsed_response\u001b[0m\u001b[0;34m\u001b[0m\u001b[0;34m\u001b[0m\u001b[0m\n",
      "\u001b[0;31mModelError\u001b[0m: An error occurred (ModelError) when calling the InvokeEndpoint operation: Received server error (500) from model with message \"<!DOCTYPE HTML PUBLIC \"-//W3C//DTD HTML 3.2 Final//EN\">\n<title>500 Internal Server Error</title>\n<h1>Internal Server Error</h1>\n<p>The server encountered an internal error and was unable to complete your request.  Either the server is overloaded or there is an error in the application.</p>\n\". See https://us-east-2.console.aws.amazon.com/cloudwatch/home?region=us-east-2#logEventViewer:group=/aws/sagemaker/Endpoints/sagemaker-pytorch-2021-03-04-18-05-47-566 in account 044373881906 for more information."
     ]
    }
   ],
   "source": [
    "ground, results = test_reviews()"
   ]
  },
  {
   "cell_type": "code",
   "execution_count": null,
   "metadata": {},
   "outputs": [],
   "source": [
    "from sklearn.metrics import accuracy_score\n",
    "accuracy_score(ground, results)"
   ]
  },
  {
   "cell_type": "markdown",
   "metadata": {},
   "source": [
    "As an additional test, we can try sending the `test_review` that we looked at earlier."
   ]
  },
  {
   "cell_type": "code",
   "execution_count": null,
   "metadata": {},
   "outputs": [],
   "source": [
    "predictor.predict(test_review)"
   ]
  },
  {
   "cell_type": "markdown",
   "metadata": {},
   "source": [
    "Now that we know our endpoint is working as expected, we can set up the web page that will interact with it. If you don't have time to finish the project now, make sure to skip down to the end of this notebook and shut down your endpoint. You can deploy it again when you come back."
   ]
  },
  {
   "cell_type": "markdown",
   "metadata": {},
   "source": [
    "## Step 7 (again): Use the model for the web app\n",
    "\n",
    "> **TODO:** This entire section and the next contain tasks for you to complete, mostly using the AWS console.\n",
    "\n",
    "So far we have been accessing our model endpoint by constructing a predictor object which uses the endpoint and then just using the predictor object to perform inference. What if we wanted to create a web app which accessed our model? The way things are set up currently makes that not possible since in order to access a SageMaker endpoint the app would first have to authenticate with AWS using an IAM role which included access to SageMaker endpoints. However, there is an easier way! We just need to use some additional AWS services.\n",
    "\n",
    "<img src=\"Web App Diagram.svg\">\n",
    "\n",
    "The diagram above gives an overview of how the various services will work together. On the far right is the model which we trained above and which is deployed using SageMaker. On the far left is our web app that collects a user's movie review, sends it off and expects a positive or negative sentiment in return.\n",
    "\n",
    "In the middle is where some of the magic happens. We will construct a Lambda function, which you can think of as a straightforward Python function that can be executed whenever a specified event occurs. We will give this function permission to send and recieve data from a SageMaker endpoint.\n",
    "\n",
    "Lastly, the method we will use to execute the Lambda function is a new endpoint that we will create using API Gateway. This endpoint will be a url that listens for data to be sent to it. Once it gets some data it will pass that data on to the Lambda function and then return whatever the Lambda function returns. Essentially it will act as an interface that lets our web app communicate with the Lambda function.\n",
    "\n",
    "### Setting up a Lambda function\n",
    "\n",
    "The first thing we are going to do is set up a Lambda function. This Lambda function will be executed whenever our public API has data sent to it. When it is executed it will receive the data, perform any sort of processing that is required, send the data (the review) to the SageMaker endpoint we've created and then return the result.\n",
    "\n",
    "#### Part A: Create an IAM Role for the Lambda function\n",
    "\n",
    "Since we want the Lambda function to call a SageMaker endpoint, we need to make sure that it has permission to do so. To do this, we will construct a role that we can later give the Lambda function.\n",
    "\n",
    "Using the AWS Console, navigate to the **IAM** page and click on **Roles**. Then, click on **Create role**. Make sure that the **AWS service** is the type of trusted entity selected and choose **Lambda** as the service that will use this role, then click **Next: Permissions**.\n",
    "\n",
    "In the search box type `sagemaker` and select the check box next to the **AmazonSageMakerFullAccess** policy. Then, click on **Next: Review**.\n",
    "\n",
    "Lastly, give this role a name. Make sure you use a name that you will remember later on, for example `LambdaSageMakerRole`. Then, click on **Create role**.\n",
    "\n",
    "#### Part B: Create a Lambda function\n",
    "\n",
    "Now it is time to actually create the Lambda function.\n",
    "\n",
    "Using the AWS Console, navigate to the AWS Lambda page and click on **Create a function**. When you get to the next page, make sure that **Author from scratch** is selected. Now, name your Lambda function, using a name that you will remember later on, for example `sentiment_analysis_func`. Make sure that the **Python 3.6** runtime is selected and then choose the role that you created in the previous part. Then, click on **Create Function**.\n",
    "\n",
    "On the next page you will see some information about the Lambda function you've just created. If you scroll down you should see an editor in which you can write the code that will be executed when your Lambda function is triggered. In our example, we will use the code below. \n",
    "\n",
    "```python\n",
    "# We need to use the low-level library to interact with SageMaker since the SageMaker API\n",
    "# is not available natively through Lambda.\n",
    "import boto3\n",
    "\n",
    "def lambda_handler(event, context):\n",
    "\n",
    "    # The SageMaker runtime is what allows us to invoke the endpoint that we've created.\n",
    "    runtime = boto3.Session().client('sagemaker-runtime')\n",
    "\n",
    "    # Now we use the SageMaker runtime to invoke our endpoint, sending the review we were given\n",
    "    response = runtime.invoke_endpoint(EndpointName = '**ENDPOINT NAME HERE**',    # The name of the endpoint we created\n",
    "                                       ContentType = 'text/plain',                 # The data format that is expected\n",
    "                                       Body = event['body'])                       # The actual review\n",
    "\n",
    "    # The response is an HTTP response whose body contains the result of our inference\n",
    "    result = response['Body'].read().decode('utf-8')\n",
    "\n",
    "    return {\n",
    "        'statusCode' : 200,\n",
    "        'headers' : { 'Content-Type' : 'text/plain', 'Access-Control-Allow-Origin' : '*' },\n",
    "        'body' : result\n",
    "    }\n",
    "```\n",
    "\n",
    "Once you have copy and pasted the code above into the Lambda code editor, replace the `**ENDPOINT NAME HERE**` portion with the name of the endpoint that we deployed earlier. You can determine the name of the endpoint using the code cell below."
   ]
  },
  {
   "cell_type": "code",
   "execution_count": null,
   "metadata": {},
   "outputs": [],
   "source": [
    "predictor.endpoint"
   ]
  },
  {
   "cell_type": "markdown",
   "metadata": {},
   "source": [
    "Once you have added the endpoint name to the Lambda function, click on **Save**. Your Lambda function is now up and running. Next we need to create a way for our web app to execute the Lambda function.\n",
    "\n",
    "### Setting up API Gateway\n",
    "\n",
    "Now that our Lambda function is set up, it is time to create a new API using API Gateway that will trigger the Lambda function we have just created.\n",
    "\n",
    "Using AWS Console, navigate to **Amazon API Gateway** and then click on **Get started**.\n",
    "\n",
    "On the next page, make sure that **New API** is selected and give the new api a name, for example, `sentiment_analysis_api`. Then, click on **Create API**.\n",
    "\n",
    "Now we have created an API, however it doesn't currently do anything. What we want it to do is to trigger the Lambda function that we created earlier.\n",
    "\n",
    "Select the **Actions** dropdown menu and click **Create Method**. A new blank method will be created, select its dropdown menu and select **POST**, then click on the check mark beside it.\n",
    "\n",
    "For the integration point, make sure that **Lambda Function** is selected and click on the **Use Lambda Proxy integration**. This option makes sure that the data that is sent to the API is then sent directly to the Lambda function with no processing. It also means that the return value must be a proper response object as it will also not be processed by API Gateway.\n",
    "\n",
    "Type the name of the Lambda function you created earlier into the **Lambda Function** text entry box and then click on **Save**. Click on **OK** in the pop-up box that then appears, giving permission to API Gateway to invoke the Lambda function you created.\n",
    "\n",
    "The last step in creating the API Gateway is to select the **Actions** dropdown and click on **Deploy API**. You will need to create a new Deployment stage and name it anything you like, for example `prod`.\n",
    "\n",
    "You have now successfully set up a public API to access your SageMaker model. Make sure to copy or write down the URL provided to invoke your newly created public API as this will be needed in the next step. This URL can be found at the top of the page, highlighted in blue next to the text **Invoke URL**."
   ]
  },
  {
   "cell_type": "markdown",
   "metadata": {},
   "source": [
    "## Step 4: Deploying our web app\n",
    "\n",
    "Now that we have a publicly available API, we can start using it in a web app. For our purposes, we have provided a simple static html file which can make use of the public api you created earlier.\n",
    "\n",
    "In the `website` folder there should be a file called `index.html`. Download the file to your computer and open that file up in a text editor of your choice. There should be a line which contains **\\*\\*REPLACE WITH PUBLIC API URL\\*\\***. Replace this string with the url that you wrote down in the last step and then save the file.\n",
    "\n",
    "Now, if you open `index.html` on your local computer, your browser will behave as a local web server and you can use the provided site to interact with your SageMaker model.\n",
    "\n",
    "If you'd like to go further, you can host this html file anywhere you'd like, for example using github or hosting a static site on Amazon's S3. Once you have done this you can share the link with anyone you'd like and have them play with it too!\n",
    "\n",
    "> **Important Note** In order for the web app to communicate with the SageMaker endpoint, the endpoint has to actually be deployed and running. This means that you are paying for it. Make sure that the endpoint is running when you want to use the web app but that you shut it down when you don't need it, otherwise you will end up with a surprisingly large AWS bill.\n",
    "\n",
    "**TODO:** Make sure that you include the edited `index.html` file in your project submission."
   ]
  },
  {
   "cell_type": "markdown",
   "metadata": {},
   "source": [
    "Now that your web app is working, trying playing around with it and see how well it works.\n",
    "\n",
    "**Question**: Give an example of a review that you entered into your web app. What was the predicted sentiment of your example review?"
   ]
  },
  {
   "cell_type": "markdown",
   "metadata": {},
   "source": [
    "**Answer:**"
   ]
  },
  {
   "cell_type": "markdown",
   "metadata": {},
   "source": [
    "### Delete the endpoint\n",
    "\n",
    "Remember to always shut down your endpoint if you are no longer using it. You are charged for the length of time that the endpoint is running so if you forget and leave it on you could end up with an unexpectedly large bill."
   ]
  },
  {
   "cell_type": "code",
   "execution_count": null,
   "metadata": {},
   "outputs": [],
   "source": [
    "predictor.delete_endpoint()"
   ]
  },
  {
   "cell_type": "code",
   "execution_count": null,
   "metadata": {},
   "outputs": [],
   "source": []
  }
 ],
 "metadata": {
  "kernelspec": {
   "display_name": "conda_pytorch_p36",
   "language": "python",
   "name": "conda_pytorch_p36"
  },
  "language_info": {
   "codemirror_mode": {
    "name": "ipython",
    "version": 3
   },
   "file_extension": ".py",
   "mimetype": "text/x-python",
   "name": "python",
   "nbconvert_exporter": "python",
   "pygments_lexer": "ipython3",
   "version": "3.6.10"
  }
 },
 "nbformat": 4,
 "nbformat_minor": 2
}
